{
  "nbformat": 4,
  "nbformat_minor": 0,
  "metadata": {
    "colab": {
      "name": "Mercari NN-proba.ipynb",
      "version": "0.3.2",
      "provenance": [],
      "collapsed_sections": [
        "IFc3-Nt0OjGz",
        "eJMgJxMH71Xa",
        "T7AUTH1aZ2qH",
        "8pWYCnjVUUJq"
      ]
    },
    "kernelspec": {
      "name": "python3",
      "display_name": "Python 3"
    }
  },
  "cells": [
    {
      "cell_type": "markdown",
      "metadata": {
        "id": "wTwJVJhfUCyj",
        "colab_type": "text"
      },
      "source": [
        "### Iz eksploratorne\n"
      ]
    },
    {
      "cell_type": "code",
      "metadata": {
        "id": "0iGnh1a0aTOO",
        "colab_type": "code",
        "colab": {}
      },
      "source": [
        "import functools\n",
        "import warnings\n",
        "\n",
        "import matplotlib as mlp\n",
        "import matplotlib.pyplot as plt\n",
        "import seaborn as sns\n",
        "\n",
        "import numpy as np\n",
        "import pandas as pd\n",
        "\n",
        "from mpl_toolkits.mplot3d.axes3d import Axes3D\n",
        "\n",
        "from sklearn.feature_extraction.text import CountVectorizer, TfidfVectorizer\n",
        "from sklearn.preprocessing import LabelBinarizer\n",
        "from keras.preprocessing.text import Tokenizer\n",
        "from sklearn.preprocessing import LabelEncoder, MinMaxScaler, StandardScaler\n",
        "from sklearn.model_selection import train_test_split\n",
        "from keras.preprocessing.sequence import pad_sequences\n",
        "%matplotlib inline\n",
        "import pickle\n",
        "\n",
        "from keras import backend as K\n",
        "import gc\n",
        "import time\n",
        "import math"
      ],
      "execution_count": 0,
      "outputs": []
    },
    {
      "cell_type": "code",
      "metadata": {
        "id": "bnCUGemoanxf",
        "colab_type": "code",
        "colab": {}
      },
      "source": [
        "data = pd.read_csv('train.tsv', sep='\\t')\n",
        "test=pd.read_csv('test.tsv', sep='\\t')\n",
        "\n",
        "data.set_index('train_id', inplace=True) # stavimo da train_id bude indeks, onaj kojeg pandas kreira je nepotreban\n",
        "test.set_index('test_id', inplace=True)"
      ],
      "execution_count": 0,
      "outputs": []
    },
    {
      "cell_type": "markdown",
      "metadata": {
        "id": "CmeqQk7zbHsw",
        "colab_type": "text"
      },
      "source": [
        "\"Mala\" nadopuna missing vrijednosti brand_name"
      ]
    },
    {
      "cell_type": "code",
      "metadata": {
        "id": "pJCXcUAmbOC1",
        "colab_type": "code",
        "colab": {}
      },
      "source": [
        "brandovi1=data['brand_name']\n",
        "brandovi2=test['brand_name']\n",
        "svi_brandovi1=set(brandovi1.values)\n",
        "svi_brandovi2=set(brandovi1.values)\n",
        "\n",
        "svi_brandovi1 = {x for x in svi_brandovi1 if pd.notna(x)}\n",
        "svi_brandovi2 = {x for x in svi_brandovi1 if pd.notna(x)}\n",
        "\n",
        "svi_brandovi1-={'M', 'K', 'X'}\n",
        "svi_brandovi2-={'M', 'K', 'X'}\n",
        "\n",
        "def trazilica1(objekt):\n",
        "    brand=objekt[0]\n",
        "    ime=objekt[1]\n",
        "    if pd.isna(brand):\n",
        "        for i in svi_brandovi1:\n",
        "            if i in ime:\n",
        "                return i\n",
        "    return brand\n",
        "  \n",
        "def trazilica2(objekt):\n",
        "    brand=objekt[0]\n",
        "    ime=objekt[1]\n",
        "    if pd.isna(brand):\n",
        "        for i in svi_brandovi2:\n",
        "            if i in ime:\n",
        "                return i\n",
        "    return brand\n",
        "data['brand_name']=data[['brand_name', 'name']].apply(trazilica1, axis=1)\n",
        "test['brand_name']=test[['brand_name', 'name']].apply(trazilica2, axis=1)"
      ],
      "execution_count": 0,
      "outputs": []
    },
    {
      "cell_type": "markdown",
      "metadata": {
        "id": "I8BR2MDOby8-",
        "colab_type": "text"
      },
      "source": [
        "Kako se izboriti s missing vrijednostima"
      ]
    },
    {
      "cell_type": "code",
      "metadata": {
        "id": "04VEJJc9bWg2",
        "colab_type": "code",
        "colab": {}
      },
      "source": [
        "def handle_missing_inplace(dataset):\n",
        "    dataset['subcat1'].fillna(value='No Label', inplace=True)\n",
        "    dataset['subcat2'].fillna(value='No Label', inplace=True)\n",
        "    dataset['subcat3'].fillna(value='No Label', inplace=True)\n",
        "    dataset['brand_name'].fillna(value='missing', inplace=True)\n",
        "    dataset['item_description'].fillna(value='No description yet', inplace=True)"
      ],
      "execution_count": 0,
      "outputs": []
    },
    {
      "cell_type": "markdown",
      "metadata": {
        "id": "rcmrXLK1db21",
        "colab_type": "text"
      },
      "source": [
        "Funkcija za odvajanje kategorija"
      ]
    },
    {
      "cell_type": "code",
      "metadata": {
        "id": "VXLSw59mdbp-",
        "colab_type": "code",
        "colab": {}
      },
      "source": [
        "def split_cat(text):\n",
        "    try: return text.split(\"/\")\n",
        "    except: return (\"No Label\", \"No Label\", \"No Label\")"
      ],
      "execution_count": 0,
      "outputs": []
    },
    {
      "cell_type": "markdown",
      "metadata": {
        "id": "2mfK7BZkdiJl",
        "colab_type": "text"
      },
      "source": [
        "Funkcija za računanje rmsle"
      ]
    },
    {
      "cell_type": "code",
      "metadata": {
        "id": "T9BGP8AkdlHR",
        "colab_type": "code",
        "colab": {}
      },
      "source": [
        "def rmsle(y, y_pred):\n",
        "    assert len(y) == len(y_pred)\n",
        "    to_sum = [(math.log(y_pred[i] + 1) - math.log(y[i] + 1)) ** 2.0 \\\n",
        "              for i, pred in enumerate(y_pred)]\n",
        "    return (sum(to_sum) * (1.0/len(y))) ** 0.5\n"
      ],
      "execution_count": 0,
      "outputs": []
    },
    {
      "cell_type": "markdown",
      "metadata": {
        "id": "gw0cfwYU_JQS",
        "colab_type": "text"
      },
      "source": [
        "Podjela na 3 kategorije."
      ]
    },
    {
      "cell_type": "code",
      "metadata": {
        "id": "TnqNjrs4-kGl",
        "colab_type": "code",
        "colab": {}
      },
      "source": [
        "data['subcat1'], data['subcat2'], data['subcat3'] = \\\n",
        "zip(*data['category_name'].apply(lambda x: split_cat(x)))\n",
        "data.drop('category_name', axis=1, inplace=True)\n",
        "\n",
        "test['subcat1'], test['subcat2'], test['subcat3'] = \\\n",
        "zip(*test['category_name'].apply(lambda x: split_cat(x)))\n",
        "test.drop('category_name', axis=1, inplace=True)"
      ],
      "execution_count": 0,
      "outputs": []
    },
    {
      "cell_type": "markdown",
      "metadata": {
        "id": "GOtPXG66_OZM",
        "colab_type": "text"
      },
      "source": [
        "Nadopuna missing vrijednosti"
      ]
    },
    {
      "cell_type": "code",
      "metadata": {
        "id": "y46XOdjf-9p0",
        "colab_type": "code",
        "colab": {}
      },
      "source": [
        "handle_missing_inplace(data)\n",
        "handle_missing_inplace(test)"
      ],
      "execution_count": 0,
      "outputs": []
    },
    {
      "cell_type": "markdown",
      "metadata": {
        "id": "JAnkowQ3Bz4J",
        "colab_type": "text"
      },
      "source": [
        "Preprocesiranje kategoričkih varijabli pomoću label encodera"
      ]
    },
    {
      "cell_type": "code",
      "metadata": {
        "id": "VH_hBUcVB104",
        "colab_type": "code",
        "outputId": "20a5f8c1-818a-48c8-ee99-658f01da40ef",
        "colab": {
          "base_uri": "https://localhost:8080/",
          "height": 175
        }
      },
      "source": [
        "le = LabelEncoder()\n",
        "\n",
        "le.fit(np.hstack([data.subcat1, test.subcat1]))\n",
        "data.subcat1 = le.transform(data.subcat1)\n",
        "test.subcat1 = le.transform(test.subcat1)\n",
        "\n",
        "le.fit(np.hstack([data.subcat2, test.subcat2]))\n",
        "data.subcat2 = le.transform(data.subcat2)\n",
        "test.subcat2 = le.transform(test.subcat2)\n",
        "\n",
        "le.fit(np.hstack([data.subcat3, test.subcat3]))\n",
        "data.subcat3 = le.transform(data.subcat3)\n",
        "test.subcat3 = le.transform(test.subcat3)\n",
        "\n",
        "le.fit(np.hstack([data.brand_name, test.brand_name]))\n",
        "data.brand_name = le.transform(data.brand_name)\n",
        "test.brand_name = le.transform(test.brand_name)\n",
        "del le\n",
        "\n",
        "data.head(3)"
      ],
      "execution_count": 12,
      "outputs": [
        {
          "output_type": "execute_result",
          "data": {
            "text/html": [
              "<div>\n",
              "<style scoped>\n",
              "    .dataframe tbody tr th:only-of-type {\n",
              "        vertical-align: middle;\n",
              "    }\n",
              "\n",
              "    .dataframe tbody tr th {\n",
              "        vertical-align: top;\n",
              "    }\n",
              "\n",
              "    .dataframe thead th {\n",
              "        text-align: right;\n",
              "    }\n",
              "</style>\n",
              "<table border=\"1\" class=\"dataframe\">\n",
              "  <thead>\n",
              "    <tr style=\"text-align: right;\">\n",
              "      <th></th>\n",
              "      <th>name</th>\n",
              "      <th>item_condition_id</th>\n",
              "      <th>brand_name</th>\n",
              "      <th>price</th>\n",
              "      <th>shipping</th>\n",
              "      <th>item_description</th>\n",
              "      <th>subcat1</th>\n",
              "      <th>subcat2</th>\n",
              "      <th>subcat3</th>\n",
              "    </tr>\n",
              "    <tr>\n",
              "      <th>train_id</th>\n",
              "      <th></th>\n",
              "      <th></th>\n",
              "      <th></th>\n",
              "      <th></th>\n",
              "      <th></th>\n",
              "      <th></th>\n",
              "      <th></th>\n",
              "      <th></th>\n",
              "      <th></th>\n",
              "    </tr>\n",
              "  </thead>\n",
              "  <tbody>\n",
              "    <tr>\n",
              "      <th>0</th>\n",
              "      <td>MLB Cincinnati Reds T Shirt Size XL</td>\n",
              "      <td>3</td>\n",
              "      <td>2917</td>\n",
              "      <td>10.0</td>\n",
              "      <td>1</td>\n",
              "      <td>No description yet</td>\n",
              "      <td>5</td>\n",
              "      <td>103</td>\n",
              "      <td>774</td>\n",
              "    </tr>\n",
              "    <tr>\n",
              "      <th>1</th>\n",
              "      <td>Razer BlackWidow Chroma Keyboard</td>\n",
              "      <td>3</td>\n",
              "      <td>3889</td>\n",
              "      <td>52.0</td>\n",
              "      <td>0</td>\n",
              "      <td>This keyboard is in great condition and works ...</td>\n",
              "      <td>1</td>\n",
              "      <td>30</td>\n",
              "      <td>215</td>\n",
              "    </tr>\n",
              "    <tr>\n",
              "      <th>2</th>\n",
              "      <td>AVA-VIV Blouse</td>\n",
              "      <td>1</td>\n",
              "      <td>4588</td>\n",
              "      <td>10.0</td>\n",
              "      <td>1</td>\n",
              "      <td>Adorable top with a hint of lace and a key hol...</td>\n",
              "      <td>10</td>\n",
              "      <td>104</td>\n",
              "      <td>97</td>\n",
              "    </tr>\n",
              "  </tbody>\n",
              "</table>\n",
              "</div>"
            ],
            "text/plain": [
              "                                         name  ...  subcat3\n",
              "train_id                                       ...         \n",
              "0         MLB Cincinnati Reds T Shirt Size XL  ...      774\n",
              "1            Razer BlackWidow Chroma Keyboard  ...      215\n",
              "2                              AVA-VIV Blouse  ...       97\n",
              "\n",
              "[3 rows x 9 columns]"
            ]
          },
          "metadata": {
            "tags": []
          },
          "execution_count": 12
        }
      ]
    },
    {
      "cell_type": "markdown",
      "metadata": {
        "id": "QZVjiUhQzB9V",
        "colab_type": "text"
      },
      "source": [
        "E sad želimo tokenizirati tekstualne podatke. To ćemo napraviti prvo pomoću tokenizera iz keras.preprocessing"
      ]
    },
    {
      "cell_type": "code",
      "metadata": {
        "id": "P3-hY7RUzHSj",
        "colab_type": "code",
        "outputId": "4b066ecc-7fea-4904-b546-2a0593c7f568",
        "colab": {
          "base_uri": "https://localhost:8080/",
          "height": 299
        }
      },
      "source": [
        "print(\"Text to seq process...\")\n",
        "from keras.preprocessing.text import Tokenizer\n",
        "raw_text = np.hstack([data.item_description.str.lower(), data.name.str.lower()])\n",
        "\n",
        "print(\"   Fitting tokenizer...\")\n",
        "tok_raw = Tokenizer()\n",
        "tok_raw.fit_on_texts(raw_text)\n",
        "print(\"   Transforming text to seq...\")\n",
        "\n",
        "data[\"seq_item_description\"] = tok_raw.texts_to_sequences(data.item_description.str.lower())\n",
        "test[\"seq_item_description\"] = tok_raw.texts_to_sequences(test.item_description.str.lower())\n",
        "data[\"seq_name\"] = tok_raw.texts_to_sequences(data.name.str.lower())\n",
        "test[\"seq_name\"] = tok_raw.texts_to_sequences(test.name.str.lower())\n",
        "data.head(3)"
      ],
      "execution_count": 13,
      "outputs": [
        {
          "output_type": "stream",
          "text": [
            "Text to seq process...\n",
            "   Fitting tokenizer...\n",
            "   Transforming text to seq...\n"
          ],
          "name": "stdout"
        },
        {
          "output_type": "execute_result",
          "data": {
            "text/html": [
              "<div>\n",
              "<style scoped>\n",
              "    .dataframe tbody tr th:only-of-type {\n",
              "        vertical-align: middle;\n",
              "    }\n",
              "\n",
              "    .dataframe tbody tr th {\n",
              "        vertical-align: top;\n",
              "    }\n",
              "\n",
              "    .dataframe thead th {\n",
              "        text-align: right;\n",
              "    }\n",
              "</style>\n",
              "<table border=\"1\" class=\"dataframe\">\n",
              "  <thead>\n",
              "    <tr style=\"text-align: right;\">\n",
              "      <th></th>\n",
              "      <th>name</th>\n",
              "      <th>item_condition_id</th>\n",
              "      <th>brand_name</th>\n",
              "      <th>price</th>\n",
              "      <th>shipping</th>\n",
              "      <th>item_description</th>\n",
              "      <th>subcat1</th>\n",
              "      <th>subcat2</th>\n",
              "      <th>subcat3</th>\n",
              "      <th>seq_item_description</th>\n",
              "      <th>seq_name</th>\n",
              "    </tr>\n",
              "    <tr>\n",
              "      <th>train_id</th>\n",
              "      <th></th>\n",
              "      <th></th>\n",
              "      <th></th>\n",
              "      <th></th>\n",
              "      <th></th>\n",
              "      <th></th>\n",
              "      <th></th>\n",
              "      <th></th>\n",
              "      <th></th>\n",
              "      <th></th>\n",
              "      <th></th>\n",
              "    </tr>\n",
              "  </thead>\n",
              "  <tbody>\n",
              "    <tr>\n",
              "      <th>0</th>\n",
              "      <td>MLB Cincinnati Reds T Shirt Size XL</td>\n",
              "      <td>3</td>\n",
              "      <td>2917</td>\n",
              "      <td>10.0</td>\n",
              "      <td>1</td>\n",
              "      <td>No description yet</td>\n",
              "      <td>5</td>\n",
              "      <td>103</td>\n",
              "      <td>774</td>\n",
              "      <td>[12, 68, 79]</td>\n",
              "      <td>[3852, 8823, 6896, 208, 84, 6, 155]</td>\n",
              "    </tr>\n",
              "    <tr>\n",
              "      <th>1</th>\n",
              "      <td>Razer BlackWidow Chroma Keyboard</td>\n",
              "      <td>3</td>\n",
              "      <td>3889</td>\n",
              "      <td>52.0</td>\n",
              "      <td>0</td>\n",
              "      <td>This keyboard is in great condition and works ...</td>\n",
              "      <td>1</td>\n",
              "      <td>30</td>\n",
              "      <td>215</td>\n",
              "      <td>[29, 2627, 10, 7, 39, 17, 1, 207, 51, 19, 1113...</td>\n",
              "      <td>[10760, 25565, 16369, 2627]</td>\n",
              "    </tr>\n",
              "    <tr>\n",
              "      <th>2</th>\n",
              "      <td>AVA-VIV Blouse</td>\n",
              "      <td>1</td>\n",
              "      <td>4588</td>\n",
              "      <td>10.0</td>\n",
              "      <td>1</td>\n",
              "      <td>Adorable top with a hint of lace and a key hol...</td>\n",
              "      <td>10</td>\n",
              "      <td>104</td>\n",
              "      <td>97</td>\n",
              "      <td>[604, 60, 9, 4, 5347, 11, 192, 1, 4, 886, 1290...</td>\n",
              "      <td>[7634, 10563, 666]</td>\n",
              "    </tr>\n",
              "  </tbody>\n",
              "</table>\n",
              "</div>"
            ],
            "text/plain": [
              "                                         name  ...                             seq_name\n",
              "train_id                                       ...                                     \n",
              "0         MLB Cincinnati Reds T Shirt Size XL  ...  [3852, 8823, 6896, 208, 84, 6, 155]\n",
              "1            Razer BlackWidow Chroma Keyboard  ...          [10760, 25565, 16369, 2627]\n",
              "2                              AVA-VIV Blouse  ...                   [7634, 10563, 666]\n",
              "\n",
              "[3 rows x 11 columns]"
            ]
          },
          "metadata": {
            "tags": []
          },
          "execution_count": 13
        }
      ]
    },
    {
      "cell_type": "markdown",
      "metadata": {
        "id": "CQdL2Z5I3O7z",
        "colab_type": "text"
      },
      "source": [
        "Kao varijable seq_item_description i seq_name dobili smo nizove, nećemo uzeti najveću moguću veličinu, već onu u koju spada većina nizova; zato nam je potrebna ova analiza, da vidimo koja je najveća potrebna veličina za embeddanje."
      ]
    },
    {
      "cell_type": "code",
      "metadata": {
        "id": "Vv9BiSNk3tQl",
        "colab_type": "code",
        "outputId": "9dfe2931-cfb9-4c8c-87c8-03fd3d5a3b78",
        "colab": {
          "base_uri": "https://localhost:8080/",
          "height": 53
        }
      },
      "source": [
        "max_name_seq = np.max([np.max(data.seq_name.apply(lambda x: len(x))), np.max(test.seq_name.apply(lambda x: len(x)))])\n",
        "max_seq_item_description = np.max([np.max(data.seq_item_description.apply(lambda x: len(x)))\n",
        "                                   , np.max(test.seq_item_description.apply(lambda x: len(x)))])\n",
        "print(\"max name seq \"+str(max_name_seq))\n",
        "print(\"max item desc seq \"+str(max_seq_item_description))"
      ],
      "execution_count": 14,
      "outputs": [
        {
          "output_type": "stream",
          "text": [
            "max name seq 17\n",
            "max item desc seq 269\n"
          ],
          "name": "stdout"
        }
      ]
    },
    {
      "cell_type": "code",
      "metadata": {
        "id": "j9VzqvDm34Ma",
        "colab_type": "code",
        "outputId": "8f302459-ac54-4e67-e6b0-f45f76146d88",
        "colab": {
          "base_uri": "https://localhost:8080/",
          "height": 287
        }
      },
      "source": [
        "data.seq_name.apply(lambda x: len(x)).hist()"
      ],
      "execution_count": 15,
      "outputs": [
        {
          "output_type": "execute_result",
          "data": {
            "text/plain": [
              "<matplotlib.axes._subplots.AxesSubplot at 0x7f6769b91e48>"
            ]
          },
          "metadata": {
            "tags": []
          },
          "execution_count": 15
        },
        {
          "output_type": "display_data",
          "data": {
            "image/png": "[encoded data removed]",
            "text/plain": [
              "<Figure size 432x288 with 1 Axes>"
            ]
          },
          "metadata": {
            "tags": []
          }
        }
      ]
    },
    {
      "cell_type": "code",
      "metadata": {
        "id": "e45s6RnN38yp",
        "colab_type": "code",
        "outputId": "bc591cc6-0315-4c74-e9ff-7a8e63766c6b",
        "colab": {
          "base_uri": "https://localhost:8080/",
          "height": 287
        }
      },
      "source": [
        "data.seq_item_description.apply(lambda x: len(x)).hist()"
      ],
      "execution_count": 16,
      "outputs": [
        {
          "output_type": "execute_result",
          "data": {
            "text/plain": [
              "<matplotlib.axes._subplots.AxesSubplot at 0x7f675fdc6470>"
            ]
          },
          "metadata": {
            "tags": []
          },
          "execution_count": 16
        },
        {
          "output_type": "display_data",
          "data": {
            "image/png": "[encoded data removed]",
            "text/plain": [
              "<Figure size 432x288 with 1 Axes>"
            ]
          },
          "metadata": {
            "tags": []
          }
        }
      ]
    },
    {
      "cell_type": "markdown",
      "metadata": {
        "id": "-pS09_P-3_Wj",
        "colab_type": "text"
      },
      "source": [
        "Vidimo da nam je dovoljno uzeti MAX_NAME_SEQ = 10 i MAX_ITEM_DESC_SEQ = 75"
      ]
    },
    {
      "cell_type": "code",
      "metadata": {
        "id": "2oIYI_us4Jei",
        "colab_type": "code",
        "colab": {}
      },
      "source": [
        "MAX_NAME_SEQ = 8\n",
        "MAX_ITEM_DESC_SEQ = 75\n",
        "MAX_TEXT = np.max([np.max(data.seq_name.max())\n",
        "                   , np.max(test.seq_name.max())\n",
        "                  , np.max(data.seq_item_description.max())\n",
        "                  , np.max(test.seq_item_description.max())])+2\n",
        "MAX_CAT1 = np.max([data.subcat1.max(), test.subcat1.max()])+1\n",
        "MAX_CAT2 = np.max([data.subcat2.max(), test.subcat2.max()])+1\n",
        "MAX_CAT3 = np.max([data.subcat3.max(), test.subcat3.max()])+1\n",
        "\n",
        "MAX_BRAND = np.max([data.brand_name.max(), test.brand_name.max()])+1\n",
        "MAX_CONDITION = np.max([data.item_condition_id.max(), test.item_condition_id.max()])+1"
      ],
      "execution_count": 0,
      "outputs": []
    },
    {
      "cell_type": "markdown",
      "metadata": {
        "id": "nJmstaDE6iZ7",
        "colab_type": "text"
      },
      "source": [
        "Scaleamo target varijablu"
      ]
    },
    {
      "cell_type": "code",
      "metadata": {
        "id": "Xgabavnx6mch",
        "colab_type": "code",
        "outputId": "e8fddd05-55a6-4410-9b71-e9f463a40615",
        "colab": {
          "base_uri": "https://localhost:8080/",
          "height": 317
        }
      },
      "source": [
        "data[\"target\"] = np.log(data.price+1)\n",
        "target_scaler = MinMaxScaler(feature_range=(-1, 1))\n",
        "data[\"target\"] = target_scaler.fit_transform(data.target.values.reshape(-1,1))\n",
        "pd.DataFrame(data.target).hist()"
      ],
      "execution_count": 18,
      "outputs": [
        {
          "output_type": "execute_result",
          "data": {
            "text/plain": [
              "array([[<matplotlib.axes._subplots.AxesSubplot object at 0x7f675d5e7780>]],\n",
              "      dtype=object)"
            ]
          },
          "metadata": {
            "tags": []
          },
          "execution_count": 18
        },
        {
          "output_type": "display_data",
          "data": {
            "image/png": "[encoded data removed]",
            "text/plain": [
              "<Figure size 432x288 with 1 Axes>"
            ]
          },
          "metadata": {
            "tags": []
          }
        }
      ]
    },
    {
      "cell_type": "code",
      "metadata": {
        "id": "w9ij3ego6zQK",
        "colab_type": "code",
        "outputId": "22256472-a8b0-4c10-dc92-3999e4268f44",
        "colab": {
          "base_uri": "https://localhost:8080/",
          "height": 53
        }
      },
      "source": [
        "dtrain, dvalid = train_test_split(data, random_state=42, train_size=0.95)\n",
        "print(dtrain.shape)\n",
        "print(dvalid.shape)"
      ],
      "execution_count": 19,
      "outputs": [
        {
          "output_type": "stream",
          "text": [
            "(1408408, 12)\n",
            "(74127, 12)\n"
          ],
          "name": "stdout"
        }
      ]
    },
    {
      "cell_type": "code",
      "metadata": {
        "id": "aOtTmtS968Ji",
        "colab_type": "code",
        "colab": {}
      },
      "source": [
        "#KERAS DATA DEFINITION\n",
        "from keras.preprocessing.sequence import pad_sequences\n",
        "\n",
        "def get_keras_data(dataset):\n",
        "    X = {\n",
        "        'name': pad_sequences(dataset.seq_name, maxlen=MAX_NAME_SEQ)\n",
        "        ,'item_desc': pad_sequences(dataset.seq_item_description, maxlen=MAX_ITEM_DESC_SEQ)\n",
        "        ,'brand_name': np.array(dataset.brand_name)\n",
        "        ,'subcat1': np.array(dataset.subcat1)\n",
        "        ,'subcat2': np.array(dataset.subcat2)\n",
        "        ,'subcat3': np.array(dataset.subcat3)\n",
        "        ,'item_condition': np.array(dataset.item_condition_id)\n",
        "        ,'num_vars': np.array(dataset[[\"shipping\"]])\n",
        "    }\n",
        "    return X\n",
        "\n",
        "X_train = get_keras_data(dtrain)\n",
        "X_valid = get_keras_data(dvalid)\n",
        "X_test = get_keras_data(test)"
      ],
      "execution_count": 0,
      "outputs": []
    },
    {
      "cell_type": "code",
      "metadata": {
        "id": "wNkXi6iUm7jA",
        "colab_type": "code",
        "colab": {}
      },
      "source": [
        "from keras.layers import Input, Dropout, Dense, BatchNormalization, Activation, concatenate, GRU, Embedding, Flatten, BatchNormalization\n",
        "from keras.models import Model\n",
        "from keras.callbacks import ModelCheckpoint, Callback, EarlyStopping\n",
        "from keras import backend as K\n",
        "\n",
        "def get_callbacks(filepath, patience=2):\n",
        "    es = EarlyStopping('val_loss', patience=patience, mode=\"min\")\n",
        "    msave = ModelCheckpoint(filepath, save_best_only=True)\n",
        "    return [es, msave]\n",
        "\n",
        "def rmsle_cust(y_true, y_pred):\n",
        "    first_log = K.log(K.clip(y_pred, K.epsilon(), None) + 1.)\n",
        "    second_log = K.log(K.clip(y_true, K.epsilon(), None) + 1.)\n",
        "    return K.sqrt(K.mean(K.square(first_log - second_log), axis=-1))"
      ],
      "execution_count": 0,
      "outputs": []
    },
    {
      "cell_type": "markdown",
      "metadata": {
        "id": "IFc3-Nt0OjGz",
        "colab_type": "text"
      },
      "source": [
        "### Modeli"
      ]
    },
    {
      "cell_type": "code",
      "metadata": {
        "id": "uqtilAtl7RFz",
        "colab_type": "code",
        "colab": {}
      },
      "source": [
        "def get_model():\n",
        "    #params\n",
        "    dr_r = 0.1\n",
        "    \n",
        "    #Inputs\n",
        "    name = Input(shape=[X_train[\"name\"].shape[1]], name=\"name\")\n",
        "    item_desc = Input(shape=[X_train[\"item_desc\"].shape[1]], name=\"item_desc\")\n",
        "    brand_name = Input(shape=[1], name=\"brand_name\")\n",
        "    subcat1 = Input(shape=[1], name=\"subcat1\")\n",
        "    subcat2 = Input(shape=[1], name=\"subcat2\")\n",
        "    subcat3 = Input(shape=[1], name=\"subcat3\")\n",
        "    item_condition = Input(shape=[1], name=\"item_condition\")\n",
        "    num_vars = Input(shape=[X_train[\"num_vars\"].shape[1]], name=\"num_vars\")\n",
        "    \n",
        "    #Embeddings layers\n",
        "    emb_name = Embedding(MAX_TEXT, 50)(name)\n",
        "    emb_item_desc = Embedding(MAX_TEXT, 50)(item_desc)\n",
        "    emb_brand_name = Embedding(MAX_BRAND, 10)(brand_name)\n",
        "    emb_subcat1 = Embedding(MAX_CAT1, 10)(subcat1)\n",
        "    emb_subcat2 = Embedding(MAX_CAT2, 10)(subcat2)\n",
        "    emb_subcat3 = Embedding(MAX_CAT3, 10)(subcat3)\n",
        "    emb_item_condition = Embedding(MAX_CONDITION, 5)(item_condition)\n",
        "    \n",
        "    #rnn layer\n",
        "    rnn_layer1 = GRU(16) (emb_item_desc)\n",
        "    rnn_layer2 = GRU(8) (emb_name)\n",
        "    \n",
        "    #main layer\n",
        "    main_l = concatenate([\n",
        "        Flatten() (emb_brand_name)\n",
        "        , Flatten() (emb_subcat1)\n",
        "        , Flatten() (emb_subcat2)\n",
        "        , Flatten() (emb_subcat3)\n",
        "        , Flatten() (emb_item_condition)\n",
        "        , rnn_layer1\n",
        "        , rnn_layer2\n",
        "        , num_vars\n",
        "    ])\n",
        "    main_l = Dropout(dr_r) (Dense(128) (main_l))\n",
        "    main_l = Dropout(dr_r) (Dense(64) (main_l))\n",
        "    \n",
        "    #output\n",
        "    output = Dense(1, activation=\"linear\") (main_l)\n",
        "    \n",
        "    #model\n",
        "    model = Model([name, item_desc, brand_name, subcat1, subcat2, subcat3, item_condition, num_vars], output)\n",
        "    model.compile(loss=\"mse\", optimizer=\"adam\", metrics=[\"mae\", rmsle_cust])\n",
        "    \n",
        "    return model\n",
        "\n",
        "    \n",
        "model = get_model()\n",
        "model.summary()"
      ],
      "execution_count": 0,
      "outputs": []
    },
    {
      "cell_type": "code",
      "metadata": {
        "id": "tG9A03G89GK7",
        "colab_type": "code",
        "outputId": "961ff7ad-8e6a-4523-bf35-98c534ad66ed",
        "colab": {
          "base_uri": "https://localhost:8080/",
          "height": 394
        }
      },
      "source": [
        "dtrain.head()"
      ],
      "execution_count": 0,
      "outputs": [
        {
          "output_type": "execute_result",
          "data": {
            "text/html": [
              "<div>\n",
              "<style scoped>\n",
              "    .dataframe tbody tr th:only-of-type {\n",
              "        vertical-align: middle;\n",
              "    }\n",
              "\n",
              "    .dataframe tbody tr th {\n",
              "        vertical-align: top;\n",
              "    }\n",
              "\n",
              "    .dataframe thead th {\n",
              "        text-align: right;\n",
              "    }\n",
              "</style>\n",
              "<table border=\"1\" class=\"dataframe\">\n",
              "  <thead>\n",
              "    <tr style=\"text-align: right;\">\n",
              "      <th></th>\n",
              "      <th>name</th>\n",
              "      <th>item_condition_id</th>\n",
              "      <th>brand_name</th>\n",
              "      <th>price</th>\n",
              "      <th>shipping</th>\n",
              "      <th>item_description</th>\n",
              "      <th>subcat1</th>\n",
              "      <th>subcat2</th>\n",
              "      <th>subcat3</th>\n",
              "      <th>seq_item_description</th>\n",
              "      <th>seq_name</th>\n",
              "      <th>target</th>\n",
              "    </tr>\n",
              "    <tr>\n",
              "      <th>train_id</th>\n",
              "      <th></th>\n",
              "      <th></th>\n",
              "      <th></th>\n",
              "      <th></th>\n",
              "      <th></th>\n",
              "      <th></th>\n",
              "      <th></th>\n",
              "      <th></th>\n",
              "      <th></th>\n",
              "      <th></th>\n",
              "      <th></th>\n",
              "      <th></th>\n",
              "    </tr>\n",
              "  </thead>\n",
              "  <tbody>\n",
              "    <tr>\n",
              "      <th>407853</th>\n",
              "      <td>maroon velvet lisette shorts</td>\n",
              "      <td>1</td>\n",
              "      <td>737</td>\n",
              "      <td>22.0</td>\n",
              "      <td>1</td>\n",
              "      <td>brand new from brandy melville</td>\n",
              "      <td>10</td>\n",
              "      <td>5</td>\n",
              "      <td>706</td>\n",
              "      <td>[16, 5, 43, 536, 587]</td>\n",
              "      <td>[836, 1038, 18025, 129]</td>\n",
              "      <td>-0.175509</td>\n",
              "    </tr>\n",
              "    <tr>\n",
              "      <th>748699</th>\n",
              "      <td>Benefit Roller Lash Mascara FULL SIZE</td>\n",
              "      <td>2</td>\n",
              "      <td>574</td>\n",
              "      <td>14.0</td>\n",
              "      <td>1</td>\n",
              "      <td>Benefit Roller Lash Mascara FULL SIZE in the c...</td>\n",
              "      <td>0</td>\n",
              "      <td>63</td>\n",
              "      <td>301</td>\n",
              "      <td>[1232, 2593, 1292, 643, 152, 6, 7, 2, 48, 24, ...</td>\n",
              "      <td>[1232, 2593, 1292, 643, 152, 6]</td>\n",
              "      <td>-0.287907</td>\n",
              "    </tr>\n",
              "    <tr>\n",
              "      <th>320295</th>\n",
              "      <td>Holographic Ipsy Bag</td>\n",
              "      <td>2</td>\n",
              "      <td>5265</td>\n",
              "      <td>7.0</td>\n",
              "      <td>0</td>\n",
              "      <td>Used once</td>\n",
              "      <td>10</td>\n",
              "      <td>112</td>\n",
              "      <td>223</td>\n",
              "      <td>[31, 96]</td>\n",
              "      <td>[2875, 2240, 101]</td>\n",
              "      <td>-0.453202</td>\n",
              "    </tr>\n",
              "    <tr>\n",
              "      <th>1094144</th>\n",
              "      <td>Samsung galaxy on5 10/10 con. W/metropcs</td>\n",
              "      <td>2</td>\n",
              "      <td>4121</td>\n",
              "      <td>40.0</td>\n",
              "      <td>1</td>\n",
              "      <td>No description yet</td>\n",
              "      <td>1</td>\n",
              "      <td>23</td>\n",
              "      <td>178</td>\n",
              "      <td>[12, 68, 79]</td>\n",
              "      <td>[440, 438, 12298, 95, 95, 3901, 245, 11128]</td>\n",
              "      <td>-0.023501</td>\n",
              "    </tr>\n",
              "    <tr>\n",
              "      <th>1310650</th>\n",
              "      <td>Country Heat</td>\n",
              "      <td>2</td>\n",
              "      <td>5265</td>\n",
              "      <td>28.0</td>\n",
              "      <td>0</td>\n",
              "      <td>Comes with 4 DVDs and a bonus DVD. Also comes ...</td>\n",
              "      <td>1</td>\n",
              "      <td>65</td>\n",
              "      <td>240</td>\n",
              "      <td>[103, 9, 47, 2354, 1, 4, 2205, 699, 154, 103, ...</td>\n",
              "      <td>[2215, 1160]</td>\n",
              "      <td>-0.114556</td>\n",
              "    </tr>\n",
              "  </tbody>\n",
              "</table>\n",
              "</div>"
            ],
            "text/plain": [
              "                                              name  ...    target\n",
              "train_id                                            ...          \n",
              "407853                maroon velvet lisette shorts  ... -0.175509\n",
              "748699       Benefit Roller Lash Mascara FULL SIZE  ... -0.287907\n",
              "320295                        Holographic Ipsy Bag  ... -0.453202\n",
              "1094144   Samsung galaxy on5 10/10 con. W/metropcs  ... -0.023501\n",
              "1310650                               Country Heat  ... -0.114556\n",
              "\n",
              "[5 rows x 12 columns]"
            ]
          },
          "metadata": {
            "tags": []
          },
          "execution_count": 29
        }
      ]
    },
    {
      "cell_type": "code",
      "metadata": {
        "id": "b8F9V5198NPS",
        "colab_type": "code",
        "colab": {}
      },
      "source": [
        "#FITTING THE MODEL\n",
        "BATCH_SIZE = 20000\n",
        "epochs = 5\n",
        "\n",
        "model = get_model()\n",
        "model.fit(X_train, dtrain.target, epochs=epochs, batch_size=BATCH_SIZE\n",
        "          , validation_data=(X_valid, dvalid.target)\n",
        "          , verbose=1)"
      ],
      "execution_count": 0,
      "outputs": []
    },
    {
      "cell_type": "markdown",
      "metadata": {
        "id": "M-x7ksW7Ie3G",
        "colab_type": "text"
      },
      "source": [
        "Greške na training skupu nakon 5.epohe:\n",
        "loss: 0.0146 - mean_absolute_error: 0.0914 - rmsle_cust: 0.0120 - val_loss: 0.0154 - val_mean_absolute_error: 0.0932 - val_rmsle_cust: 0.0125"
      ]
    },
    {
      "cell_type": "markdown",
      "metadata": {
        "id": "QeE4w_t1EWtg",
        "colab_type": "text"
      },
      "source": [
        "Evaluiramo model na validacijskom skupu"
      ]
    },
    {
      "cell_type": "code",
      "metadata": {
        "id": "nCNu0iHbEVqZ",
        "colab_type": "code",
        "colab": {}
      },
      "source": [
        "#EVALUATE THE MODEL ON DEV TEST: What is it doing?\n",
        "val_preds = model.predict(X_valid)\n",
        "val_preds = target_scaler.inverse_transform(val_preds)\n",
        "val_preds = np.exp(val_preds)+1\n",
        "\n",
        "#mean_absolute_error, mean_squared_log_error\n",
        "y_true = np.array(dvalid.price.values)\n",
        "y_pred = val_preds[:,0]\n",
        "v_rmsle = rmsle(y_true, y_pred)\n",
        "print(\" RMSLE na validacijskom: \"+str(v_rmsle))"
      ],
      "execution_count": 0,
      "outputs": []
    },
    {
      "cell_type": "markdown",
      "metadata": {
        "id": "HzOlAxQ1SxKz",
        "colab_type": "text"
      },
      "source": [
        " RMSLE na validacijskom: 0.4855084693671954\n"
      ]
    },
    {
      "cell_type": "markdown",
      "metadata": {
        "id": "F9g_W14NJLJp",
        "colab_type": "text"
      },
      "source": [
        "Idem isprobati malo drukčije:\n",
        "smanjit ćemo batch size, staviti 5 epoha i dalje, dodati još jedan layer"
      ]
    },
    {
      "cell_type": "code",
      "metadata": {
        "id": "JuRHDma3JZBQ",
        "colab_type": "code",
        "colab": {}
      },
      "source": [
        "def get_model1():\n",
        "    #params\n",
        "    dr_r = 0.1\n",
        "    \n",
        "    #Inputs\n",
        "    name = Input(shape=[X_train[\"name\"].shape[1]], name=\"name\")\n",
        "    item_desc = Input(shape=[X_train[\"item_desc\"].shape[1]], name=\"item_desc\")\n",
        "    brand_name = Input(shape=[1], name=\"brand_name\")\n",
        "    subcat1 = Input(shape=[1], name=\"subcat1\")\n",
        "    subcat2 = Input(shape=[1], name=\"subcat2\")\n",
        "    subcat3 = Input(shape=[1], name=\"subcat3\")\n",
        "    item_condition = Input(shape=[1], name=\"item_condition\")\n",
        "    num_vars = Input(shape=[X_train[\"num_vars\"].shape[1]], name=\"num_vars\")\n",
        "    \n",
        "    #Embeddings layers\n",
        "    emb_name = Embedding(MAX_TEXT, 64)(name)\n",
        "    emb_item_desc = Embedding(MAX_TEXT, 64)(item_desc)\n",
        "    emb_brand_name = Embedding(MAX_BRAND, 16)(brand_name)\n",
        "    emb_subcat1 = Embedding(MAX_CAT1, 16)(subcat1)\n",
        "    emb_subcat2 = Embedding(MAX_CAT2, 16)(subcat2)\n",
        "    emb_subcat3 = Embedding(MAX_CAT3, 16)(subcat3)\n",
        "    emb_item_condition = Embedding(MAX_CONDITION, 5)(item_condition)\n",
        "    \n",
        "    #rnn layer\n",
        "    rnn_layer1 = GRU(16) (emb_item_desc)\n",
        "    rnn_layer2 = GRU(8) (emb_name)\n",
        "    rnn_layer3 = GRU(4)(emb_brand_name) \n",
        "    \n",
        "    #main layer\n",
        "    main_l = concatenate([\n",
        "        rnn_layer3\n",
        "        , Flatten() (emb_subcat1)\n",
        "        , Flatten() (emb_subcat2)\n",
        "        , Flatten() (emb_subcat3)\n",
        "        , Flatten() (emb_item_condition)\n",
        "        , rnn_layer1\n",
        "        , rnn_layer2\n",
        "        , num_vars\n",
        "    ])\n",
        "    main_l = Dropout(dr_r) (Dense(128) (main_l))\n",
        "    main_l = Dropout(dr_r) (Dense(64) (main_l))\n",
        "    \n",
        "    #output\n",
        "    output = Dense(1, activation=\"linear\") (main_l)\n",
        "    \n",
        "    #model\n",
        "    model = Model([name, item_desc, brand_name, subcat1, subcat2, subcat3, item_condition, num_vars], output)\n",
        "    model.compile(loss=\"mse\", optimizer=\"adam\", metrics=[\"mae\", rmsle_cust])\n",
        "    \n",
        "    return model"
      ],
      "execution_count": 0,
      "outputs": []
    },
    {
      "cell_type": "code",
      "metadata": {
        "id": "wQqBEOq-KPCw",
        "colab_type": "code",
        "outputId": "7fbda011-edb0-41b1-c831-4cb6dc631ef2",
        "colab": {
          "base_uri": "https://localhost:8080/",
          "height": 1303
        }
      },
      "source": [
        "model = get_model1()\n",
        "model.summary()"
      ],
      "execution_count": 0,
      "outputs": [
        {
          "output_type": "stream",
          "text": [
            "__________________________________________________________________________________________________\n",
            "Layer (type)                    Output Shape         Param #     Connected to                     \n",
            "==================================================================================================\n",
            "brand_name (InputLayer)         (None, 1)            0                                            \n",
            "__________________________________________________________________________________________________\n",
            "subcat1 (InputLayer)            (None, 1)            0                                            \n",
            "__________________________________________________________________________________________________\n",
            "subcat2 (InputLayer)            (None, 1)            0                                            \n",
            "__________________________________________________________________________________________________\n",
            "subcat3 (InputLayer)            (None, 1)            0                                            \n",
            "__________________________________________________________________________________________________\n",
            "item_condition (InputLayer)     (None, 1)            0                                            \n",
            "__________________________________________________________________________________________________\n",
            "item_desc (InputLayer)          (None, 75)           0                                            \n",
            "__________________________________________________________________________________________________\n",
            "name (InputLayer)               (None, 10)           0                                            \n",
            "__________________________________________________________________________________________________\n",
            "embedding_17 (Embedding)        (None, 1, 16)        84640       brand_name[0][0]                 \n",
            "__________________________________________________________________________________________________\n",
            "embedding_18 (Embedding)        (None, 1, 16)        176         subcat1[0][0]                    \n",
            "__________________________________________________________________________________________________\n",
            "embedding_19 (Embedding)        (None, 1, 16)        1824        subcat2[0][0]                    \n",
            "__________________________________________________________________________________________________\n",
            "embedding_20 (Embedding)        (None, 1, 16)        14128       subcat3[0][0]                    \n",
            "__________________________________________________________________________________________________\n",
            "embedding_21 (Embedding)        (None, 1, 5)         30          item_condition[0][0]             \n",
            "__________________________________________________________________________________________________\n",
            "embedding_16 (Embedding)        (None, 75, 64)       16581632    item_desc[0][0]                  \n",
            "__________________________________________________________________________________________________\n",
            "embedding_15 (Embedding)        (None, 10, 64)       16581632    name[0][0]                       \n",
            "__________________________________________________________________________________________________\n",
            "gru_7 (GRU)                     (None, 4)            252         embedding_17[0][0]               \n",
            "__________________________________________________________________________________________________\n",
            "flatten_11 (Flatten)            (None, 16)           0           embedding_18[0][0]               \n",
            "__________________________________________________________________________________________________\n",
            "flatten_12 (Flatten)            (None, 16)           0           embedding_19[0][0]               \n",
            "__________________________________________________________________________________________________\n",
            "flatten_13 (Flatten)            (None, 16)           0           embedding_20[0][0]               \n",
            "__________________________________________________________________________________________________\n",
            "flatten_14 (Flatten)            (None, 5)            0           embedding_21[0][0]               \n",
            "__________________________________________________________________________________________________\n",
            "gru_5 (GRU)                     (None, 16)           3888        embedding_16[0][0]               \n",
            "__________________________________________________________________________________________________\n",
            "gru_6 (GRU)                     (None, 8)            1752        embedding_15[0][0]               \n",
            "__________________________________________________________________________________________________\n",
            "num_vars (InputLayer)           (None, 1)            0                                            \n",
            "__________________________________________________________________________________________________\n",
            "concatenate_3 (Concatenate)     (None, 82)           0           gru_7[0][0]                      \n",
            "                                                                 flatten_11[0][0]                 \n",
            "                                                                 flatten_12[0][0]                 \n",
            "                                                                 flatten_13[0][0]                 \n",
            "                                                                 flatten_14[0][0]                 \n",
            "                                                                 gru_5[0][0]                      \n",
            "                                                                 gru_6[0][0]                      \n",
            "                                                                 num_vars[0][0]                   \n",
            "__________________________________________________________________________________________________\n",
            "dense_7 (Dense)                 (None, 128)          10624       concatenate_3[0][0]              \n",
            "__________________________________________________________________________________________________\n",
            "dropout_5 (Dropout)             (None, 128)          0           dense_7[0][0]                    \n",
            "__________________________________________________________________________________________________\n",
            "dense_8 (Dense)                 (None, 64)           8256        dropout_5[0][0]                  \n",
            "__________________________________________________________________________________________________\n",
            "dropout_6 (Dropout)             (None, 64)           0           dense_8[0][0]                    \n",
            "__________________________________________________________________________________________________\n",
            "dense_9 (Dense)                 (None, 1)            65          dropout_6[0][0]                  \n",
            "==================================================================================================\n",
            "Total params: 33,288,899\n",
            "Trainable params: 33,288,899\n",
            "Non-trainable params: 0\n",
            "__________________________________________________________________________________________________\n"
          ],
          "name": "stdout"
        }
      ]
    },
    {
      "cell_type": "code",
      "metadata": {
        "id": "TNsoNOCRKKng",
        "colab_type": "code",
        "outputId": "3103dd74-2392-45dd-c6e1-7a1625c5e889",
        "colab": {
          "base_uri": "https://localhost:8080/",
          "height": 237
        }
      },
      "source": [
        "#FITTING THE MODEL\n",
        "BATCH_SIZE = 10000\n",
        "epochs = 5\n",
        "\n",
        "model = get_model1()\n",
        "model.fit(X_train, dtrain.target, epochs=epochs, batch_size=BATCH_SIZE\n",
        "          , validation_data=(X_valid, dvalid.target)\n",
        "          , verbose=1)"
      ],
      "execution_count": 0,
      "outputs": [
        {
          "output_type": "stream",
          "text": [
            "Train on 1408408 samples, validate on 74127 samples\n",
            "Epoch 1/5\n",
            "1408408/1408408 [==============================] - 370s 263us/step - loss: 0.0287 - mean_absolute_error: 0.1263 - rmsle_cust: 0.0161 - val_loss: 0.0175 - val_mean_absolute_error: 0.0999 - val_rmsle_cust: 0.0134\n",
            "Epoch 2/5\n",
            "1408408/1408408 [==============================] - 356s 253us/step - loss: 0.0174 - mean_absolute_error: 0.0997 - rmsle_cust: 0.0130 - val_loss: 0.0162 - val_mean_absolute_error: 0.0959 - val_rmsle_cust: 0.0129\n",
            "Epoch 3/5\n",
            "1408408/1408408 [==============================] - 362s 257us/step - loss: 0.0154 - mean_absolute_error: 0.0940 - rmsle_cust: 0.0123 - val_loss: 0.0153 - val_mean_absolute_error: 0.0933 - val_rmsle_cust: 0.0125\n",
            "Epoch 4/5\n",
            "1408408/1408408 [==============================] - 374s 265us/step - loss: 0.0143 - mean_absolute_error: 0.0903 - rmsle_cust: 0.0119 - val_loss: 0.0151 - val_mean_absolute_error: 0.0924 - val_rmsle_cust: 0.0123\n",
            "Epoch 5/5\n",
            "1408408/1408408 [==============================] - 364s 258us/step - loss: 0.0134 - mean_absolute_error: 0.0874 - rmsle_cust: 0.0115 - val_loss: 0.0149 - val_mean_absolute_error: 0.0918 - val_rmsle_cust: 0.0122\n"
          ],
          "name": "stdout"
        },
        {
          "output_type": "execute_result",
          "data": {
            "text/plain": [
              "<keras.callbacks.History at 0x7f00318f4898>"
            ]
          },
          "metadata": {
            "tags": []
          },
          "execution_count": 26
        }
      ]
    },
    {
      "cell_type": "markdown",
      "metadata": {
        "id": "MVAag6YOahPJ",
        "colab_type": "text"
      },
      "source": [
        "Greške na training skupu: \n",
        "loss: 0.0133 - mean_absolute_error: 0.0868 - rmsle_cust: 0.0115 - val_loss: 0.0150 - val_mean_absolute_error: 0.0929 - val_rmsle_cust: 0.0122"
      ]
    },
    {
      "cell_type": "code",
      "metadata": {
        "id": "_ku4cUy_Kvty",
        "colab_type": "code",
        "outputId": "445792d7-e0d9-48be-b393-d247c28eafc9",
        "colab": {
          "base_uri": "https://localhost:8080/",
          "height": 35
        }
      },
      "source": [
        "#EVLUEATE THE MODEL ON DEV TEST: What is it doing?\n",
        "val_preds = model.predict(X_valid)\n",
        "val_preds = target_scaler.inverse_transform(val_preds)\n",
        "val_preds = np.exp(val_preds)+1\n",
        "\n",
        "#mean_absolute_error, mean_squared_log_error\n",
        "y_true = np.array(dvalid.price.values)\n",
        "y_pred = val_preds[:,0]\n",
        "v_rmsle = rmsle(y_true, y_pred)\n",
        "print(\" RMSLE na validacijskom: \"+str(v_rmsle))"
      ],
      "execution_count": 0,
      "outputs": [
        {
          "output_type": "stream",
          "text": [
            " RMSLE na validacijskom: 0.47965386188750087\n"
          ],
          "name": "stdout"
        }
      ]
    },
    {
      "cell_type": "markdown",
      "metadata": {
        "id": "rxd_KFIhTNIn",
        "colab_type": "text"
      },
      "source": [
        "RMSLE na validacijskom: 0.4787711738282493"
      ]
    },
    {
      "cell_type": "markdown",
      "metadata": {
        "id": "Jq9hmbMoVc_Q",
        "colab_type": "text"
      },
      "source": [
        "Ispalo je ponešto bolje. Što ako još smanjim batch size?"
      ]
    },
    {
      "cell_type": "code",
      "metadata": {
        "id": "Q5JEwYALViWo",
        "colab_type": "code",
        "outputId": "865c92d3-3fd9-469c-e3fd-5b0f8f07e38c",
        "colab": {
          "base_uri": "https://localhost:8080/",
          "height": 255
        }
      },
      "source": [
        "#FITTING THE MODEL\n",
        "BATCH_SIZE = 5000\n",
        "epochs = 5\n",
        "\n",
        "model = get_model1()\n",
        "model.fit(X_train, dtrain.target, epochs=epochs, batch_size=BATCH_SIZE\n",
        "          , validation_data=(X_valid, dvalid.target)\n",
        "          , verbose=1)"
      ],
      "execution_count": 0,
      "outputs": [
        {
          "output_type": "stream",
          "text": [
            "Train on 1467709 samples, validate on 14826 samples\n",
            "Epoch 1/5\n",
            "1467709/1467709 [==============================] - 552s 376us/step - loss: 0.0206 - mean_absolute_error: 0.1081 - rmsle_cust: 0.0138 - val_loss: 0.0158 - val_mean_absolute_error: 0.0951 - val_rmsle_cust: 0.0126\n",
            "Epoch 2/5\n",
            "1467709/1467709 [==============================] - 548s 373us/step - loss: 0.0152 - mean_absolute_error: 0.0933 - rmsle_cust: 0.0123 - val_loss: 0.0152 - val_mean_absolute_error: 0.0940 - val_rmsle_cust: 0.0122\n",
            "Epoch 3/5\n",
            "1467709/1467709 [==============================] - 548s 373us/step - loss: 0.0141 - mean_absolute_error: 0.0894 - rmsle_cust: 0.0118 - val_loss: 0.0149 - val_mean_absolute_error: 0.0927 - val_rmsle_cust: 0.0123\n",
            "Epoch 4/5\n",
            "1467709/1467709 [==============================] - 547s 373us/step - loss: 0.0131 - mean_absolute_error: 0.0862 - rmsle_cust: 0.0114 - val_loss: 0.0148 - val_mean_absolute_error: 0.0921 - val_rmsle_cust: 0.0121\n",
            "Epoch 5/5\n",
            "1467709/1467709 [==============================] - 546s 372us/step - loss: 0.0123 - mean_absolute_error: 0.0834 - rmsle_cust: 0.0109 - val_loss: 0.0147 - val_mean_absolute_error: 0.0915 - val_rmsle_cust: 0.0120\n"
          ],
          "name": "stdout"
        },
        {
          "output_type": "execute_result",
          "data": {
            "text/plain": [
              "<keras.callbacks.History at 0x7f390dd3ef28>"
            ]
          },
          "metadata": {
            "tags": []
          },
          "execution_count": 36
        }
      ]
    },
    {
      "cell_type": "markdown",
      "metadata": {
        "id": "Wh6_Fs5_ZXMq",
        "colab_type": "text"
      },
      "source": [
        "Greška na test skupu:\n",
        "loss: 0.0123 - mean_absolute_error: 0.0834 - rmsle_cust: 0.0109 - val_loss: 0.0147 - val_mean_absolute_error: 0.0915 - val_rmsle_cust: 0.0120\n"
      ]
    },
    {
      "cell_type": "code",
      "metadata": {
        "id": "qtuq0eZ8WJHw",
        "colab_type": "code",
        "outputId": "f781ba72-acf5-4fd0-cbd5-75a85c1b66ef",
        "colab": {
          "base_uri": "https://localhost:8080/",
          "height": 35
        }
      },
      "source": [
        "#EVLUEATE THE MODEL ON DEV TEST: What is it doing?\n",
        "val_preds = model.predict(X_valid)\n",
        "val_preds = target_scaler.inverse_transform(val_preds)\n",
        "val_preds = np.exp(val_preds)+1\n",
        "\n",
        "#mean_absolute_error, mean_squared_log_error\n",
        "y_true = np.array(dvalid.price.values)\n",
        "y_pred = val_preds[:,0]\n",
        "v_rmsle = rmsle(y_true, y_pred)\n",
        "print(\" RMSLE na validacijskom: \"+str(v_rmsle))"
      ],
      "execution_count": 0,
      "outputs": [
        {
          "output_type": "stream",
          "text": [
            " RMSLE na validacijskom: 0.4771689923714617\n"
          ],
          "name": "stdout"
        }
      ]
    },
    {
      "cell_type": "markdown",
      "metadata": {
        "id": "n9YdjQm-j5G6",
        "colab_type": "text"
      },
      "source": [
        "RMSLE na validacijskom: 0.4771689923714617"
      ]
    },
    {
      "cell_type": "markdown",
      "metadata": {
        "id": "3_GeEyKGXHcP",
        "colab_type": "text"
      },
      "source": [
        "Što se dogodi ako ubacim još koji dropout?"
      ]
    },
    {
      "cell_type": "code",
      "metadata": {
        "id": "LTitzgD5XGA5",
        "colab_type": "code",
        "colab": {}
      },
      "source": [
        "def get_model2():\n",
        "    #params\n",
        "    dr_r = 0.1\n",
        "    \n",
        "    #Inputs\n",
        "    name = Input(shape=[X_train[\"name\"].shape[1]], name=\"name\")\n",
        "    item_desc = Input(shape=[X_train[\"item_desc\"].shape[1]], name=\"item_desc\")\n",
        "    brand_name = Input(shape=[1], name=\"brand_name\")\n",
        "    subcat1 = Input(shape=[1], name=\"subcat1\")\n",
        "    subcat2 = Input(shape=[1], name=\"subcat2\")\n",
        "    subcat3 = Input(shape=[1], name=\"subcat3\")\n",
        "    item_condition = Input(shape=[1], name=\"item_condition\")\n",
        "    num_vars = Input(shape=[X_train[\"num_vars\"].shape[1]], name=\"num_vars\")\n",
        "    \n",
        "    #Embeddings layers\n",
        "    emb_name = Embedding(MAX_TEXT, 50)(name)\n",
        "    emb_item_desc = Embedding(MAX_TEXT, 50)(item_desc)\n",
        "    emb_brand_name = Embedding(MAX_BRAND, 10)(brand_name)\n",
        "    emb_subcat1 = Embedding(MAX_CAT1, 10)(subcat1)\n",
        "    emb_subcat2 = Embedding(MAX_CAT2, 10)(subcat2)\n",
        "    emb_subcat3 = Embedding(MAX_CAT3, 10)(subcat3)\n",
        "    emb_item_condition = Embedding(MAX_CONDITION, 5)(item_condition)\n",
        "    \n",
        "    #rnn layer\n",
        "    rnn_layer1 = GRU(16) (emb_item_desc)\n",
        "    rnn_layer2 = GRU(8) (emb_name)\n",
        "    \n",
        "    #main layer\n",
        "    main_l = concatenate([\n",
        "        Flatten() (emb_brand_name)\n",
        "        , Flatten() (emb_subcat1)\n",
        "        , Flatten() (emb_subcat2)\n",
        "        , Flatten() (emb_subcat3)\n",
        "        , Flatten() (emb_item_condition)\n",
        "        , rnn_layer1\n",
        "        , rnn_layer2\n",
        "        , num_vars\n",
        "    ])\n",
        "    \n",
        "    main_l = Dropout(0.3)(Dense(512,kernel_initializer='normal',activation='relu') (main_l))\n",
        "    main_l = Dropout(0.3)(Dense(256,kernel_initializer='normal',activation='relu') (main_l))\n",
        "    main_l = Dropout(0.3)(Dense(128,kernel_initializer='normal',activation='relu') (main_l))\n",
        "    main_l = Dropout(0.3)(Dense(64,kernel_initializer='normal',activation='relu') (main_l))\n",
        "\n",
        "    \n",
        "    #output\n",
        "    output = Dense(1, activation=\"linear\") (main_l)\n",
        "    \n",
        "    #model\n",
        "    model = Model([name, item_desc, brand_name, subcat1, subcat2, subcat3, item_condition, num_vars], output)\n",
        "    model.compile(loss=\"mse\", optimizer=\"adam\", metrics=[\"mae\", rmsle_cust])\n",
        "    \n",
        "    return model\n",
        "\n",
        "    \n",
        "model = get_model2()\n",
        "model.summary()"
      ],
      "execution_count": 0,
      "outputs": []
    },
    {
      "cell_type": "code",
      "metadata": {
        "id": "RySIvyNnZuII",
        "colab_type": "code",
        "outputId": "b645b85a-b4f2-4bb3-ae6a-db5b9965d949",
        "colab": {
          "base_uri": "https://localhost:8080/",
          "height": 237
        }
      },
      "source": [
        "#FITTING THE MODEL\n",
        "BATCH_SIZE = 10000\n",
        "epochs = 5\n",
        "\n",
        "model = get_model2()\n",
        "model.fit(X_train, dtrain.target, epochs=epochs, batch_size=BATCH_SIZE\n",
        "          , validation_data=(X_valid, dvalid.target)\n",
        "          , verbose=1)"
      ],
      "execution_count": 0,
      "outputs": [
        {
          "output_type": "stream",
          "text": [
            "Train on 1467709 samples, validate on 14826 samples\n",
            "Epoch 1/5\n",
            "1467709/1467709 [==============================] - 438s 298us/step - loss: 0.0261 - mean_absolute_error: 0.1224 - rmsle_cust: 0.0163 - val_loss: 0.0186 - val_mean_absolute_error: 0.1035 - val_rmsle_cust: 0.0161\n",
            "Epoch 2/5\n",
            "1467709/1467709 [==============================] - 427s 291us/step - loss: 0.0184 - mean_absolute_error: 0.1022 - rmsle_cust: 0.0161 - val_loss: 0.0172 - val_mean_absolute_error: 0.0995 - val_rmsle_cust: 0.0155\n",
            "Epoch 3/5\n",
            "1467709/1467709 [==============================] - 419s 286us/step - loss: 0.0170 - mean_absolute_error: 0.0979 - rmsle_cust: 0.0153 - val_loss: 0.0157 - val_mean_absolute_error: 0.0938 - val_rmsle_cust: 0.0149\n",
            "Epoch 4/5\n",
            "1467709/1467709 [==============================] - 428s 292us/step - loss: 0.0159 - mean_absolute_error: 0.0947 - rmsle_cust: 0.0146 - val_loss: 0.0153 - val_mean_absolute_error: 0.0923 - val_rmsle_cust: 0.0143\n",
            "Epoch 5/5\n",
            "1467709/1467709 [==============================] - 426s 290us/step - loss: 0.0151 - mean_absolute_error: 0.0924 - rmsle_cust: 0.0140 - val_loss: 0.0149 - val_mean_absolute_error: 0.0904 - val_rmsle_cust: 0.0140\n"
          ],
          "name": "stdout"
        },
        {
          "output_type": "execute_result",
          "data": {
            "text/plain": [
              "<keras.callbacks.History at 0x7f52d236dd68>"
            ]
          },
          "metadata": {
            "tags": []
          },
          "execution_count": 52
        }
      ]
    },
    {
      "cell_type": "markdown",
      "metadata": {
        "id": "pDINTX-lUI0h",
        "colab_type": "text"
      },
      "source": [
        "Greška na training skupu: \n",
        "loss: 0.0151 - mean_absolute_error: 0.0924 - rmsle_cust: 0.0140 - val_loss: 0.0149 - val_mean_absolute_error: 0.0904 - val_rmsle_cust: 0.0140"
      ]
    },
    {
      "cell_type": "code",
      "metadata": {
        "id": "Lf_oz_RSZ2R_",
        "colab_type": "code",
        "outputId": "5de884aa-2b7d-4d63-949d-13e59cf919f3",
        "colab": {
          "base_uri": "https://localhost:8080/",
          "height": 35
        }
      },
      "source": [
        "#EVLUEATE THE MODEL ON DEV TEST: What is it doing?\n",
        "val_preds = model.predict(X_valid)\n",
        "val_preds = target_scaler.inverse_transform(val_preds)\n",
        "val_preds = np.exp(val_preds)+1\n",
        "\n",
        "#mean_absolute_error, mean_squared_log_error\n",
        "y_true = np.array(dvalid.price.values)\n",
        "y_pred = val_preds[:,0]\n",
        "v_rmsle = rmsle(y_true, y_pred)\n",
        "print(\" RMSLE na validacijskom: \"+str(v_rmsle))"
      ],
      "execution_count": 0,
      "outputs": [
        {
          "output_type": "stream",
          "text": [
            " RMSLE na validacijskom: 0.4781637090029327\n"
          ],
          "name": "stdout"
        }
      ]
    },
    {
      "cell_type": "markdown",
      "metadata": {
        "id": "bbdqZjRQUU6g",
        "colab_type": "text"
      },
      "source": [
        " RMSLE na validacijskom: 0.4781637090029327\n"
      ]
    },
    {
      "cell_type": "markdown",
      "metadata": {
        "id": "D7Wh5UpmkEOJ",
        "colab_type": "text"
      },
      "source": [
        "Ako ubacimo još koji dropuot, ostaje otprilike isti rezultat, a vrijeme je jednako veliko"
      ]
    },
    {
      "cell_type": "markdown",
      "metadata": {
        "id": "FpMlWWoXhNOu",
        "colab_type": "text"
      },
      "source": [
        "Ako povećamo embedding faktore, što će se dogoditi?"
      ]
    },
    {
      "cell_type": "code",
      "metadata": {
        "id": "TZchUGXZhCiG",
        "colab_type": "code",
        "colab": {}
      },
      "source": [
        "def get_model4():\n",
        "    #params\n",
        "    dr_r = 0.1\n",
        "    \n",
        "    #Inputs\n",
        "    name = Input(shape=[X_train[\"name\"].shape[1]], name=\"name\")\n",
        "    item_desc = Input(shape=[X_train[\"item_desc\"].shape[1]], name=\"item_desc\")\n",
        "    brand_name = Input(shape=[1], name=\"brand_name\")\n",
        "    subcat1 = Input(shape=[1], name=\"subcat1\")\n",
        "    subcat2 = Input(shape=[1], name=\"subcat2\")\n",
        "    subcat3 = Input(shape=[1], name=\"subcat3\")\n",
        "    item_condition = Input(shape=[1], name=\"item_condition\")\n",
        "    num_vars = Input(shape=[X_train[\"num_vars\"].shape[1]], name=\"num_vars\")\n",
        "    \n",
        "    #Embeddings layers\n",
        "    emb_name = Embedding(MAX_TEXT, 128)(name)\n",
        "    emb_item_desc = Embedding(MAX_TEXT, 64)(item_desc)\n",
        "    emb_brand_name = Embedding(MAX_BRAND, 64)(brand_name)\n",
        "    emb_subcat1 = Embedding(MAX_CAT1, 32)(subcat1)\n",
        "    emb_subcat2 = Embedding(MAX_CAT2, 32)(subcat2)\n",
        "    emb_subcat3 = Embedding(MAX_CAT3, 32)(subcat3)\n",
        "    emb_item_condition = Embedding(MAX_CONDITION, 8)(item_condition)\n",
        "    \n",
        "    #rnn layer\n",
        "    rnn_layer1 = GRU(16) (emb_item_desc)\n",
        "    rnn_layer2 = GRU(8) (emb_name)\n",
        "    rnn_layer3 = GRU(4)(emb_brand_name) \n",
        "    \n",
        "    #main layer\n",
        "    main_l = concatenate([\n",
        "        rnn_layer3\n",
        "        , Flatten() (emb_subcat1)\n",
        "        , Flatten() (emb_subcat2)\n",
        "        , Flatten() (emb_subcat3)\n",
        "        , Flatten() (emb_item_condition)\n",
        "        , rnn_layer1\n",
        "        , rnn_layer2\n",
        "        , num_vars\n",
        "    ])\n",
        "    main_l = Dropout(dr_r) (Dense(128) (main_l))\n",
        "    main_l = Dropout(dr_r) (Dense(64) (main_l))\n",
        "    \n",
        "    #output\n",
        "    output = Dense(1, activation=\"linear\") (main_l)\n",
        "    \n",
        "    #model\n",
        "    model = Model([name, item_desc, brand_name, subcat1, subcat2, subcat3, item_condition, num_vars], output)\n",
        "    model.compile(loss=\"mse\", optimizer=\"adam\", metrics=[\"mae\", rmsle_cust])\n",
        "    \n",
        "    return model\n",
        "  \n",
        "model = get_model4()\n",
        "model.summary()"
      ],
      "execution_count": 0,
      "outputs": []
    },
    {
      "cell_type": "code",
      "metadata": {
        "id": "BaHP6R0ThUGr",
        "colab_type": "code",
        "outputId": "ef2046c6-7a1f-466f-ab57-fcb0dd3ecc3f",
        "colab": {
          "base_uri": "https://localhost:8080/",
          "height": 437
        }
      },
      "source": [
        "#FITTING THE MODEL\n",
        "BATCH_SIZE = 10000\n",
        "epochs = 10\n",
        "\n",
        "model = get_model4()\n",
        "model.fit(X_train, dtrain.target, epochs=epochs, batch_size=BATCH_SIZE\n",
        "          , validation_data=(X_valid, dvalid.target)\n",
        "          , verbose=1)"
      ],
      "execution_count": 0,
      "outputs": [
        {
          "output_type": "stream",
          "text": [
            "Train on 1467709 samples, validate on 14826 samples\n",
            "Epoch 1/10\n",
            "1467709/1467709 [==============================] - 458s 312us/step - loss: 0.0228 - mean_absolute_error: 0.1140 - rmsle_cust: 0.0143 - val_loss: 0.0164 - val_mean_absolute_error: 0.0972 - val_rmsle_cust: 0.0128\n",
            "Epoch 2/10\n",
            "1467709/1467709 [==============================] - 449s 306us/step - loss: 0.0160 - mean_absolute_error: 0.0956 - rmsle_cust: 0.0126 - val_loss: 0.0153 - val_mean_absolute_error: 0.0940 - val_rmsle_cust: 0.0124\n",
            "Epoch 3/10\n",
            "1467709/1467709 [==============================] - 453s 309us/step - loss: 0.0147 - mean_absolute_error: 0.0917 - rmsle_cust: 0.0121 - val_loss: 0.0151 - val_mean_absolute_error: 0.0935 - val_rmsle_cust: 0.0123\n",
            "Epoch 4/10\n",
            "1467709/1467709 [==============================] - 455s 310us/step - loss: 0.0139 - mean_absolute_error: 0.0890 - rmsle_cust: 0.0117 - val_loss: 0.0149 - val_mean_absolute_error: 0.0930 - val_rmsle_cust: 0.0121\n",
            "Epoch 5/10\n",
            "1467709/1467709 [==============================] - 448s 305us/step - loss: 0.0131 - mean_absolute_error: 0.0864 - rmsle_cust: 0.0113 - val_loss: 0.0149 - val_mean_absolute_error: 0.0925 - val_rmsle_cust: 0.0122\n",
            "Epoch 6/10\n",
            "1467709/1467709 [==============================] - 448s 305us/step - loss: 0.0126 - mean_absolute_error: 0.0843 - rmsle_cust: 0.0110 - val_loss: 0.0147 - val_mean_absolute_error: 0.0919 - val_rmsle_cust: 0.0121\n",
            "Epoch 7/10\n",
            "1467709/1467709 [==============================] - 467s 318us/step - loss: 0.0120 - mean_absolute_error: 0.0823 - rmsle_cust: 0.0107 - val_loss: 0.0147 - val_mean_absolute_error: 0.0919 - val_rmsle_cust: 0.0120\n",
            "Epoch 8/10\n",
            "1467709/1467709 [==============================] - 474s 323us/step - loss: 0.0116 - mean_absolute_error: 0.0805 - rmsle_cust: 0.0104 - val_loss: 0.0147 - val_mean_absolute_error: 0.0914 - val_rmsle_cust: 0.0120\n",
            "Epoch 9/10\n",
            "1467709/1467709 [==============================] - 483s 329us/step - loss: 0.0112 - mean_absolute_error: 0.0790 - rmsle_cust: 0.0101 - val_loss: 0.0146 - val_mean_absolute_error: 0.0912 - val_rmsle_cust: 0.0120\n",
            "Epoch 10/10\n",
            "1467709/1467709 [==============================] - 469s 319us/step - loss: 0.0108 - mean_absolute_error: 0.0776 - rmsle_cust: 0.0099 - val_loss: 0.0148 - val_mean_absolute_error: 0.0916 - val_rmsle_cust: 0.0122\n"
          ],
          "name": "stdout"
        },
        {
          "output_type": "execute_result",
          "data": {
            "text/plain": [
              "<keras.callbacks.History at 0x7f63eaa14e80>"
            ]
          },
          "metadata": {
            "tags": []
          },
          "execution_count": 29
        }
      ]
    },
    {
      "cell_type": "markdown",
      "metadata": {
        "id": "QUJJiBoYHKRR",
        "colab_type": "text"
      },
      "source": [
        "Greška na training skupu: loss: 0.0130 - mean_absolute_error: 0.0860 - rmsle_cust: 0.0113 - val_loss: 0.0146 - val_mean_absolute_error: 0.0916 - val_rmsle_cust: 0.0120"
      ]
    },
    {
      "cell_type": "code",
      "metadata": {
        "id": "ANChH7xKhi6L",
        "colab_type": "code",
        "outputId": "7d7d1ee0-607f-4113-8185-11f0e8222f55",
        "colab": {
          "base_uri": "https://localhost:8080/",
          "height": 35
        }
      },
      "source": [
        "#EVLUEATE THE MODEL ON DEV TEST: What is it doing?\n",
        "val_preds = model.predict(X_valid)\n",
        "val_preds = target_scaler.inverse_transform(val_preds)\n",
        "val_preds = np.exp(val_preds)+1\n",
        "\n",
        "#mean_absolute_error, mean_squared_log_error\n",
        "y_true = np.array(dvalid.price.values)\n",
        "y_pred = val_preds[:,0]\n",
        "v_rmsle = rmsle(y_true, y_pred)\n",
        "print(\" RMSLE na validacijskom: \"+str(v_rmsle))"
      ],
      "execution_count": 0,
      "outputs": [
        {
          "output_type": "stream",
          "text": [
            " RMSLE na validacijskom: 0.4809565860698974\n"
          ],
          "name": "stdout"
        }
      ]
    },
    {
      "cell_type": "markdown",
      "metadata": {
        "id": "6BMqjiD7HXip",
        "colab_type": "text"
      },
      "source": [
        "Nakon 5 epoha: RMSLE na validacijskom: 0.474487655036319\n",
        "\n",
        "Nakon 10 epoha:  RMSLE na validacijskom: 0.4809565860698974 \n",
        "pogorša se!\n"
      ]
    },
    {
      "cell_type": "markdown",
      "metadata": {
        "id": "ir_wvP4NXl2x",
        "colab_type": "text"
      },
      "source": [
        "Dodajemo nekoliko dense layera s aktivacijom relu"
      ]
    },
    {
      "cell_type": "code",
      "metadata": {
        "id": "NRg7kXNfKQ4o",
        "colab_type": "code",
        "colab": {
          "base_uri": "https://localhost:8080/",
          "height": 1289
        },
        "outputId": "7f6f7299-61f8-4224-aa43-0ae9ecdd0202"
      },
      "source": [
        "def get_model5():    \n",
        "    # Inputs\n",
        "    name = Input(shape=[X_train[\"name\"].shape[1]], name=\"name\")\n",
        "    item_desc = Input(shape=[X_train[\"item_desc\"].shape[1]], name=\"item_desc\")\n",
        "    brand_name = Input(shape=[1], name=\"brand_name\")\n",
        "    subcat1 = Input(shape=[1], name=\"subcat1\")\n",
        "    subcat2 = Input(shape=[1], name=\"subcat2\")\n",
        "    subcat3 = Input(shape=[1], name=\"subcat3\")\n",
        "    item_condition = Input(shape=[1], name=\"item_condition\")\n",
        "    num_vars = Input(shape=[X_train[\"num_vars\"].shape[1]], name=\"num_vars\")\n",
        "\n",
        "    # Embeddings layers\n",
        "    emb_name = Embedding(MAX_TEXT, 50)(name)\n",
        "    emb_item_desc = Embedding(MAX_TEXT, 60)(item_desc)\n",
        "    emb_brand_name = Embedding(MAX_BRAND, 10)(brand_name)\n",
        "    emb_subcat1 = Embedding(MAX_CAT1, 10)(subcat1)\n",
        "    emb_subcat2 = Embedding(MAX_CAT2, 10)(subcat2)\n",
        "    emb_subcat3 = Embedding(MAX_CAT3, 10)(subcat3)\n",
        "    \n",
        "    # rnn layers\n",
        "    rnn_layer1 = GRU(16) (emb_item_desc)\n",
        "    rnn_layer2 = GRU(8) (emb_name)\n",
        "\n",
        "    # main layers\n",
        "    main_l = concatenate([\n",
        "        Flatten() (emb_brand_name),\n",
        "        Flatten() (emb_subcat1),\n",
        "        Flatten() (emb_subcat2),\n",
        "        Flatten() (emb_subcat3),\n",
        "        item_condition,\n",
        "        rnn_layer1,\n",
        "        rnn_layer2,\n",
        "        num_vars,\n",
        "    ])\n",
        "\n",
        "    main_l = Dense(256)(main_l)\n",
        "    main_l = Activation('elu')(main_l)\n",
        "\n",
        "    main_l = Dense(128)(main_l)\n",
        "    main_l = Activation('elu')(main_l)\n",
        "\n",
        "    main_l = Dense(64)(main_l)\n",
        "    main_l = Activation('elu')(main_l)\n",
        "\n",
        "    # the output layer.\n",
        "    output = Dense(1, activation=\"linear\") (main_l)\n",
        "\n",
        "    model = Model([name, item_desc, brand_name, subcat1, subcat2, subcat3, item_condition, num_vars], output)\n",
        "\n",
        "    model.compile(loss=\"mse\", optimizer=\"adam\", metrics=[\"mae\", rmsle_cust])\n",
        "\n",
        "\n",
        "    return model\n",
        "\n",
        "model = get_model5()\n",
        "model.summary()"
      ],
      "execution_count": 30,
      "outputs": [
        {
          "output_type": "stream",
          "text": [
            "__________________________________________________________________________________________________\n",
            "Layer (type)                    Output Shape         Param #     Connected to                     \n",
            "==================================================================================================\n",
            "brand_name (InputLayer)         (None, 1)            0                                            \n",
            "__________________________________________________________________________________________________\n",
            "subcat1 (InputLayer)            (None, 1)            0                                            \n",
            "__________________________________________________________________________________________________\n",
            "subcat2 (InputLayer)            (None, 1)            0                                            \n",
            "__________________________________________________________________________________________________\n",
            "subcat3 (InputLayer)            (None, 1)            0                                            \n",
            "__________________________________________________________________________________________________\n",
            "item_desc (InputLayer)          (None, 75)           0                                            \n",
            "__________________________________________________________________________________________________\n",
            "name (InputLayer)               (None, 8)            0                                            \n",
            "__________________________________________________________________________________________________\n",
            "embedding_36 (Embedding)        (None, 1, 10)        52900       brand_name[0][0]                 \n",
            "__________________________________________________________________________________________________\n",
            "embedding_37 (Embedding)        (None, 1, 10)        110         subcat1[0][0]                    \n",
            "__________________________________________________________________________________________________\n",
            "embedding_38 (Embedding)        (None, 1, 10)        1140        subcat2[0][0]                    \n",
            "__________________________________________________________________________________________________\n",
            "embedding_39 (Embedding)        (None, 1, 10)        8830        subcat3[0][0]                    \n",
            "__________________________________________________________________________________________________\n",
            "embedding_35 (Embedding)        (None, 75, 60)       15545280    item_desc[0][0]                  \n",
            "__________________________________________________________________________________________________\n",
            "embedding_34 (Embedding)        (None, 8, 50)        12954400    name[0][0]                       \n",
            "__________________________________________________________________________________________________\n",
            "flatten_21 (Flatten)            (None, 10)           0           embedding_36[0][0]               \n",
            "__________________________________________________________________________________________________\n",
            "flatten_22 (Flatten)            (None, 10)           0           embedding_37[0][0]               \n",
            "__________________________________________________________________________________________________\n",
            "flatten_23 (Flatten)            (None, 10)           0           embedding_38[0][0]               \n",
            "__________________________________________________________________________________________________\n",
            "flatten_24 (Flatten)            (None, 10)           0           embedding_39[0][0]               \n",
            "__________________________________________________________________________________________________\n",
            "item_condition (InputLayer)     (None, 1)            0                                            \n",
            "__________________________________________________________________________________________________\n",
            "gru_5 (GRU)                     (None, 16)           3696        embedding_35[0][0]               \n",
            "__________________________________________________________________________________________________\n",
            "gru_6 (GRU)                     (None, 8)            1416        embedding_34[0][0]               \n",
            "__________________________________________________________________________________________________\n",
            "num_vars (InputLayer)           (None, 1)            0                                            \n",
            "__________________________________________________________________________________________________\n",
            "concatenate_6 (Concatenate)     (None, 66)           0           flatten_21[0][0]                 \n",
            "                                                                 flatten_22[0][0]                 \n",
            "                                                                 flatten_23[0][0]                 \n",
            "                                                                 flatten_24[0][0]                 \n",
            "                                                                 item_condition[0][0]             \n",
            "                                                                 gru_5[0][0]                      \n",
            "                                                                 gru_6[0][0]                      \n",
            "                                                                 num_vars[0][0]                   \n",
            "__________________________________________________________________________________________________\n",
            "dense_21 (Dense)                (None, 256)          17152       concatenate_6[0][0]              \n",
            "__________________________________________________________________________________________________\n",
            "activation_7 (Activation)       (None, 256)          0           dense_21[0][0]                   \n",
            "__________________________________________________________________________________________________\n",
            "dense_22 (Dense)                (None, 128)          32896       activation_7[0][0]               \n",
            "__________________________________________________________________________________________________\n",
            "activation_8 (Activation)       (None, 128)          0           dense_22[0][0]                   \n",
            "__________________________________________________________________________________________________\n",
            "dense_23 (Dense)                (None, 64)           8256        activation_8[0][0]               \n",
            "__________________________________________________________________________________________________\n",
            "activation_9 (Activation)       (None, 64)           0           dense_23[0][0]                   \n",
            "__________________________________________________________________________________________________\n",
            "dense_24 (Dense)                (None, 1)            65          activation_9[0][0]               \n",
            "==================================================================================================\n",
            "Total params: 28,626,141\n",
            "Trainable params: 28,626,141\n",
            "Non-trainable params: 0\n",
            "__________________________________________________________________________________________________\n"
          ],
          "name": "stdout"
        }
      ]
    },
    {
      "cell_type": "code",
      "metadata": {
        "id": "W60uKDedKR4f",
        "colab_type": "code",
        "colab": {
          "base_uri": "https://localhost:8080/",
          "height": 437
        },
        "outputId": "615892c5-17d8-4fd8-8605-ed93bf8b3d9e"
      },
      "source": [
        "#FITTING THE MODEL\n",
        "BATCH_SIZE = 10000\n",
        "epochs = 10\n",
        "\n",
        "model = get_model5()\n",
        "model.fit(X_train, dtrain.target, epochs=epochs, batch_size=BATCH_SIZE\n",
        "          , validation_data=(X_valid, dvalid.target)\n",
        "          , verbose=1)"
      ],
      "execution_count": 33,
      "outputs": [
        {
          "output_type": "stream",
          "text": [
            "Train on 1408408 samples, validate on 74127 samples\n",
            "Epoch 1/10\n",
            "1408408/1408408 [==============================] - 367s 261us/step - loss: 0.0313 - mean_absolute_error: 0.1281 - rmsle_cust: 0.0172 - val_loss: 0.0172 - val_mean_absolute_error: 0.0986 - val_rmsle_cust: 0.0134\n",
            "Epoch 2/10\n",
            "1408408/1408408 [==============================] - 363s 258us/step - loss: 0.0156 - mean_absolute_error: 0.0937 - rmsle_cust: 0.0126 - val_loss: 0.0153 - val_mean_absolute_error: 0.0929 - val_rmsle_cust: 0.0126\n",
            "Epoch 3/10\n",
            "1408408/1408408 [==============================] - 360s 255us/step - loss: 0.0140 - mean_absolute_error: 0.0890 - rmsle_cust: 0.0119 - val_loss: 0.0150 - val_mean_absolute_error: 0.0916 - val_rmsle_cust: 0.0123\n",
            "Epoch 4/10\n",
            "1408408/1408408 [==============================] - 360s 255us/step - loss: 0.0131 - mean_absolute_error: 0.0861 - rmsle_cust: 0.0114 - val_loss: 0.0146 - val_mean_absolute_error: 0.0906 - val_rmsle_cust: 0.0121\n",
            "Epoch 5/10\n",
            "1408408/1408408 [==============================] - 358s 254us/step - loss: 0.0124 - mean_absolute_error: 0.0834 - rmsle_cust: 0.0110 - val_loss: 0.0144 - val_mean_absolute_error: 0.0901 - val_rmsle_cust: 0.0119\n",
            "Epoch 6/10\n",
            "1408408/1408408 [==============================] - 358s 254us/step - loss: 0.0117 - mean_absolute_error: 0.0811 - rmsle_cust: 0.0106 - val_loss: 0.0143 - val_mean_absolute_error: 0.0897 - val_rmsle_cust: 0.0119\n",
            "Epoch 7/10\n",
            "1408408/1408408 [==============================] - 371s 263us/step - loss: 0.0112 - mean_absolute_error: 0.0791 - rmsle_cust: 0.0102 - val_loss: 0.0143 - val_mean_absolute_error: 0.0893 - val_rmsle_cust: 0.0118\n",
            "Epoch 8/10\n",
            "1408408/1408408 [==============================] - 352s 250us/step - loss: 0.0108 - mean_absolute_error: 0.0776 - rmsle_cust: 0.0099 - val_loss: 0.0143 - val_mean_absolute_error: 0.0893 - val_rmsle_cust: 0.0119\n",
            "Epoch 9/10\n",
            "1408408/1408408 [==============================] - 361s 256us/step - loss: 0.0104 - mean_absolute_error: 0.0760 - rmsle_cust: 0.0097 - val_loss: 0.0143 - val_mean_absolute_error: 0.0892 - val_rmsle_cust: 0.0119\n",
            "Epoch 10/10\n",
            "1408408/1408408 [==============================] - 353s 251us/step - loss: 0.0101 - mean_absolute_error: 0.0746 - rmsle_cust: 0.0094 - val_loss: 0.0144 - val_mean_absolute_error: 0.0894 - val_rmsle_cust: 0.0120\n"
          ],
          "name": "stdout"
        },
        {
          "output_type": "execute_result",
          "data": {
            "text/plain": [
              "<keras.callbacks.History at 0x7f3be0253c18>"
            ]
          },
          "metadata": {
            "tags": []
          },
          "execution_count": 33
        }
      ]
    },
    {
      "cell_type": "code",
      "metadata": {
        "id": "L90GgCPtKT6D",
        "colab_type": "code",
        "colab": {
          "base_uri": "https://localhost:8080/",
          "height": 35
        },
        "outputId": "e92161ca-bc22-4014-8655-0b1b75a139bd"
      },
      "source": [
        "#EVLUEATE THE MODEL ON DEV TEST: What is it doing?\n",
        "val_preds = model.predict(X_valid)\n",
        "val_preds = target_scaler.inverse_transform(val_preds)\n",
        "val_preds = np.exp(val_preds)+1\n",
        "\n",
        "#mean_absolute_error, mean_squared_log_error\n",
        "y_true = np.array(dvalid.price.values)\n",
        "y_pred = val_preds[:,0]\n",
        "v_rmsle = rmsle(y_true, y_pred)\n",
        "print(\" RMSLE na validacijskom: \"+str(v_rmsle))"
      ],
      "execution_count": 34,
      "outputs": [
        {
          "output_type": "stream",
          "text": [
            " RMSLE na validacijskom: 0.46906979665411985\n"
          ],
          "name": "stdout"
        }
      ]
    },
    {
      "cell_type": "markdown",
      "metadata": {
        "id": "9Tddh4rGT05B",
        "colab_type": "text"
      },
      "source": [
        "nakon 5 epoha:  RMSLE na validacijskom: 0.4708457943897959\n",
        "\n",
        "nakon 10 epoha:  RMSLE na validacijskom: 0.46906979665411985\n",
        "\n"
      ]
    },
    {
      "cell_type": "code",
      "metadata": {
        "id": "jx7hc4igV21t",
        "colab_type": "code",
        "colab": {}
      },
      "source": [
        "#FITTING THE MODEL\n",
        "BATCH_SIZE = 1000\n",
        "epochs = 5\n",
        "\n",
        "model = get_model5()\n",
        "model.fit(X_train, dtrain.target, epochs=epochs, batch_size=BATCH_SIZE\n",
        "          , validation_data=(X_valid, dvalid.target)\n",
        "          , verbose=1)"
      ],
      "execution_count": 0,
      "outputs": []
    },
    {
      "cell_type": "code",
      "metadata": {
        "id": "D0oDNbtaV4_T",
        "colab_type": "code",
        "colab": {}
      },
      "source": [
        "#EVLUEATE THE MODEL ON DEV TEST: What is it doing?\n",
        "val_preds = model.predict(X_valid)\n",
        "val_preds = target_scaler.inverse_transform(val_preds)\n",
        "val_preds = np.exp(val_preds)+1\n",
        "\n",
        "#mean_absolute_error, mean_squared_log_error\n",
        "y_true = np.array(dvalid.price.values)\n",
        "y_pred = val_preds[:,0]\n",
        "v_rmsle = rmsle(y_true, y_pred)\n",
        "print(\" RMSLE na validacijskom: \"+str(v_rmsle))"
      ],
      "execution_count": 0,
      "outputs": []
    },
    {
      "cell_type": "markdown",
      "metadata": {
        "id": "DfjyzQIlV7Jy",
        "colab_type": "text"
      },
      "source": [
        " RMSLE na validacijskom: 0.46891520472053166"
      ]
    },
    {
      "cell_type": "markdown",
      "metadata": {
        "id": "pYrs9NYeZyi4",
        "colab_type": "text"
      },
      "source": [
        "Zašto ne isprobati dodavanje još kojeg sloja, možda s nekom drugom aktivacijskom funkcijom?"
      ]
    },
    {
      "cell_type": "markdown",
      "metadata": {
        "id": "pq15L2MFz_i8",
        "colab_type": "text"
      },
      "source": [
        "# Najbolji model za sad!"
      ]
    },
    {
      "cell_type": "code",
      "metadata": {
        "id": "X7siE3GpZ431",
        "colab_type": "code",
        "colab": {
          "base_uri": "https://localhost:8080/",
          "height": 1361
        },
        "outputId": "97f37ec8-3054-4c56-8e65-2a036acb6e42"
      },
      "source": [
        "def get_model6():    \n",
        "    # Inputs\n",
        "    name = Input(shape=[X_train[\"name\"].shape[1]], name=\"name\")\n",
        "    item_desc = Input(shape=[X_train[\"item_desc\"].shape[1]], name=\"item_desc\")\n",
        "    brand_name = Input(shape=[1], name=\"brand_name\")\n",
        "    subcat1 = Input(shape=[1], name=\"subcat1\")\n",
        "    subcat2 = Input(shape=[1], name=\"subcat2\")\n",
        "    subcat3 = Input(shape=[1], name=\"subcat3\")\n",
        "    item_condition = Input(shape=[1], name=\"item_condition\")\n",
        "    num_vars = Input(shape=[X_train[\"num_vars\"].shape[1]], name=\"num_vars\")\n",
        "\n",
        "    # Embeddings layers\n",
        "    emb_name = Embedding(MAX_TEXT, 50)(name)\n",
        "    emb_item_desc = Embedding(MAX_TEXT, 60)(item_desc)\n",
        "    emb_brand_name = Embedding(MAX_BRAND, 10)(brand_name)\n",
        "    emb_subcat1 = Embedding(MAX_CAT1, 10)(subcat1)\n",
        "    emb_subcat2 = Embedding(MAX_CAT2, 10)(subcat2)\n",
        "    emb_subcat3 = Embedding(MAX_CAT3, 10)(subcat3)\n",
        "    \n",
        "    # rnn layers\n",
        "    rnn_layer1 = GRU(16) (emb_item_desc)\n",
        "    rnn_layer2 = GRU(8) (emb_name)\n",
        "\n",
        "    # main layers\n",
        "    main_l = concatenate([\n",
        "        Flatten() (emb_brand_name),\n",
        "        Flatten() (emb_subcat1),\n",
        "        Flatten() (emb_subcat2),\n",
        "        Flatten() (emb_subcat3),\n",
        "        item_condition,\n",
        "        rnn_layer1,\n",
        "        rnn_layer2,\n",
        "        num_vars,\n",
        "    ])\n",
        "    \n",
        "    main_l = Dense(512)(main_l)\n",
        "    main_l = Activation('relu')(main_l)\n",
        "    \n",
        "    main_l = Dense(256)(main_l)\n",
        "    main_l = Activation('relu')(main_l)\n",
        "\n",
        "    main_l = Dense(128)(main_l)\n",
        "    main_l = Activation('relu')(main_l)\n",
        "\n",
        "    main_l = Dense(64)(main_l)\n",
        "    main_l = Activation('relu')(main_l)\n",
        "\n",
        "    # the output layer.\n",
        "    output = Dense(1, activation=\"linear\") (main_l)\n",
        "\n",
        "    model = Model([name, item_desc, brand_name, subcat1, subcat2, subcat3, item_condition, num_vars], output)\n",
        "\n",
        "    model.compile(loss=\"mse\", optimizer=\"adam\", metrics=[\"mae\", rmsle_cust])\n",
        "\n",
        "\n",
        "    return model\n",
        "\n",
        "model = get_model6()\n",
        "model.summary()"
      ],
      "execution_count": 26,
      "outputs": [
        {
          "output_type": "stream",
          "text": [
            "__________________________________________________________________________________________________\n",
            "Layer (type)                    Output Shape         Param #     Connected to                     \n",
            "==================================================================================================\n",
            "brand_name (InputLayer)         (None, 1)            0                                            \n",
            "__________________________________________________________________________________________________\n",
            "subcat1 (InputLayer)            (None, 1)            0                                            \n",
            "__________________________________________________________________________________________________\n",
            "subcat2 (InputLayer)            (None, 1)            0                                            \n",
            "__________________________________________________________________________________________________\n",
            "subcat3 (InputLayer)            (None, 1)            0                                            \n",
            "__________________________________________________________________________________________________\n",
            "item_desc (InputLayer)          (None, 75)           0                                            \n",
            "__________________________________________________________________________________________________\n",
            "name (InputLayer)               (None, 8)            0                                            \n",
            "__________________________________________________________________________________________________\n",
            "embedding_27 (Embedding)        (None, 1, 10)        52900       brand_name[0][0]                 \n",
            "__________________________________________________________________________________________________\n",
            "embedding_28 (Embedding)        (None, 1, 10)        110         subcat1[0][0]                    \n",
            "__________________________________________________________________________________________________\n",
            "embedding_29 (Embedding)        (None, 1, 10)        1140        subcat2[0][0]                    \n",
            "__________________________________________________________________________________________________\n",
            "embedding_30 (Embedding)        (None, 1, 10)        8830        subcat3[0][0]                    \n",
            "__________________________________________________________________________________________________\n",
            "embedding_26 (Embedding)        (None, 75, 60)       15545280    item_desc[0][0]                  \n",
            "__________________________________________________________________________________________________\n",
            "embedding_25 (Embedding)        (None, 8, 50)        12954400    name[0][0]                       \n",
            "__________________________________________________________________________________________________\n",
            "flatten_13 (Flatten)            (None, 10)           0           embedding_27[0][0]               \n",
            "__________________________________________________________________________________________________\n",
            "flatten_14 (Flatten)            (None, 10)           0           embedding_28[0][0]               \n",
            "__________________________________________________________________________________________________\n",
            "flatten_15 (Flatten)            (None, 10)           0           embedding_29[0][0]               \n",
            "__________________________________________________________________________________________________\n",
            "flatten_16 (Flatten)            (None, 10)           0           embedding_30[0][0]               \n",
            "__________________________________________________________________________________________________\n",
            "item_condition (InputLayer)     (None, 1)            0                                            \n",
            "__________________________________________________________________________________________________\n",
            "gru_1 (GRU)                     (None, 16)           3696        embedding_26[0][0]               \n",
            "__________________________________________________________________________________________________\n",
            "gru_2 (GRU)                     (None, 8)            1416        embedding_25[0][0]               \n",
            "__________________________________________________________________________________________________\n",
            "num_vars (InputLayer)           (None, 1)            0                                            \n",
            "__________________________________________________________________________________________________\n",
            "concatenate_4 (Concatenate)     (None, 66)           0           flatten_13[0][0]                 \n",
            "                                                                 flatten_14[0][0]                 \n",
            "                                                                 flatten_15[0][0]                 \n",
            "                                                                 flatten_16[0][0]                 \n",
            "                                                                 item_condition[0][0]             \n",
            "                                                                 gru_1[0][0]                      \n",
            "                                                                 gru_2[0][0]                      \n",
            "                                                                 num_vars[0][0]                   \n",
            "__________________________________________________________________________________________________\n",
            "dense_16 (Dense)                (None, 512)          34304       concatenate_4[0][0]              \n",
            "__________________________________________________________________________________________________\n",
            "activation_13 (Activation)      (None, 512)          0           dense_16[0][0]                   \n",
            "__________________________________________________________________________________________________\n",
            "dense_17 (Dense)                (None, 256)          131328      activation_13[0][0]              \n",
            "__________________________________________________________________________________________________\n",
            "activation_14 (Activation)      (None, 256)          0           dense_17[0][0]                   \n",
            "__________________________________________________________________________________________________\n",
            "dense_18 (Dense)                (None, 128)          32896       activation_14[0][0]              \n",
            "__________________________________________________________________________________________________\n",
            "activation_15 (Activation)      (None, 128)          0           dense_18[0][0]                   \n",
            "__________________________________________________________________________________________________\n",
            "dense_19 (Dense)                (None, 64)           8256        activation_15[0][0]              \n",
            "__________________________________________________________________________________________________\n",
            "activation_16 (Activation)      (None, 64)           0           dense_19[0][0]                   \n",
            "__________________________________________________________________________________________________\n",
            "dense_20 (Dense)                (None, 1)            65          activation_16[0][0]              \n",
            "==================================================================================================\n",
            "Total params: 28,774,621\n",
            "Trainable params: 28,774,621\n",
            "Non-trainable params: 0\n",
            "__________________________________________________________________________________________________\n"
          ],
          "name": "stdout"
        }
      ]
    },
    {
      "cell_type": "code",
      "metadata": {
        "id": "XqDd8RDFaC1s",
        "colab_type": "code",
        "colab": {}
      },
      "source": [
        "#FITTING THE MODEL\n",
        "BATCH_SIZE = 1000\n",
        "epochs = 5\n",
        "\n",
        "model = get_model6()\n",
        "model.fit(X_train, dtrain.target, epochs=epochs, batch_size=BATCH_SIZE\n",
        "          , validation_data=(X_valid, dvalid.target)\n",
        "          , verbose=1)"
      ],
      "execution_count": 0,
      "outputs": []
    },
    {
      "cell_type": "code",
      "metadata": {
        "id": "IlpJs__FaGDD",
        "colab_type": "code",
        "colab": {}
      },
      "source": [
        "#EVLUEATE THE MODEL ON DEV TEST: What is it doing?\n",
        "val_preds = model.predict(X_valid)\n",
        "val_preds = target_scaler.inverse_transform(val_preds)\n",
        "val_preds = np.exp(val_preds)+1\n",
        "\n",
        "#mean_absolute_error, mean_squared_log_error\n",
        "y_true = np.array(dvalid.price.values)\n",
        "y_pred = val_preds[:,0]\n",
        "v_rmsle = rmsle(y_true, y_pred)\n",
        "print(\" RMSLE na validacijskom: \"+str(v_rmsle))"
      ],
      "execution_count": 0,
      "outputs": []
    },
    {
      "cell_type": "markdown",
      "metadata": {
        "id": "UcYWkcXac3Il",
        "colab_type": "text"
      },
      "source": [
        "Prvotno su išle aktivacijske funkcije redom: sigmoid, tanh, relu, relu.\n",
        "\n",
        "Nakon 5 epoha: RMSLE na validacijskom: 0.4766091084883943\n",
        " \n",
        " Nakon 4 epohe:  RMSLE na validacijskom: 0.46666912700339036\n",
        " \n",
        " Ako stavim sve aktivacijske funkcije da budu 'relu'\n",
        " \n",
        " Nakon 4 epohe:  RMSLE na validacijskom: 0.4488953920679439\n",
        " \n",
        " Nakon 5 epoha:  RMSLE na validacijskom: 0.442122862243461"
      ]
    },
    {
      "cell_type": "markdown",
      "metadata": {
        "id": "psSg5eBK7qHS",
        "colab_type": "text"
      },
      "source": [
        "## CNN"
      ]
    },
    {
      "cell_type": "code",
      "metadata": {
        "id": "swuc71dLGJEg",
        "colab_type": "code",
        "outputId": "67591a34-06a1-415f-dc8e-5e7ebcbc3a14",
        "colab": {
          "base_uri": "https://localhost:8080/",
          "height": 1490
        }
      },
      "source": [
        "#KERAS MODEL DEFINITION\n",
        "from keras.layers import Input, Dropout, Dense, BatchNormalization, Activation, concatenate, Conv1D, GlobalMaxPooling1D, Embedding, Flatten, BatchNormalization\n",
        "from keras.models import Model\n",
        "from keras.callbacks import ModelCheckpoint, Callback, EarlyStopping\n",
        "from keras import backend as K\n",
        "\n",
        "\n",
        "def get_model7():\n",
        "    #params\n",
        "    dr_r = 0.5\n",
        "    \n",
        "    #Inputs\n",
        "    name = Input(shape=[X_train[\"name\"].shape[1]], name=\"name\")\n",
        "    item_desc = Input(shape=[X_train[\"item_desc\"].shape[1]], name=\"item_desc\")\n",
        "    brand_name = Input(shape=[1], name=\"brand_name\")\n",
        "    subcat1 = Input(shape=[1], name=\"subcat1\")\n",
        "    subcat2 = Input(shape=[1], name=\"subcat2\")\n",
        "    subcat3 = Input(shape=[1], name=\"subcat3\")\n",
        "    item_condition = Input(shape=[1], name=\"item_condition\")\n",
        "    num_vars = Input(shape=[1], name=\"num_vars\")\n",
        "    \n",
        "    #Embeddings layers\n",
        "    emb_name = Embedding(MAX_TEXT, 50)(name)\n",
        "    emb_item_desc = Embedding(MAX_TEXT, 50)(item_desc)\n",
        "    emb_brand_name = Embedding(MAX_BRAND, 50)(brand_name)\n",
        "    emb_subcat_1 = Embedding(MAX_CAT1, 10)(subcat1)\n",
        "    emb_subcat_2 = Embedding(MAX_CAT2, 20)(subcat2)\n",
        "    emb_subcat_3 = Embedding(MAX_CAT3, 30)(subcat3)\n",
        "\n",
        " \n",
        "    #rnn layer\n",
        "    cnn_layer1 = Conv1D(filters=16, kernel_size=3, activation='relu') (emb_item_desc)\n",
        "    cnn_layer2 = Conv1D(filters=8, kernel_size=3, activation='relu')(emb_name)\n",
        "    \n",
        "    cnn_layer1 = GlobalMaxPooling1D()(cnn_layer1)\n",
        "    cnn_layer2 = GlobalMaxPooling1D()(cnn_layer2)\n",
        "    \n",
        "    #main layer\n",
        "    main_l = concatenate([\n",
        "        Flatten() (emb_brand_name)\n",
        "        , Flatten() (emb_subcat_1)\n",
        "        , Flatten() (emb_subcat_2)\n",
        "        , Flatten() (emb_subcat_3)\n",
        "        , cnn_layer1\n",
        "        , cnn_layer2\n",
        "        , num_vars\n",
        "        , item_condition\n",
        "    ])\n",
        "    \n",
        "    main_l = Dropout(dr_r) (Dense(256, activation=\"relu\") (main_l))\n",
        "    main_l = Dropout(dr_r) (Dense(128, activation=\"relu\") (main_l))\n",
        "    main_l = Dropout(dr_r) (Dense(64, activation=\"relu\") (main_l))\n",
        "    \n",
        "    \n",
        "    #output\n",
        "    output = Dense(1, activation=\"linear\") (main_l)\n",
        "    \n",
        "    #model\n",
        "    model = Model([name, item_desc, brand_name, subcat1, subcat2, subcat3, item_condition, num_vars], output)\n",
        "    \n",
        "    model.compile(loss=\"mse\", optimizer=\"adam\", metrics=[\"mae\", rmsle_cust])\n",
        "    \n",
        "    return model\n",
        "\n",
        "    \n",
        "model = get_model7()\n",
        "model.summary()"
      ],
      "execution_count": 0,
      "outputs": [
        {
          "output_type": "stream",
          "text": [
            "WARNING:tensorflow:From /usr/local/lib/python3.6/dist-packages/tensorflow/python/framework/op_def_library.py:263: colocate_with (from tensorflow.python.framework.ops) is deprecated and will be removed in a future version.\n",
            "Instructions for updating:\n",
            "Colocations handled automatically by placer.\n",
            "WARNING:tensorflow:From /usr/local/lib/python3.6/dist-packages/keras/backend/tensorflow_backend.py:3445: calling dropout (from tensorflow.python.ops.nn_ops) with keep_prob is deprecated and will be removed in a future version.\n",
            "Instructions for updating:\n",
            "Please use `rate` instead of `keep_prob`. Rate should be set to `rate = 1 - keep_prob`.\n",
            "__________________________________________________________________________________________________\n",
            "Layer (type)                    Output Shape         Param #     Connected to                     \n",
            "==================================================================================================\n",
            "item_desc (InputLayer)          (None, 75)           0                                            \n",
            "__________________________________________________________________________________________________\n",
            "name (InputLayer)               (None, 10)           0                                            \n",
            "__________________________________________________________________________________________________\n",
            "brand_name (InputLayer)         (None, 1)            0                                            \n",
            "__________________________________________________________________________________________________\n",
            "subcat1 (InputLayer)            (None, 1)            0                                            \n",
            "__________________________________________________________________________________________________\n",
            "subcat2 (InputLayer)            (None, 1)            0                                            \n",
            "__________________________________________________________________________________________________\n",
            "subcat3 (InputLayer)            (None, 1)            0                                            \n",
            "__________________________________________________________________________________________________\n",
            "embedding_2 (Embedding)         (None, 75, 50)       12954400    item_desc[0][0]                  \n",
            "__________________________________________________________________________________________________\n",
            "embedding_1 (Embedding)         (None, 10, 50)       12954400    name[0][0]                       \n",
            "__________________________________________________________________________________________________\n",
            "embedding_3 (Embedding)         (None, 1, 50)        264500      brand_name[0][0]                 \n",
            "__________________________________________________________________________________________________\n",
            "embedding_4 (Embedding)         (None, 1, 10)        110         subcat1[0][0]                    \n",
            "__________________________________________________________________________________________________\n",
            "embedding_5 (Embedding)         (None, 1, 20)        2280        subcat2[0][0]                    \n",
            "__________________________________________________________________________________________________\n",
            "embedding_6 (Embedding)         (None, 1, 30)        26490       subcat3[0][0]                    \n",
            "__________________________________________________________________________________________________\n",
            "conv1d_1 (Conv1D)               (None, 73, 16)       2416        embedding_2[0][0]                \n",
            "__________________________________________________________________________________________________\n",
            "conv1d_2 (Conv1D)               (None, 8, 8)         1208        embedding_1[0][0]                \n",
            "__________________________________________________________________________________________________\n",
            "flatten_1 (Flatten)             (None, 50)           0           embedding_3[0][0]                \n",
            "__________________________________________________________________________________________________\n",
            "flatten_2 (Flatten)             (None, 10)           0           embedding_4[0][0]                \n",
            "__________________________________________________________________________________________________\n",
            "flatten_3 (Flatten)             (None, 20)           0           embedding_5[0][0]                \n",
            "__________________________________________________________________________________________________\n",
            "flatten_4 (Flatten)             (None, 30)           0           embedding_6[0][0]                \n",
            "__________________________________________________________________________________________________\n",
            "global_max_pooling1d_1 (GlobalM (None, 16)           0           conv1d_1[0][0]                   \n",
            "__________________________________________________________________________________________________\n",
            "global_max_pooling1d_2 (GlobalM (None, 8)            0           conv1d_2[0][0]                   \n",
            "__________________________________________________________________________________________________\n",
            "num_vars (InputLayer)           (None, 1)            0                                            \n",
            "__________________________________________________________________________________________________\n",
            "item_condition (InputLayer)     (None, 1)            0                                            \n",
            "__________________________________________________________________________________________________\n",
            "concatenate_1 (Concatenate)     (None, 136)          0           flatten_1[0][0]                  \n",
            "                                                                 flatten_2[0][0]                  \n",
            "                                                                 flatten_3[0][0]                  \n",
            "                                                                 flatten_4[0][0]                  \n",
            "                                                                 global_max_pooling1d_1[0][0]     \n",
            "                                                                 global_max_pooling1d_2[0][0]     \n",
            "                                                                 num_vars[0][0]                   \n",
            "                                                                 item_condition[0][0]             \n",
            "__________________________________________________________________________________________________\n",
            "dense_1 (Dense)                 (None, 256)          35072       concatenate_1[0][0]              \n",
            "__________________________________________________________________________________________________\n",
            "dropout_1 (Dropout)             (None, 256)          0           dense_1[0][0]                    \n",
            "__________________________________________________________________________________________________\n",
            "dense_2 (Dense)                 (None, 128)          32896       dropout_1[0][0]                  \n",
            "__________________________________________________________________________________________________\n",
            "dropout_2 (Dropout)             (None, 128)          0           dense_2[0][0]                    \n",
            "__________________________________________________________________________________________________\n",
            "dense_3 (Dense)                 (None, 64)           8256        dropout_2[0][0]                  \n",
            "__________________________________________________________________________________________________\n",
            "dropout_3 (Dropout)             (None, 64)           0           dense_3[0][0]                    \n",
            "__________________________________________________________________________________________________\n",
            "dense_4 (Dense)                 (None, 1)            65          dropout_3[0][0]                  \n",
            "==================================================================================================\n",
            "Total params: 26,282,093\n",
            "Trainable params: 26,282,093\n",
            "Non-trainable params: 0\n",
            "__________________________________________________________________________________________________\n"
          ],
          "name": "stdout"
        }
      ]
    },
    {
      "cell_type": "code",
      "metadata": {
        "id": "VeVERAdY8suJ",
        "colab_type": "code",
        "outputId": "1270c8d8-3077-4d58-e838-2fc64dc8a91f",
        "colab": {
          "base_uri": "https://localhost:8080/",
          "height": 618
        }
      },
      "source": [
        "#FITTING THE MODEL\n",
        "BATCH_SIZE = 10000\n",
        "epochs = 15\n",
        "\n",
        "model = get_model7()\n",
        "model.fit(X_train, dtrain.target, epochs=epochs, batch_size=BATCH_SIZE\n",
        "          , validation_data=(X_valid, dvalid.target)\n",
        "          , verbose=1)"
      ],
      "execution_count": 0,
      "outputs": [
        {
          "output_type": "stream",
          "text": [
            "Train on 1467709 samples, validate on 14826 samples\n",
            "Epoch 1/15\n",
            "1467709/1467709 [==============================] - 238s 162us/step - loss: 0.0322 - mean_absolute_error: 0.1368 - rmsle_cust: 0.0165 - val_loss: 0.0193 - val_mean_absolute_error: 0.1087 - val_rmsle_cust: 0.0139\n",
            "Epoch 2/15\n",
            "1467709/1467709 [==============================] - 235s 160us/step - loss: 0.0181 - mean_absolute_error: 0.1024 - rmsle_cust: 0.0138 - val_loss: 0.0165 - val_mean_absolute_error: 0.0978 - val_rmsle_cust: 0.0143\n",
            "Epoch 3/15\n",
            "1467709/1467709 [==============================] - 236s 160us/step - loss: 0.0156 - mean_absolute_error: 0.0947 - rmsle_cust: 0.0130 - val_loss: 0.0156 - val_mean_absolute_error: 0.0952 - val_rmsle_cust: 0.0138\n",
            "Epoch 4/15\n",
            "1467709/1467709 [==============================] - 236s 161us/step - loss: 0.0141 - mean_absolute_error: 0.0901 - rmsle_cust: 0.0126 - val_loss: 0.0152 - val_mean_absolute_error: 0.0934 - val_rmsle_cust: 0.0135\n",
            "Epoch 5/15\n",
            "1467709/1467709 [==============================] - 236s 161us/step - loss: 0.0131 - mean_absolute_error: 0.0867 - rmsle_cust: 0.0122 - val_loss: 0.0147 - val_mean_absolute_error: 0.0919 - val_rmsle_cust: 0.0128\n",
            "Epoch 6/15\n",
            "1467709/1467709 [==============================] - 235s 160us/step - loss: 0.0123 - mean_absolute_error: 0.0840 - rmsle_cust: 0.0119 - val_loss: 0.0146 - val_mean_absolute_error: 0.0913 - val_rmsle_cust: 0.0126\n",
            "Epoch 7/15\n",
            "1467709/1467709 [==============================] - 235s 160us/step - loss: 0.0117 - mean_absolute_error: 0.0817 - rmsle_cust: 0.0116 - val_loss: 0.0143 - val_mean_absolute_error: 0.0898 - val_rmsle_cust: 0.0122\n",
            "Epoch 8/15\n",
            "1467709/1467709 [==============================] - 235s 160us/step - loss: 0.0112 - mean_absolute_error: 0.0798 - rmsle_cust: 0.0113 - val_loss: 0.0144 - val_mean_absolute_error: 0.0905 - val_rmsle_cust: 0.0122\n",
            "Epoch 9/15\n",
            "1467709/1467709 [==============================] - 236s 161us/step - loss: 0.0107 - mean_absolute_error: 0.0782 - rmsle_cust: 0.0112 - val_loss: 0.0144 - val_mean_absolute_error: 0.0902 - val_rmsle_cust: 0.0121\n",
            "Epoch 10/15\n",
            "1467709/1467709 [==============================] - 236s 160us/step - loss: 0.0104 - mean_absolute_error: 0.0769 - rmsle_cust: 0.0110 - val_loss: 0.0144 - val_mean_absolute_error: 0.0902 - val_rmsle_cust: 0.0121\n",
            "Epoch 11/15\n",
            "1467709/1467709 [==============================] - 236s 161us/step - loss: 0.0101 - mean_absolute_error: 0.0757 - rmsle_cust: 0.0108 - val_loss: 0.0145 - val_mean_absolute_error: 0.0906 - val_rmsle_cust: 0.0121\n",
            "Epoch 12/15\n",
            "1467709/1467709 [==============================] - 236s 161us/step - loss: 0.0098 - mean_absolute_error: 0.0746 - rmsle_cust: 0.0107 - val_loss: 0.0145 - val_mean_absolute_error: 0.0905 - val_rmsle_cust: 0.0119\n",
            "Epoch 13/15\n",
            "1467709/1467709 [==============================] - 236s 161us/step - loss: 0.0096 - mean_absolute_error: 0.0737 - rmsle_cust: 0.0106 - val_loss: 0.0146 - val_mean_absolute_error: 0.0906 - val_rmsle_cust: 0.0122\n",
            "Epoch 14/15\n",
            "1467709/1467709 [==============================] - 236s 161us/step - loss: 0.0094 - mean_absolute_error: 0.0729 - rmsle_cust: 0.0105 - val_loss: 0.0146 - val_mean_absolute_error: 0.0911 - val_rmsle_cust: 0.0119\n",
            "Epoch 15/15\n",
            "1467709/1467709 [==============================] - 236s 161us/step - loss: 0.0092 - mean_absolute_error: 0.0721 - rmsle_cust: 0.0104 - val_loss: 0.0146 - val_mean_absolute_error: 0.0907 - val_rmsle_cust: 0.0120\n"
          ],
          "name": "stdout"
        },
        {
          "output_type": "execute_result",
          "data": {
            "text/plain": [
              "<keras.callbacks.History at 0x7f6405777e10>"
            ]
          },
          "metadata": {
            "tags": []
          },
          "execution_count": 23
        }
      ]
    },
    {
      "cell_type": "code",
      "metadata": {
        "id": "bVu1POp7899e",
        "colab_type": "code",
        "outputId": "8224dd4b-3374-47d5-9b45-46b446341385",
        "colab": {
          "base_uri": "https://localhost:8080/",
          "height": 35
        }
      },
      "source": [
        "#EVALUEATE THE MODEL ON DEV TEST: What is it doing?\n",
        "val_preds = model.predict(X_valid)\n",
        "val_preds = target_scaler.inverse_transform(val_preds)\n",
        "val_preds = np.exp(val_preds)+1\n",
        "\n",
        "#mean_absolute_error, mean_squared_log_error\n",
        "y_true = np.array(dvalid.price.values)\n",
        "y_pred = val_preds[:,0]\n",
        "v_rmsle = rmsle(y_true, y_pred)\n",
        "print(\" RMSLE na validacijskom: \"+str(v_rmsle))"
      ],
      "execution_count": 0,
      "outputs": [
        {
          "output_type": "stream",
          "text": [
            " RMSLE na validacijskom: 0.48178611835213986\n"
          ],
          "name": "stdout"
        }
      ]
    },
    {
      "cell_type": "markdown",
      "metadata": {
        "id": "smCo4Sxdi7Oq",
        "colab_type": "text"
      },
      "source": [
        "Nakon 15 epoha:  RMSLE na validacijskom: 0.48178611835213986\n",
        "\n",
        "Nakon 10 epoha:  RMSLE na validacijskom: 0.4927266404259878\n",
        "\n",
        "Nakon 5 epoha:  RMSLE na validacijskom: 0.5118675884280706"
      ]
    },
    {
      "cell_type": "markdown",
      "metadata": {
        "id": "6b6QA98s8eFa",
        "colab_type": "text"
      },
      "source": [
        "Ako promijenim broj filtera na cnn_layer2 a 16"
      ]
    },
    {
      "cell_type": "code",
      "metadata": {
        "id": "_hWUm9LGrkj1",
        "colab_type": "code",
        "colab": {}
      },
      "source": [
        "#KERAS MODEL DEFINITION\n",
        "from keras.layers import Input, Dropout, Dense, BatchNormalization, Activation, concatenate, Conv1D, GlobalMaxPooling1D, Embedding, Flatten, BatchNormalization\n",
        "from keras.models import Model\n",
        "from keras.callbacks import ModelCheckpoint, Callback, EarlyStopping\n",
        "from keras import backend as K\n",
        "\n",
        "\n",
        "def get_model8():\n",
        "    #params\n",
        "    dr_r = 0.5\n",
        "    \n",
        "    #Inputs\n",
        "    name = Input(shape=[X_train[\"name\"].shape[1]], name=\"name\")\n",
        "    item_desc = Input(shape=[X_train[\"item_desc\"].shape[1]], name=\"item_desc\")\n",
        "    brand_name = Input(shape=[1], name=\"brand_name\")\n",
        "    subcat1 = Input(shape=[1], name=\"subcat1\")\n",
        "    subcat2 = Input(shape=[1], name=\"subcat2\")\n",
        "    subcat3 = Input(shape=[1], name=\"subcat3\")\n",
        "    item_condition = Input(shape=[1], name=\"item_condition\")\n",
        "    num_vars = Input(shape=[1], name=\"num_vars\")\n",
        "    \n",
        "    #Embeddings layers\n",
        "    emb_name = Embedding(MAX_TEXT, 50)(name)\n",
        "    emb_item_desc = Embedding(MAX_TEXT, 50)(item_desc)\n",
        "    emb_brand_name = Embedding(MAX_BRAND, 50)(brand_name)\n",
        "    emb_subcat_1 = Embedding(MAX_CAT1, 10)(subcat1)\n",
        "    emb_subcat_2 = Embedding(MAX_CAT2, 20)(subcat2)\n",
        "    emb_subcat_3 = Embedding(MAX_CAT3, 30)(subcat3)\n",
        "\n",
        " \n",
        "    #rnn layer\n",
        "    cnn_layer1 = Conv1D(filters=16, kernel_size=3, activation='relu') (emb_item_desc)\n",
        "    cnn_layer2 = Conv1D(filters=16, kernel_size=3, activation='relu')(emb_name)\n",
        "    \n",
        "    cnn_layer1 = GlobalMaxPooling1D()(cnn_layer1)\n",
        "    cnn_layer2 = GlobalMaxPooling1D()(cnn_layer2)\n",
        "    \n",
        "    #main layer\n",
        "    main_l = concatenate([\n",
        "        Flatten() (emb_brand_name)\n",
        "        , Flatten() (emb_subcat_1)\n",
        "        , Flatten() (emb_subcat_2)\n",
        "        , Flatten() (emb_subcat_3)\n",
        "        , cnn_layer1\n",
        "        , cnn_layer2\n",
        "        , num_vars\n",
        "        , item_condition\n",
        "    ])\n",
        "    \n",
        "    main_l = Dropout(dr_r) (Dense(256, activation=\"relu\") (main_l))\n",
        "    main_l = Dropout(dr_r) (Dense(128, activation=\"relu\") (main_l))\n",
        "    main_l = Dropout(dr_r) (Dense(64, activation=\"relu\") (main_l))\n",
        "    \n",
        "    \n",
        "    #output\n",
        "    output = Dense(1, activation=\"linear\") (main_l)\n",
        "    \n",
        "    #model\n",
        "    model = Model([name, item_desc, brand_name, subcat1, subcat2, subcat3, item_condition, num_vars], output)\n",
        "    \n",
        "    model.compile(loss=\"mse\", optimizer=\"adam\", metrics=[\"mae\", rmsle_cust])\n",
        "    \n",
        "    return model\n",
        "\n",
        "    \n",
        "model = get_model8()\n",
        "model.summary()"
      ],
      "execution_count": 0,
      "outputs": []
    },
    {
      "cell_type": "code",
      "metadata": {
        "id": "1I6B42Twrzhr",
        "colab_type": "code",
        "colab": {}
      },
      "source": [
        "#FITTING THE MODEL\n",
        "BATCH_SIZE = 10000\n",
        "epochs = 10\n",
        "\n",
        "model = get_model8()\n",
        "model.fit(X_train, dtrain.target, epochs=epochs, batch_size=BATCH_SIZE\n",
        "          , validation_data=(X_valid, dvalid.target)\n",
        "          , verbose=1)"
      ],
      "execution_count": 0,
      "outputs": []
    },
    {
      "cell_type": "code",
      "metadata": {
        "id": "dVnWhD4Br5Tj",
        "colab_type": "code",
        "outputId": "891bcfaf-65e2-4735-dadb-6ae6ed585a7b",
        "colab": {
          "base_uri": "https://localhost:8080/",
          "height": 35
        }
      },
      "source": [
        "#EVALUEATE THE MODEL ON DEV TEST: What is it doing?\n",
        "val_preds = model.predict(X_valid)\n",
        "val_preds = target_scaler.inverse_transform(val_preds)\n",
        "val_preds = np.exp(val_preds)+1\n",
        "\n",
        "#mean_absolute_error, mean_squared_log_error\n",
        "y_true = np.array(dvalid.price.values)\n",
        "y_pred = val_preds[:,0]\n",
        "v_rmsle = rmsle(y_true, y_pred)\n",
        "print(\" RMSLE na validacijskom: \"+str(v_rmsle))"
      ],
      "execution_count": 0,
      "outputs": [
        {
          "output_type": "stream",
          "text": [
            " RMSLE na validacijskom: 0.48348509735603296\n"
          ],
          "name": "stdout"
        }
      ]
    },
    {
      "cell_type": "markdown",
      "metadata": {
        "id": "txs21OwOsAGa",
        "colab_type": "text"
      },
      "source": [
        "5 epoha: 0.49018418646992745\n",
        "\n",
        "\n",
        "10 epoha:  RMSLE na validacijskom: 0.48348509735603296\n",
        "\n",
        "\n"
      ]
    },
    {
      "cell_type": "markdown",
      "metadata": {
        "id": "1PxPx9txxLWo",
        "colab_type": "text"
      },
      "source": [
        "Povećavam kernel size pri kreiranju cnn layera"
      ]
    },
    {
      "cell_type": "code",
      "metadata": {
        "id": "MmvzCCbCISAx",
        "colab_type": "code",
        "colab": {}
      },
      "source": [
        "def get_model9():\n",
        "    #params\n",
        "    dr_r = 0.5\n",
        "    \n",
        "    #Inputs\n",
        "    name = Input(shape=[X_train[\"name\"].shape[1]], name=\"name\")\n",
        "    item_desc = Input(shape=[X_train[\"item_desc\"].shape[1]], name=\"item_desc\")\n",
        "    brand_name = Input(shape=[1], name=\"brand_name\")\n",
        "    subcat1 = Input(shape=[1], name=\"subcat1\")\n",
        "    subcat2 = Input(shape=[1], name=\"subcat2\")\n",
        "    subcat3 = Input(shape=[1], name=\"subcat3\")\n",
        "    item_condition = Input(shape=[1], name=\"item_condition\")\n",
        "    num_vars = Input(shape=[1], name=\"num_vars\")\n",
        "    \n",
        "    #Embeddings layers\n",
        "    emb_name = Embedding(MAX_TEXT, 50)(name)\n",
        "    emb_item_desc = Embedding(MAX_TEXT, 50)(item_desc)\n",
        "    emb_brand_name = Embedding(MAX_BRAND, 50)(brand_name)\n",
        "    emb_subcat_1 = Embedding(MAX_CAT1, 10)(subcat1)\n",
        "    emb_subcat_2 = Embedding(MAX_CAT2, 20)(subcat2)\n",
        "    emb_subcat_3 = Embedding(MAX_CAT3, 30)(subcat3)\n",
        "\n",
        " \n",
        "    #rnn layer\n",
        "    cnn_layer1 = Conv1D(filters=16, kernel_size=5, activation='relu') (emb_item_desc)\n",
        "    cnn_layer2 = Conv1D(filters=16, kernel_size=5, activation='relu')(emb_name)\n",
        "    \n",
        "    cnn_layer1 = GlobalMaxPooling1D()(cnn_layer1)\n",
        "    cnn_layer2 = GlobalMaxPooling1D()(cnn_layer2)\n",
        "    \n",
        "    #main layer\n",
        "    main_l = concatenate([\n",
        "        Flatten() (emb_brand_name)\n",
        "        , Flatten() (emb_subcat_1)\n",
        "        , Flatten() (emb_subcat_2)\n",
        "        , Flatten() (emb_subcat_3)\n",
        "        , cnn_layer1\n",
        "        , cnn_layer2\n",
        "        , num_vars\n",
        "        , item_condition\n",
        "    ])\n",
        "    \n",
        "    main_l = Dropout(dr_r) (Dense(256, activation=\"relu\") (main_l))\n",
        "    main_l = Dropout(dr_r) (Dense(128, activation=\"relu\") (main_l))\n",
        "    main_l = Dropout(dr_r) (Dense(64, activation=\"relu\") (main_l))\n",
        "    \n",
        "    \n",
        "    #output\n",
        "    output = Dense(1, activation=\"linear\") (main_l)\n",
        "    \n",
        "    #model\n",
        "    model = Model([name, item_desc, brand_name, subcat1, subcat2, subcat3, item_condition, num_vars], output)\n",
        "    \n",
        "    model.compile(loss=\"mse\", optimizer=\"adam\", metrics=[\"mae\", rmsle_cust])\n",
        "    \n",
        "    return model\n",
        "\n",
        "    \n",
        "model = get_model9()\n",
        "model.summary()"
      ],
      "execution_count": 0,
      "outputs": []
    },
    {
      "cell_type": "code",
      "metadata": {
        "id": "Vo376LF6xW31",
        "colab_type": "code",
        "colab": {}
      },
      "source": [
        "#FITTING THE MODEL\n",
        "BATCH_SIZE = 10000\n",
        "epochs = 15\n",
        "\n",
        "model = get_model9()\n",
        "model.fit(X_train, dtrain.target, epochs=epochs, batch_size=BATCH_SIZE\n",
        "          , validation_data=(X_valid, dvalid.target)\n",
        "          , verbose=1)"
      ],
      "execution_count": 0,
      "outputs": []
    },
    {
      "cell_type": "markdown",
      "metadata": {
        "id": "7mRXeK2MxV49",
        "colab_type": "text"
      },
      "source": [
        "Nakon 5 epoha:  RMSLE na validacijskom: 0.49636820125708847\n",
        "\n",
        "Nakon 15 epoha:  RMSLE na validacijskom: 0.4859954799040339\n",
        "\n",
        "Ne dobijem ništa od povećavanja kernel size-a, odustajem.\n"
      ]
    },
    {
      "cell_type": "markdown",
      "metadata": {
        "id": "up9doY4MISs-",
        "colab_type": "text"
      },
      "source": [
        "Dodajem regularizers"
      ]
    },
    {
      "cell_type": "code",
      "metadata": {
        "id": "9-dsM5IDIAUH",
        "colab_type": "code",
        "outputId": "87047e15-006f-4f91-ef2c-57c0b623948d",
        "colab": {
          "base_uri": "https://localhost:8080/",
          "height": 1672
        }
      },
      "source": [
        "#KERAS MODEL DEFINITION\n",
        "from keras.layers import Input, Dropout, Dense, BatchNormalization, Activation, concatenate, Conv1D, GlobalMaxPooling1D, Embedding, Flatten, BatchNormalization\n",
        "from keras.models import Model\n",
        "from keras.callbacks import ModelCheckpoint, Callback, EarlyStopping\n",
        "from keras import backend as K\n",
        "from keras import regularizers\n",
        "\n",
        "def get_model10():\n",
        "    #params\n",
        "    dr_r = 0.5\n",
        "    \n",
        "    #Inputs\n",
        "    name = Input(shape=[X_train[\"name\"].shape[1]], name=\"name\")\n",
        "    item_desc = Input(shape=[X_train[\"item_desc\"].shape[1]], name=\"item_desc\")\n",
        "    brand_name = Input(shape=[1], name=\"brand_name\")\n",
        "    subcat1 = Input(shape=[1], name=\"subcat1\")\n",
        "    subcat2 = Input(shape=[1], name=\"subcat2\")\n",
        "    subcat3 = Input(shape=[1], name=\"subcat3\")\n",
        "    item_condition = Input(shape=[1], name=\"item_condition\")\n",
        "    num_vars = Input(shape=[1], name=\"num_vars\")\n",
        "    \n",
        "    #Embeddings layers\n",
        "    emb_name = Embedding(MAX_TEXT, 50)(name)\n",
        "    emb_item_desc = Embedding(MAX_TEXT, 50)(item_desc)\n",
        "    emb_brand_name = Embedding(MAX_BRAND, 50)(brand_name)\n",
        "    emb_subcat_1 = Embedding(MAX_CAT1, 10)(subcat1)\n",
        "    emb_subcat_2 = Embedding(MAX_CAT2, 20)(subcat2)\n",
        "    emb_subcat_3 = Embedding(MAX_CAT3, 30)(subcat3)\n",
        "\n",
        " \n",
        "    #rnn layer\n",
        "    cnn_layer1 = Conv1D(filters=16, kernel_size=3, activation='relu',kernel_regularizer=regularizers.l2(0.01)) (emb_item_desc)\n",
        "    cnn_layer2 = Conv1D(filters=16, kernel_size=3, activation='relu',kernel_regularizer=regularizers.l2(0.01))(emb_name)\n",
        "    \n",
        "    cnn_layer1 = GlobalMaxPooling1D()(cnn_layer1)\n",
        "    cnn_layer2 = GlobalMaxPooling1D()(cnn_layer2)\n",
        "    \n",
        "    #main layer\n",
        "    main_l = concatenate([\n",
        "        Flatten() (emb_brand_name)\n",
        "        , Flatten() (emb_subcat_1)\n",
        "        , Flatten() (emb_subcat_2)\n",
        "        , Flatten() (emb_subcat_3)\n",
        "        , cnn_layer1\n",
        "        , cnn_layer2\n",
        "        , num_vars\n",
        "        , item_condition\n",
        "    ])\n",
        "    \n",
        "    main_l = Dropout(dr_r) (Dense(256, activation=\"relu\") (main_l))\n",
        "    main_l = Dropout(dr_r) (Dense(128, activation=\"relu\") (main_l))\n",
        "    main_l = Dropout(dr_r) (Dense(64, activation=\"relu\") (main_l))\n",
        "    \n",
        "    \n",
        "    #output\n",
        "    output = Dense(1, activation=\"linear\") (main_l)\n",
        "    \n",
        "    #model\n",
        "    model = Model([name, item_desc, brand_name, subcat1, subcat2, subcat3, item_condition, num_vars], output)\n",
        "    \n",
        "    model.compile(loss=\"mse\", optimizer=\"adam\", metrics=[\"mae\", rmsle_cust])\n",
        "    \n",
        "    return model\n",
        "\n",
        "    \n",
        "model = get_model10()\n",
        "model.summary()"
      ],
      "execution_count": 21,
      "outputs": [
        {
          "output_type": "stream",
          "text": [
            "WARNING: Logging before flag parsing goes to stderr.\n",
            "W0618 15:03:05.771106 139898051307392 deprecation_wrapper.py:119] From /usr/local/lib/python3.6/dist-packages/keras/backend/tensorflow_backend.py:517: The name tf.placeholder is deprecated. Please use tf.compat.v1.placeholder instead.\n",
            "\n",
            "W0618 15:03:05.795740 139898051307392 deprecation_wrapper.py:119] From /usr/local/lib/python3.6/dist-packages/keras/backend/tensorflow_backend.py:74: The name tf.get_default_graph is deprecated. Please use tf.compat.v1.get_default_graph instead.\n",
            "\n",
            "W0618 15:03:05.797505 139898051307392 deprecation_wrapper.py:119] From /usr/local/lib/python3.6/dist-packages/keras/backend/tensorflow_backend.py:4138: The name tf.random_uniform is deprecated. Please use tf.random.uniform instead.\n",
            "\n",
            "W0618 15:03:05.956928 139898051307392 deprecation_wrapper.py:119] From /usr/local/lib/python3.6/dist-packages/keras/backend/tensorflow_backend.py:133: The name tf.placeholder_with_default is deprecated. Please use tf.compat.v1.placeholder_with_default instead.\n",
            "\n",
            "W0618 15:03:05.969228 139898051307392 deprecation.py:506] From /usr/local/lib/python3.6/dist-packages/keras/backend/tensorflow_backend.py:3445: calling dropout (from tensorflow.python.ops.nn_ops) with keep_prob is deprecated and will be removed in a future version.\n",
            "Instructions for updating:\n",
            "Please use `rate` instead of `keep_prob`. Rate should be set to `rate = 1 - keep_prob`.\n",
            "W0618 15:03:06.063752 139898051307392 deprecation_wrapper.py:119] From /usr/local/lib/python3.6/dist-packages/keras/optimizers.py:790: The name tf.train.Optimizer is deprecated. Please use tf.compat.v1.train.Optimizer instead.\n",
            "\n",
            "W0618 15:03:06.104329 139898051307392 deprecation_wrapper.py:119] From /usr/local/lib/python3.6/dist-packages/keras/backend/tensorflow_backend.py:1521: The name tf.log is deprecated. Please use tf.math.log instead.\n",
            "\n"
          ],
          "name": "stderr"
        },
        {
          "output_type": "stream",
          "text": [
            "__________________________________________________________________________________________________\n",
            "Layer (type)                    Output Shape         Param #     Connected to                     \n",
            "==================================================================================================\n",
            "item_desc (InputLayer)          (None, 75)           0                                            \n",
            "__________________________________________________________________________________________________\n",
            "name (InputLayer)               (None, 8)            0                                            \n",
            "__________________________________________________________________________________________________\n",
            "brand_name (InputLayer)         (None, 1)            0                                            \n",
            "__________________________________________________________________________________________________\n",
            "subcat1 (InputLayer)            (None, 1)            0                                            \n",
            "__________________________________________________________________________________________________\n",
            "subcat2 (InputLayer)            (None, 1)            0                                            \n",
            "__________________________________________________________________________________________________\n",
            "subcat3 (InputLayer)            (None, 1)            0                                            \n",
            "__________________________________________________________________________________________________\n",
            "embedding_2 (Embedding)         (None, 75, 50)       12954400    item_desc[0][0]                  \n",
            "__________________________________________________________________________________________________\n",
            "embedding_1 (Embedding)         (None, 8, 50)        12954400    name[0][0]                       \n",
            "__________________________________________________________________________________________________\n",
            "embedding_3 (Embedding)         (None, 1, 50)        264500      brand_name[0][0]                 \n",
            "__________________________________________________________________________________________________\n",
            "embedding_4 (Embedding)         (None, 1, 10)        110         subcat1[0][0]                    \n",
            "__________________________________________________________________________________________________\n",
            "embedding_5 (Embedding)         (None, 1, 20)        2280        subcat2[0][0]                    \n",
            "__________________________________________________________________________________________________\n",
            "embedding_6 (Embedding)         (None, 1, 30)        26490       subcat3[0][0]                    \n",
            "__________________________________________________________________________________________________\n",
            "conv1d_1 (Conv1D)               (None, 73, 16)       2416        embedding_2[0][0]                \n",
            "__________________________________________________________________________________________________\n",
            "conv1d_2 (Conv1D)               (None, 6, 16)        2416        embedding_1[0][0]                \n",
            "__________________________________________________________________________________________________\n",
            "flatten_1 (Flatten)             (None, 50)           0           embedding_3[0][0]                \n",
            "__________________________________________________________________________________________________\n",
            "flatten_2 (Flatten)             (None, 10)           0           embedding_4[0][0]                \n",
            "__________________________________________________________________________________________________\n",
            "flatten_3 (Flatten)             (None, 20)           0           embedding_5[0][0]                \n",
            "__________________________________________________________________________________________________\n",
            "flatten_4 (Flatten)             (None, 30)           0           embedding_6[0][0]                \n",
            "__________________________________________________________________________________________________\n",
            "global_max_pooling1d_1 (GlobalM (None, 16)           0           conv1d_1[0][0]                   \n",
            "__________________________________________________________________________________________________\n",
            "global_max_pooling1d_2 (GlobalM (None, 16)           0           conv1d_2[0][0]                   \n",
            "__________________________________________________________________________________________________\n",
            "num_vars (InputLayer)           (None, 1)            0                                            \n",
            "__________________________________________________________________________________________________\n",
            "item_condition (InputLayer)     (None, 1)            0                                            \n",
            "__________________________________________________________________________________________________\n",
            "concatenate_1 (Concatenate)     (None, 144)          0           flatten_1[0][0]                  \n",
            "                                                                 flatten_2[0][0]                  \n",
            "                                                                 flatten_3[0][0]                  \n",
            "                                                                 flatten_4[0][0]                  \n",
            "                                                                 global_max_pooling1d_1[0][0]     \n",
            "                                                                 global_max_pooling1d_2[0][0]     \n",
            "                                                                 num_vars[0][0]                   \n",
            "                                                                 item_condition[0][0]             \n",
            "__________________________________________________________________________________________________\n",
            "dense_1 (Dense)                 (None, 256)          37120       concatenate_1[0][0]              \n",
            "__________________________________________________________________________________________________\n",
            "dropout_1 (Dropout)             (None, 256)          0           dense_1[0][0]                    \n",
            "__________________________________________________________________________________________________\n",
            "dense_2 (Dense)                 (None, 128)          32896       dropout_1[0][0]                  \n",
            "__________________________________________________________________________________________________\n",
            "dropout_2 (Dropout)             (None, 128)          0           dense_2[0][0]                    \n",
            "__________________________________________________________________________________________________\n",
            "dense_3 (Dense)                 (None, 64)           8256        dropout_2[0][0]                  \n",
            "__________________________________________________________________________________________________\n",
            "dropout_3 (Dropout)             (None, 64)           0           dense_3[0][0]                    \n",
            "__________________________________________________________________________________________________\n",
            "dense_4 (Dense)                 (None, 1)            65          dropout_3[0][0]                  \n",
            "==================================================================================================\n",
            "Total params: 26,285,349\n",
            "Trainable params: 26,285,349\n",
            "Non-trainable params: 0\n",
            "__________________________________________________________________________________________________\n"
          ],
          "name": "stdout"
        }
      ]
    },
    {
      "cell_type": "code",
      "metadata": {
        "id": "EC6JKAEHIeG6",
        "colab_type": "code",
        "outputId": "f4e28ab3-e72b-4a59-c633-14fcb020aaf2",
        "colab": {
          "base_uri": "https://localhost:8080/",
          "height": 255
        }
      },
      "source": [
        "#FITTING THE MODEL\n",
        "BATCH_SIZE = 10000\n",
        "epochs = 5\n",
        "\n",
        "model = get_model10()\n",
        "model.fit(X_train, dtrain.target, epochs=epochs, batch_size=BATCH_SIZE\n",
        "          , validation_data=(X_valid, dvalid.target)\n",
        "          , verbose=1)"
      ],
      "execution_count": 24,
      "outputs": [
        {
          "output_type": "stream",
          "text": [
            "Train on 1408408 samples, validate on 74127 samples\n",
            "Epoch 1/5\n",
            "1408408/1408408 [==============================] - 199s 141us/step - loss: 0.2008 - mean_absolute_error: 0.1404 - rmsle_cust: 0.0168 - val_loss: 0.0475 - val_mean_absolute_error: 0.1162 - val_rmsle_cust: 0.0150\n",
            "Epoch 2/5\n",
            "1408408/1408408 [==============================] - 195s 139us/step - loss: 0.0277 - mean_absolute_error: 0.1087 - rmsle_cust: 0.0146 - val_loss: 0.0179 - val_mean_absolute_error: 0.0987 - val_rmsle_cust: 0.0137\n",
            "Epoch 3/5\n",
            "1408408/1408408 [==============================] - 197s 140us/step - loss: 0.0184 - mean_absolute_error: 0.1014 - rmsle_cust: 0.0139 - val_loss: 0.0162 - val_mean_absolute_error: 0.0944 - val_rmsle_cust: 0.0134\n",
            "Epoch 4/5\n",
            "1408408/1408408 [==============================] - 193s 137us/step - loss: 0.0170 - mean_absolute_error: 0.0977 - rmsle_cust: 0.0135 - val_loss: 0.0155 - val_mean_absolute_error: 0.0931 - val_rmsle_cust: 0.0128\n",
            "Epoch 5/5\n",
            "1408408/1408408 [==============================] - 196s 139us/step - loss: 0.0162 - mean_absolute_error: 0.0951 - rmsle_cust: 0.0132 - val_loss: 0.0151 - val_mean_absolute_error: 0.0916 - val_rmsle_cust: 0.0123\n"
          ],
          "name": "stdout"
        },
        {
          "output_type": "execute_result",
          "data": {
            "text/plain": [
              "<keras.callbacks.History at 0x7f3be3935860>"
            ]
          },
          "metadata": {
            "tags": []
          },
          "execution_count": 24
        }
      ]
    },
    {
      "cell_type": "code",
      "metadata": {
        "id": "j_HKmE0RIkZM",
        "colab_type": "code",
        "outputId": "ebb1d042-1555-4b6c-acd9-dcd821c62823",
        "colab": {
          "base_uri": "https://localhost:8080/",
          "height": 35
        }
      },
      "source": [
        "#EVALUEATE THE MODEL ON DEV TEST: What is it doing?\n",
        "val_preds = model.predict(X_valid)\n",
        "val_preds = target_scaler.inverse_transform(val_preds)\n",
        "val_preds = np.exp(val_preds)+1\n",
        "\n",
        "#mean_absolute_error, mean_squared_log_error\n",
        "y_true = np.array(dvalid.price.values)\n",
        "y_pred = val_preds[:,0]\n",
        "v_rmsle = rmsle(y_true, y_pred)\n",
        "print(\" RMSLE na validacijskom: \"+str(v_rmsle))"
      ],
      "execution_count": 25,
      "outputs": [
        {
          "output_type": "stream",
          "text": [
            " RMSLE na validacijskom: 0.4863006604782542\n"
          ],
          "name": "stdout"
        }
      ]
    },
    {
      "cell_type": "markdown",
      "metadata": {
        "id": "QgvhqFO1Il8l",
        "colab_type": "text"
      },
      "source": [
        "5 epoha: RMSLE na validacijskom: 0.4838138394894774\n",
        "\n",
        "10 epoha: RMSLE na validacijskom: 0.4786297305794245\n",
        "\n",
        "15 epoha:  RMSLE na validacijskom: 0.4711620291410097\n",
        "\n",
        "20 epoha:  RMSLE na validacijskom: 0.47936733148934196\n",
        "\n"
      ]
    },
    {
      "cell_type": "code",
      "metadata": {
        "id": "ACzQOIE6MaMw",
        "colab_type": "code",
        "outputId": "25771f86-fc11-4164-936c-d43fa7ee5a69",
        "colab": {
          "base_uri": "https://localhost:8080/",
          "height": 1361
        }
      },
      "source": [
        "#KERAS MODEL DEFINITION\n",
        "from keras.layers import Input, Dropout, Dense, BatchNormalization, Activation, concatenate, Conv1D, GlobalMaxPooling1D, Embedding, Flatten, BatchNormalization\n",
        "from keras.models import Model\n",
        "from keras.callbacks import ModelCheckpoint, Callback, EarlyStopping\n",
        "from keras import backend as K\n",
        "from keras import regularizers\n",
        "\n",
        "def get_model11():\n",
        "    #params\n",
        "    dr_r = 0.5\n",
        "    \n",
        "    #Inputs\n",
        "    name = Input(shape=[X_train[\"name\"].shape[1]], name=\"name\")\n",
        "    item_desc = Input(shape=[X_train[\"item_desc\"].shape[1]], name=\"item_desc\")\n",
        "    brand_name = Input(shape=[1], name=\"brand_name\")\n",
        "    subcat1 = Input(shape=[1], name=\"subcat1\")\n",
        "    subcat2 = Input(shape=[1], name=\"subcat2\")\n",
        "    subcat3 = Input(shape=[1], name=\"subcat3\")\n",
        "    item_condition = Input(shape=[1], name=\"item_condition\")\n",
        "    num_vars = Input(shape=[1], name=\"num_vars\")\n",
        "    \n",
        "    #Embeddings layers\n",
        "    emb_name = Embedding(MAX_TEXT, 64)(name)\n",
        "    emb_item_desc = Embedding(MAX_TEXT, 64)(item_desc)\n",
        "    emb_brand_name = Embedding(MAX_BRAND, 64)(brand_name)\n",
        "    emb_subcat_1 = Embedding(MAX_CAT1, 10)(subcat1)\n",
        "    emb_subcat_2 = Embedding(MAX_CAT2, 20)(subcat2)\n",
        "    emb_subcat_3 = Embedding(MAX_CAT3, 30)(subcat3)\n",
        "\n",
        " \n",
        "    #rnn layer\n",
        "    cnn_layer1 = Conv1D(filters=16, kernel_size=3, activation='relu',kernel_regularizer=regularizers.l2(0.01)) (emb_item_desc)\n",
        "    cnn_layer2 = Conv1D(filters=16, kernel_size=3, activation='relu',kernel_regularizer=regularizers.l2(0.01))(emb_name)\n",
        "    \n",
        "    cnn_layer1 = GlobalMaxPooling1D()(cnn_layer1)\n",
        "    cnn_layer2 = GlobalMaxPooling1D()(cnn_layer2)\n",
        "    \n",
        "    #main layer\n",
        "    main_l = concatenate([\n",
        "        Flatten() (emb_brand_name)\n",
        "        , Flatten() (emb_subcat_1)\n",
        "        , Flatten() (emb_subcat_2)\n",
        "        , Flatten() (emb_subcat_3)\n",
        "        , cnn_layer1\n",
        "        , cnn_layer2\n",
        "        , num_vars\n",
        "        , item_condition\n",
        "    ])\n",
        "    \n",
        "    main_l = Dropout(dr_r) (Dense(256, activation=\"relu\") (main_l))\n",
        "    main_l = Dropout(dr_r) (Dense(128, activation=\"relu\") (main_l))\n",
        "    main_l = Dropout(dr_r) (Dense(64, activation=\"relu\") (main_l))\n",
        "    \n",
        "    \n",
        "    #output\n",
        "    output = Dense(1, activation=\"linear\") (main_l)\n",
        "    \n",
        "    #model\n",
        "    model = Model([name, item_desc, brand_name, subcat1, subcat2, subcat3, item_condition, num_vars], output)\n",
        "    \n",
        "    model.compile(loss=\"mse\", optimizer=\"adam\", metrics=[\"mae\", rmsle_cust])\n",
        "    \n",
        "    return model\n",
        "\n",
        "    \n",
        "model = get_model11()\n",
        "model.summary()"
      ],
      "execution_count": 36,
      "outputs": [
        {
          "output_type": "stream",
          "text": [
            "__________________________________________________________________________________________________\n",
            "Layer (type)                    Output Shape         Param #     Connected to                     \n",
            "==================================================================================================\n",
            "item_desc (InputLayer)          (None, 75)           0                                            \n",
            "__________________________________________________________________________________________________\n",
            "name (InputLayer)               (None, 8)            0                                            \n",
            "__________________________________________________________________________________________________\n",
            "brand_name (InputLayer)         (None, 1)            0                                            \n",
            "__________________________________________________________________________________________________\n",
            "subcat1 (InputLayer)            (None, 1)            0                                            \n",
            "__________________________________________________________________________________________________\n",
            "subcat2 (InputLayer)            (None, 1)            0                                            \n",
            "__________________________________________________________________________________________________\n",
            "subcat3 (InputLayer)            (None, 1)            0                                            \n",
            "__________________________________________________________________________________________________\n",
            "embedding_59 (Embedding)        (None, 75, 64)       16581632    item_desc[0][0]                  \n",
            "__________________________________________________________________________________________________\n",
            "embedding_58 (Embedding)        (None, 8, 64)        16581632    name[0][0]                       \n",
            "__________________________________________________________________________________________________\n",
            "embedding_60 (Embedding)        (None, 1, 64)        338560      brand_name[0][0]                 \n",
            "__________________________________________________________________________________________________\n",
            "embedding_61 (Embedding)        (None, 1, 10)        110         subcat1[0][0]                    \n",
            "__________________________________________________________________________________________________\n",
            "embedding_62 (Embedding)        (None, 1, 20)        2280        subcat2[0][0]                    \n",
            "__________________________________________________________________________________________________\n",
            "embedding_63 (Embedding)        (None, 1, 30)        26490       subcat3[0][0]                    \n",
            "__________________________________________________________________________________________________\n",
            "conv1d_9 (Conv1D)               (None, 73, 16)       3088        embedding_59[0][0]               \n",
            "__________________________________________________________________________________________________\n",
            "conv1d_10 (Conv1D)              (None, 6, 16)        3088        embedding_58[0][0]               \n",
            "__________________________________________________________________________________________________\n",
            "flatten_37 (Flatten)            (None, 64)           0           embedding_60[0][0]               \n",
            "__________________________________________________________________________________________________\n",
            "flatten_38 (Flatten)            (None, 10)           0           embedding_61[0][0]               \n",
            "__________________________________________________________________________________________________\n",
            "flatten_39 (Flatten)            (None, 20)           0           embedding_62[0][0]               \n",
            "__________________________________________________________________________________________________\n",
            "flatten_40 (Flatten)            (None, 30)           0           embedding_63[0][0]               \n",
            "__________________________________________________________________________________________________\n",
            "global_max_pooling1d_9 (GlobalM (None, 16)           0           conv1d_9[0][0]                   \n",
            "__________________________________________________________________________________________________\n",
            "global_max_pooling1d_10 (Global (None, 16)           0           conv1d_10[0][0]                  \n",
            "__________________________________________________________________________________________________\n",
            "num_vars (InputLayer)           (None, 1)            0                                            \n",
            "__________________________________________________________________________________________________\n",
            "item_condition (InputLayer)     (None, 1)            0                                            \n",
            "__________________________________________________________________________________________________\n",
            "concatenate_10 (Concatenate)    (None, 158)          0           flatten_37[0][0]                 \n",
            "                                                                 flatten_38[0][0]                 \n",
            "                                                                 flatten_39[0][0]                 \n",
            "                                                                 flatten_40[0][0]                 \n",
            "                                                                 global_max_pooling1d_9[0][0]     \n",
            "                                                                 global_max_pooling1d_10[0][0]    \n",
            "                                                                 num_vars[0][0]                   \n",
            "                                                                 item_condition[0][0]             \n",
            "__________________________________________________________________________________________________\n",
            "dense_38 (Dense)                (None, 256)          40704       concatenate_10[0][0]             \n",
            "__________________________________________________________________________________________________\n",
            "dropout_10 (Dropout)            (None, 256)          0           dense_38[0][0]                   \n",
            "__________________________________________________________________________________________________\n",
            "dense_39 (Dense)                (None, 128)          32896       dropout_10[0][0]                 \n",
            "__________________________________________________________________________________________________\n",
            "dropout_11 (Dropout)            (None, 128)          0           dense_39[0][0]                   \n",
            "__________________________________________________________________________________________________\n",
            "dense_40 (Dense)                (None, 64)           8256        dropout_11[0][0]                 \n",
            "__________________________________________________________________________________________________\n",
            "dropout_12 (Dropout)            (None, 64)           0           dense_40[0][0]                   \n",
            "__________________________________________________________________________________________________\n",
            "dense_41 (Dense)                (None, 1)            65          dropout_12[0][0]                 \n",
            "==================================================================================================\n",
            "Total params: 33,618,801\n",
            "Trainable params: 33,618,801\n",
            "Non-trainable params: 0\n",
            "__________________________________________________________________________________________________\n"
          ],
          "name": "stdout"
        }
      ]
    },
    {
      "cell_type": "code",
      "metadata": {
        "id": "nuy3bPnWMiz0",
        "colab_type": "code",
        "outputId": "a480adeb-5514-4932-bafb-eb6fef8bd3ea",
        "colab": {
          "base_uri": "https://localhost:8080/",
          "height": 255
        }
      },
      "source": [
        "#FITTING THE MODEL\n",
        "BATCH_SIZE = 10000\n",
        "epochs = 5\n",
        "\n",
        "model = get_model11()\n",
        "model.fit(X_train, dtrain.target, epochs=epochs, batch_size=BATCH_SIZE\n",
        "          , validation_data=(X_valid, dvalid.target)\n",
        "          , verbose=1)"
      ],
      "execution_count": 37,
      "outputs": [
        {
          "output_type": "stream",
          "text": [
            "Train on 1408408 samples, validate on 74127 samples\n",
            "Epoch 1/5\n",
            "1408408/1408408 [==============================] - 232s 165us/step - loss: 0.1979 - mean_absolute_error: 0.1469 - rmsle_cust: 0.0173 - val_loss: 0.0428 - val_mean_absolute_error: 0.1240 - val_rmsle_cust: 0.0154\n",
            "Epoch 2/5\n",
            "1408408/1408408 [==============================] - 230s 164us/step - loss: 0.0264 - mean_absolute_error: 0.1124 - rmsle_cust: 0.0148 - val_loss: 0.0185 - val_mean_absolute_error: 0.1022 - val_rmsle_cust: 0.0142\n",
            "Epoch 3/5\n",
            "1408408/1408408 [==============================] - 230s 163us/step - loss: 0.0190 - mean_absolute_error: 0.1037 - rmsle_cust: 0.0140 - val_loss: 0.0167 - val_mean_absolute_error: 0.0971 - val_rmsle_cust: 0.0136\n",
            "Epoch 4/5\n",
            "1408408/1408408 [==============================] - 227s 161us/step - loss: 0.0175 - mean_absolute_error: 0.0995 - rmsle_cust: 0.0136 - val_loss: 0.0165 - val_mean_absolute_error: 0.0973 - val_rmsle_cust: 0.0132\n",
            "Epoch 5/5\n",
            "1408408/1408408 [==============================] - 226s 160us/step - loss: 0.0166 - mean_absolute_error: 0.0966 - rmsle_cust: 0.0133 - val_loss: 0.0154 - val_mean_absolute_error: 0.0925 - val_rmsle_cust: 0.0129\n"
          ],
          "name": "stdout"
        },
        {
          "output_type": "execute_result",
          "data": {
            "text/plain": [
              "<keras.callbacks.History at 0x7f3bde7fd828>"
            ]
          },
          "metadata": {
            "tags": []
          },
          "execution_count": 37
        }
      ]
    },
    {
      "cell_type": "code",
      "metadata": {
        "id": "yzv1z40UMmSL",
        "colab_type": "code",
        "outputId": "9141ce96-2800-4a3f-cbbc-de6babbea1b4",
        "colab": {
          "base_uri": "https://localhost:8080/",
          "height": 35
        }
      },
      "source": [
        "#EVALUEATE THE MODEL ON DEV TEST: What is it doing?\n",
        "val_preds = model.predict(X_valid)\n",
        "val_preds = target_scaler.inverse_transform(val_preds)\n",
        "val_preds = np.exp(val_preds)+1\n",
        "\n",
        "#mean_absolute_error, mean_squared_log_error\n",
        "y_true = np.array(dvalid.price.values)\n",
        "y_pred = val_preds[:,0]\n",
        "v_rmsle = rmsle(y_true, y_pred)\n",
        "print(\" RMSLE na validacijskom: \"+str(v_rmsle))"
      ],
      "execution_count": 38,
      "outputs": [
        {
          "output_type": "stream",
          "text": [
            " RMSLE na validacijskom: 0.4877910134982936\n"
          ],
          "name": "stdout"
        }
      ]
    },
    {
      "cell_type": "markdown",
      "metadata": {
        "id": "mYkz1dzCMnct",
        "colab_type": "text"
      },
      "source": [
        "S povećanim koeficijentima embeddinga, ista cnn daje sljedeće rezultate:\n",
        "\n",
        "Nakon 5 epoha: RMSLE na validacijskom: 0.47676170497333076\n",
        " tj veći nego prije."
      ]
    },
    {
      "cell_type": "code",
      "metadata": {
        "id": "yppiMLFEiSB-",
        "colab_type": "code",
        "colab": {
          "base_uri": "https://localhost:8080/",
          "height": 1527
        },
        "outputId": "7ce977f6-e49e-4b81-af27-6440fdaac8f0"
      },
      "source": [
        "\n",
        "#KERAS MODEL DEFINITION\n",
        "from keras.layers import Input, Dropout, Dense, BatchNormalization, Activation, concatenate, Conv1D, GlobalMaxPooling1D, Embedding, Flatten, BatchNormalization\n",
        "from keras.models import Model\n",
        "from keras.callbacks import ModelCheckpoint, Callback, EarlyStopping\n",
        "from keras import backend as K\n",
        "from keras import regularizers\n",
        "\n",
        "def get_model12():    \n",
        "    # Inputs\n",
        "    name = Input(shape=[X_train[\"name\"].shape[1]], name=\"name\")\n",
        "    item_desc = Input(shape=[X_train[\"item_desc\"].shape[1]], name=\"item_desc\")\n",
        "    brand_name = Input(shape=[1], name=\"brand_name\")\n",
        "    subcat1 = Input(shape=[1], name=\"subcat1\")\n",
        "    subcat2 = Input(shape=[1], name=\"subcat2\")\n",
        "    subcat3 = Input(shape=[1], name=\"subcat3\")\n",
        "    item_condition = Input(shape=[1], name=\"item_condition\")\n",
        "    num_vars = Input(shape=[X_train[\"num_vars\"].shape[1]], name=\"num_vars\")\n",
        "\n",
        "    # Embeddings layers\n",
        "    emb_name = Embedding(MAX_TEXT, 50)(name)\n",
        "    emb_item_desc = Embedding(MAX_TEXT, 60)(item_desc)\n",
        "    emb_brand_name = Embedding(MAX_BRAND, 10)(brand_name)\n",
        "    emb_subcat1 = Embedding(MAX_CAT1, 10)(subcat1)\n",
        "    emb_subcat2 = Embedding(MAX_CAT2, 10)(subcat2)\n",
        "    emb_subcat3 = Embedding(MAX_CAT3, 10)(subcat3)\n",
        "    \n",
        "    cnn_layer1 = Conv1D(filters=16, kernel_size=3, activation='relu',kernel_regularizer=regularizers.l2(0.01)) (emb_item_desc)\n",
        "    cnn_layer2 = Conv1D(filters=16, kernel_size=3, activation='relu',kernel_regularizer=regularizers.l2(0.01))(emb_name)\n",
        "    \n",
        "    cnn_layer1 = GlobalMaxPooling1D()(cnn_layer1)\n",
        "    cnn_layer2 = GlobalMaxPooling1D()(cnn_layer2)\n",
        "\n",
        "    # main layers\n",
        "    main_l = concatenate([\n",
        "        Flatten() (emb_brand_name),\n",
        "        Flatten() (emb_subcat1),\n",
        "        Flatten() (emb_subcat2),\n",
        "        Flatten() (emb_subcat3),\n",
        "        item_condition,\n",
        "        cnn_layer1,\n",
        "        cnn_layer2,\n",
        "        num_vars,\n",
        "    ])\n",
        "    \n",
        "    main_l = Dense(512)(main_l)\n",
        "    main_l = Activation('relu')(main_l)\n",
        "    \n",
        "    main_l = Dense(256)(main_l)\n",
        "    main_l = Activation('relu')(main_l)\n",
        "\n",
        "    main_l = Dense(128)(main_l)\n",
        "    main_l = Activation('relu')(main_l)\n",
        "\n",
        "    main_l = Dense(64)(main_l)\n",
        "    main_l = Activation('relu')(main_l)\n",
        "\n",
        "    # the output layer.\n",
        "    output = Dense(1, activation=\"linear\") (main_l)\n",
        "\n",
        "    model = Model([name, item_desc, brand_name, subcat1, subcat2, subcat3, item_condition, num_vars], output)\n",
        "\n",
        "    model.compile(loss=\"mse\", optimizer=\"adam\", metrics=[\"mae\", rmsle_cust])\n",
        "\n",
        "\n",
        "    return model\n",
        "\n",
        "model = get_model12()\n",
        "model.summary()"
      ],
      "execution_count": 23,
      "outputs": [
        {
          "output_type": "stream",
          "text": [
            "W0618 20:38:25.536352 140084485093248 deprecation_wrapper.py:119] From /usr/local/lib/python3.6/dist-packages/keras/optimizers.py:790: The name tf.train.Optimizer is deprecated. Please use tf.compat.v1.train.Optimizer instead.\n",
            "\n",
            "W0618 20:38:25.578406 140084485093248 deprecation_wrapper.py:119] From /usr/local/lib/python3.6/dist-packages/keras/backend/tensorflow_backend.py:1521: The name tf.log is deprecated. Please use tf.math.log instead.\n",
            "\n"
          ],
          "name": "stderr"
        },
        {
          "output_type": "stream",
          "text": [
            "__________________________________________________________________________________________________\n",
            "Layer (type)                    Output Shape         Param #     Connected to                     \n",
            "==================================================================================================\n",
            "item_desc (InputLayer)          (None, 75)           0                                            \n",
            "__________________________________________________________________________________________________\n",
            "name (InputLayer)               (None, 8)            0                                            \n",
            "__________________________________________________________________________________________________\n",
            "brand_name (InputLayer)         (None, 1)            0                                            \n",
            "__________________________________________________________________________________________________\n",
            "subcat1 (InputLayer)            (None, 1)            0                                            \n",
            "__________________________________________________________________________________________________\n",
            "subcat2 (InputLayer)            (None, 1)            0                                            \n",
            "__________________________________________________________________________________________________\n",
            "subcat3 (InputLayer)            (None, 1)            0                                            \n",
            "__________________________________________________________________________________________________\n",
            "embedding_8 (Embedding)         (None, 75, 60)       15545280    item_desc[0][0]                  \n",
            "__________________________________________________________________________________________________\n",
            "embedding_7 (Embedding)         (None, 8, 50)        12954400    name[0][0]                       \n",
            "__________________________________________________________________________________________________\n",
            "embedding_9 (Embedding)         (None, 1, 10)        52900       brand_name[0][0]                 \n",
            "__________________________________________________________________________________________________\n",
            "embedding_10 (Embedding)        (None, 1, 10)        110         subcat1[0][0]                    \n",
            "__________________________________________________________________________________________________\n",
            "embedding_11 (Embedding)        (None, 1, 10)        1140        subcat2[0][0]                    \n",
            "__________________________________________________________________________________________________\n",
            "embedding_12 (Embedding)        (None, 1, 10)        8830        subcat3[0][0]                    \n",
            "__________________________________________________________________________________________________\n",
            "conv1d_1 (Conv1D)               (None, 73, 16)       2896        embedding_8[0][0]                \n",
            "__________________________________________________________________________________________________\n",
            "conv1d_2 (Conv1D)               (None, 6, 16)        2416        embedding_7[0][0]                \n",
            "__________________________________________________________________________________________________\n",
            "flatten_1 (Flatten)             (None, 10)           0           embedding_9[0][0]                \n",
            "__________________________________________________________________________________________________\n",
            "flatten_2 (Flatten)             (None, 10)           0           embedding_10[0][0]               \n",
            "__________________________________________________________________________________________________\n",
            "flatten_3 (Flatten)             (None, 10)           0           embedding_11[0][0]               \n",
            "__________________________________________________________________________________________________\n",
            "flatten_4 (Flatten)             (None, 10)           0           embedding_12[0][0]               \n",
            "__________________________________________________________________________________________________\n",
            "item_condition (InputLayer)     (None, 1)            0                                            \n",
            "__________________________________________________________________________________________________\n",
            "global_max_pooling1d_1 (GlobalM (None, 16)           0           conv1d_1[0][0]                   \n",
            "__________________________________________________________________________________________________\n",
            "global_max_pooling1d_2 (GlobalM (None, 16)           0           conv1d_2[0][0]                   \n",
            "__________________________________________________________________________________________________\n",
            "num_vars (InputLayer)           (None, 1)            0                                            \n",
            "__________________________________________________________________________________________________\n",
            "concatenate_1 (Concatenate)     (None, 74)           0           flatten_1[0][0]                  \n",
            "                                                                 flatten_2[0][0]                  \n",
            "                                                                 flatten_3[0][0]                  \n",
            "                                                                 flatten_4[0][0]                  \n",
            "                                                                 item_condition[0][0]             \n",
            "                                                                 global_max_pooling1d_1[0][0]     \n",
            "                                                                 global_max_pooling1d_2[0][0]     \n",
            "                                                                 num_vars[0][0]                   \n",
            "__________________________________________________________________________________________________\n",
            "dense_1 (Dense)                 (None, 512)          38400       concatenate_1[0][0]              \n",
            "__________________________________________________________________________________________________\n",
            "activation_1 (Activation)       (None, 512)          0           dense_1[0][0]                    \n",
            "__________________________________________________________________________________________________\n",
            "dense_2 (Dense)                 (None, 256)          131328      activation_1[0][0]               \n",
            "__________________________________________________________________________________________________\n",
            "activation_2 (Activation)       (None, 256)          0           dense_2[0][0]                    \n",
            "__________________________________________________________________________________________________\n",
            "dense_3 (Dense)                 (None, 128)          32896       activation_2[0][0]               \n",
            "__________________________________________________________________________________________________\n",
            "activation_3 (Activation)       (None, 128)          0           dense_3[0][0]                    \n",
            "__________________________________________________________________________________________________\n",
            "dense_4 (Dense)                 (None, 64)           8256        activation_3[0][0]               \n",
            "__________________________________________________________________________________________________\n",
            "activation_4 (Activation)       (None, 64)           0           dense_4[0][0]                    \n",
            "__________________________________________________________________________________________________\n",
            "dense_5 (Dense)                 (None, 1)            65          activation_4[0][0]               \n",
            "==================================================================================================\n",
            "Total params: 28,778,917\n",
            "Trainable params: 28,778,917\n",
            "Non-trainable params: 0\n",
            "__________________________________________________________________________________________________\n"
          ],
          "name": "stdout"
        }
      ]
    },
    {
      "cell_type": "code",
      "metadata": {
        "id": "PKhxlUNQiiq9",
        "colab_type": "code",
        "colab": {}
      },
      "source": [
        "#FITTING THE MODEL\n",
        "BATCH_SIZE = 10000\n",
        "epochs = 5\n",
        "\n",
        "model = get_model12()\n",
        "model.fit(X_train, dtrain.target, epochs=epochs, batch_size=BATCH_SIZE\n",
        "          , validation_data=(X_valid, dvalid.target)\n",
        "          , verbose=1)"
      ],
      "execution_count": 0,
      "outputs": []
    },
    {
      "cell_type": "code",
      "metadata": {
        "id": "sibKClJ2ix9E",
        "colab_type": "code",
        "colab": {}
      },
      "source": [
        "#EVALUEATE THE MODEL ON DEV TEST: What is it doing?\n",
        "val_preds = model.predict(X_valid)\n",
        "val_preds = target_scaler.inverse_transform(val_preds)\n",
        "val_preds = np.exp(val_preds)+1\n",
        "\n",
        "#mean_absolute_error, mean_squared_log_error\n",
        "y_true = np.array(dvalid.price.values)\n",
        "y_pred = val_preds[:,0]\n",
        "v_rmsle = rmsle(y_true, y_pred)\n",
        "print(\" RMSLE na validacijskom: \"+str(v_rmsle))"
      ],
      "execution_count": 0,
      "outputs": []
    },
    {
      "cell_type": "markdown",
      "metadata": {
        "id": "MyXgQGtuxvZh",
        "colab_type": "text"
      },
      "source": [
        "Nakon 5 epoha:  RMSLE na validacijskom: 0.45740166297725926\n"
      ]
    },
    {
      "cell_type": "markdown",
      "metadata": {
        "id": "eJMgJxMH71Xa",
        "colab_type": "text"
      },
      "source": [
        "## Word2vec"
      ]
    },
    {
      "cell_type": "code",
      "metadata": {
        "id": "jQiLQE9p7uRK",
        "colab_type": "code",
        "outputId": "9ee1d52b-5162-48e1-936c-eaa7ca8bc228",
        "colab": {
          "base_uri": "https://localhost:8080/",
          "height": 35
        }
      },
      "source": [
        "from gensim.models import word2vec\n",
        "import re\n",
        "sentences = [s for s in [s.strip().lower().split(\" \") for i in data[\"item_description\"].values for s in re.split(\"\\.\", str(i))] if len(s) > 2]\n",
        "embedding_size = 300\n",
        "starttime = time.time()\n",
        "model = word2vec.Word2Vec(sentences, size=embedding_size, window=5, min_count=5, workers=4)\n",
        "endtime = time.time()\n",
        "print(\"Trained word2vec model in \" + str(int(np.floor((endtime - starttime)/60))) + \"m \" + str(int((endtime - starttime)%60)) + \"s.\")\n",
        "\n",
        "# Get the embeddings into a matrix\n",
        "embedding_matrix = np.zeros((len(model.wv.index2word), embedding_size))\n",
        "for i in range(0, len(model.wv.index2word)):\n",
        "    w = model.wv.index2word[i]\n",
        "    embedding_matrix[i] = model.wv[w]\n"
      ],
      "execution_count": 0,
      "outputs": [
        {
          "output_type": "stream",
          "text": [
            "Trained word2vec model in 7m 43s.\n"
          ],
          "name": "stdout"
        }
      ]
    },
    {
      "cell_type": "code",
      "metadata": {
        "id": "g2Tqq5qYLrIr",
        "colab_type": "code",
        "outputId": "a78ea3c0-7629-4d75-edfd-c2af476c207f",
        "colab": {
          "base_uri": "https://localhost:8080/",
          "height": 35
        }
      },
      "source": [
        "embedding_matrix.shape"
      ],
      "execution_count": 0,
      "outputs": [
        {
          "output_type": "execute_result",
          "data": {
            "text/plain": [
              "(99843, 300)"
            ]
          },
          "metadata": {
            "tags": []
          },
          "execution_count": 32
        }
      ]
    },
    {
      "cell_type": "code",
      "metadata": {
        "id": "n3LCsRd_WS7M",
        "colab_type": "code",
        "colab": {}
      },
      "source": [
        "import keras\n",
        "def truncated_normal(seed):\n",
        "    return keras.initializers.TruncatedNormal(mean=0.0, stddev=0.05, seed=seed)"
      ],
      "execution_count": 0,
      "outputs": []
    },
    {
      "cell_type": "code",
      "metadata": {
        "id": "Ss-10ezTSBCw",
        "colab_type": "code",
        "colab": {}
      },
      "source": [
        "# create cnn model\n",
        "from keras.layers import Embedding, Dense, Input, Flatten\n",
        "from keras.layers import Conv1D, GlobalMaxPooling1D, Concatenate, Dropout\n",
        "from keras.models import Model\n",
        "from keras.preprocessing.text import Tokenizer\n",
        "\n",
        "tokenizer = Tokenizer(num_words=20) #20 najčešćih riječi\n",
        "\n",
        "# parameters\n",
        "input_length = pad_sequences(tokenizer.texts_to_sequences(data['item_description'].astype(str).tolist())).shape[1] # len (num words) of longest description\n",
        "seed = 0\n",
        "filter_sizes = [2,3]\n",
        "n_filters = 2\n",
        "dropout_prob = 0.5\n",
        "EMBEDDING_DIM=300\n",
        "\n",
        "def create_cnn(include_top=True, weights=None):    \n",
        "\n",
        "    # input\n",
        "    sequence_input = Input(shape=(input_length,), dtype='int32', name='input')\n",
        "    # embedding_layer\n",
        "    embedding_layer = Embedding(99843, EMBEDDING_DIM, weights=[embedding_matrix], input_length=input_length\n",
        "                                , name='embedding', trainable=False)(sequence_input)\n",
        "    # conv layer\n",
        "    features = []\n",
        "    i = 0\n",
        "    for filter_size in filter_sizes:\n",
        "        i += 1\n",
        "        # conv layer\n",
        "        conv = Conv1D(n_filters, filter_size, activation='relu', kernel_initializer=truncated_normal(seed)\n",
        "                      , name='conv'+str(i))(embedding_layer)\n",
        "        # global max pooling\n",
        "        conv = GlobalMaxPooling1D(name='pool'+str(i))(conv)\n",
        "        # add features together\n",
        "        features.append(conv)\n",
        "    # penultimate layer\n",
        "    nn = Concatenate(name='features')(features)\n",
        "    if include_top:\n",
        "        # dropout\n",
        "        nn = Dropout(dropout_prob, seed=seed, name='dropout')(nn)\n",
        "        # fully connected layer\n",
        "        preds = Dense(1, kernel_initializer=truncated_normal(seed), name='output')(nn)\n",
        "\n",
        "        model = Model(sequence_input, preds)\n",
        "    else:\n",
        "        model = Model(sequence_input, nn)\n",
        "    \n",
        "    \n",
        "    if weights is not None:\n",
        "        model.set_weights(weights)\n",
        "        \n",
        "    return model"
      ],
      "execution_count": 0,
      "outputs": []
    },
    {
      "cell_type": "code",
      "metadata": {
        "id": "Yp6OueF1TwQe",
        "colab_type": "code",
        "outputId": "e1da73dc-9dfd-4282-82e9-aed43c813427",
        "colab": {
          "base_uri": "https://localhost:8080/",
          "height": 469
        }
      },
      "source": [
        "model = create_cnn()\n",
        "model.summary()"
      ],
      "execution_count": 0,
      "outputs": [
        {
          "output_type": "error",
          "ename": "ValueError",
          "evalue": "ignored",
          "traceback": [
            "\u001b[0;31m---------------------------------------------------------------------------\u001b[0m",
            "\u001b[0;31mInvalidArgumentError\u001b[0m                      Traceback (most recent call last)",
            "\u001b[0;32m/usr/local/lib/python3.6/dist-packages/tensorflow/python/framework/ops.py\u001b[0m in \u001b[0;36m_create_c_op\u001b[0;34m(graph, node_def, inputs, control_inputs)\u001b[0m\n\u001b[1;32m   1863\u001b[0m   \u001b[0;32mtry\u001b[0m\u001b[0;34m:\u001b[0m\u001b[0;34m\u001b[0m\u001b[0;34m\u001b[0m\u001b[0m\n\u001b[0;32m-> 1864\u001b[0;31m     \u001b[0mc_op\u001b[0m \u001b[0;34m=\u001b[0m \u001b[0mc_api\u001b[0m\u001b[0;34m.\u001b[0m\u001b[0mTF_FinishOperation\u001b[0m\u001b[0;34m(\u001b[0m\u001b[0mop_desc\u001b[0m\u001b[0;34m)\u001b[0m\u001b[0;34m\u001b[0m\u001b[0;34m\u001b[0m\u001b[0m\n\u001b[0m\u001b[1;32m   1865\u001b[0m   \u001b[0;32mexcept\u001b[0m \u001b[0merrors\u001b[0m\u001b[0;34m.\u001b[0m\u001b[0mInvalidArgumentError\u001b[0m \u001b[0;32mas\u001b[0m \u001b[0me\u001b[0m\u001b[0;34m:\u001b[0m\u001b[0;34m\u001b[0m\u001b[0;34m\u001b[0m\u001b[0m\n",
            "\u001b[0;31mInvalidArgumentError\u001b[0m: Negative dimension size caused by subtracting 2 from 0 for 'conv1/convolution' (op: 'Conv2D') with input shapes: [?,1,0,300], [1,2,300,2].",
            "\nDuring handling of the above exception, another exception occurred:\n",
            "\u001b[0;31mValueError\u001b[0m                                Traceback (most recent call last)",
            "\u001b[0;32m<ipython-input-51-3cfb07ea73fb>\u001b[0m in \u001b[0;36m<module>\u001b[0;34m()\u001b[0m\n\u001b[0;32m----> 1\u001b[0;31m \u001b[0mmodel\u001b[0m \u001b[0;34m=\u001b[0m \u001b[0mcreate_cnn\u001b[0m\u001b[0;34m(\u001b[0m\u001b[0;34m)\u001b[0m\u001b[0;34m\u001b[0m\u001b[0;34m\u001b[0m\u001b[0m\n\u001b[0m\u001b[1;32m      2\u001b[0m \u001b[0mmodel\u001b[0m\u001b[0;34m.\u001b[0m\u001b[0msummary\u001b[0m\u001b[0;34m(\u001b[0m\u001b[0;34m)\u001b[0m\u001b[0;34m\u001b[0m\u001b[0;34m\u001b[0m\u001b[0m\n",
            "\u001b[0;32m<ipython-input-50-d2780990a457>\u001b[0m in \u001b[0;36mcreate_cnn\u001b[0;34m(include_top, weights)\u001b[0m\n\u001b[1;32m     28\u001b[0m         \u001b[0;31m# conv layer\u001b[0m\u001b[0;34m\u001b[0m\u001b[0;34m\u001b[0m\u001b[0;34m\u001b[0m\u001b[0m\n\u001b[1;32m     29\u001b[0m         conv = Conv1D(n_filters, filter_size, activation='relu', kernel_initializer=truncated_normal(seed)\n\u001b[0;32m---> 30\u001b[0;31m                       , name='conv'+str(i))(embedding_layer)\n\u001b[0m\u001b[1;32m     31\u001b[0m         \u001b[0;31m# global max pooling\u001b[0m\u001b[0;34m\u001b[0m\u001b[0;34m\u001b[0m\u001b[0;34m\u001b[0m\u001b[0m\n\u001b[1;32m     32\u001b[0m         \u001b[0mconv\u001b[0m \u001b[0;34m=\u001b[0m \u001b[0mGlobalMaxPooling1D\u001b[0m\u001b[0;34m(\u001b[0m\u001b[0mname\u001b[0m\u001b[0;34m=\u001b[0m\u001b[0;34m'pool'\u001b[0m\u001b[0;34m+\u001b[0m\u001b[0mstr\u001b[0m\u001b[0;34m(\u001b[0m\u001b[0mi\u001b[0m\u001b[0;34m)\u001b[0m\u001b[0;34m)\u001b[0m\u001b[0;34m(\u001b[0m\u001b[0mconv\u001b[0m\u001b[0;34m)\u001b[0m\u001b[0;34m\u001b[0m\u001b[0;34m\u001b[0m\u001b[0m\n",
            "\u001b[0;32m/usr/local/lib/python3.6/dist-packages/keras/engine/base_layer.py\u001b[0m in \u001b[0;36m__call__\u001b[0;34m(self, inputs, **kwargs)\u001b[0m\n\u001b[1;32m    455\u001b[0m             \u001b[0;31m# Actually call the layer,\u001b[0m\u001b[0;34m\u001b[0m\u001b[0;34m\u001b[0m\u001b[0;34m\u001b[0m\u001b[0m\n\u001b[1;32m    456\u001b[0m             \u001b[0;31m# collecting output(s), mask(s), and shape(s).\u001b[0m\u001b[0;34m\u001b[0m\u001b[0;34m\u001b[0m\u001b[0;34m\u001b[0m\u001b[0m\n\u001b[0;32m--> 457\u001b[0;31m             \u001b[0moutput\u001b[0m \u001b[0;34m=\u001b[0m \u001b[0mself\u001b[0m\u001b[0;34m.\u001b[0m\u001b[0mcall\u001b[0m\u001b[0;34m(\u001b[0m\u001b[0minputs\u001b[0m\u001b[0;34m,\u001b[0m \u001b[0;34m**\u001b[0m\u001b[0mkwargs\u001b[0m\u001b[0;34m)\u001b[0m\u001b[0;34m\u001b[0m\u001b[0;34m\u001b[0m\u001b[0m\n\u001b[0m\u001b[1;32m    458\u001b[0m             \u001b[0moutput_mask\u001b[0m \u001b[0;34m=\u001b[0m \u001b[0mself\u001b[0m\u001b[0;34m.\u001b[0m\u001b[0mcompute_mask\u001b[0m\u001b[0;34m(\u001b[0m\u001b[0minputs\u001b[0m\u001b[0;34m,\u001b[0m \u001b[0mprevious_mask\u001b[0m\u001b[0;34m)\u001b[0m\u001b[0;34m\u001b[0m\u001b[0;34m\u001b[0m\u001b[0m\n\u001b[1;32m    459\u001b[0m \u001b[0;34m\u001b[0m\u001b[0m\n",
            "\u001b[0;32m/usr/local/lib/python3.6/dist-packages/keras/layers/convolutional.py\u001b[0m in \u001b[0;36mcall\u001b[0;34m(self, inputs)\u001b[0m\n\u001b[1;32m    161\u001b[0m                 \u001b[0mpadding\u001b[0m\u001b[0;34m=\u001b[0m\u001b[0mself\u001b[0m\u001b[0;34m.\u001b[0m\u001b[0mpadding\u001b[0m\u001b[0;34m,\u001b[0m\u001b[0;34m\u001b[0m\u001b[0;34m\u001b[0m\u001b[0m\n\u001b[1;32m    162\u001b[0m                 \u001b[0mdata_format\u001b[0m\u001b[0;34m=\u001b[0m\u001b[0mself\u001b[0m\u001b[0;34m.\u001b[0m\u001b[0mdata_format\u001b[0m\u001b[0;34m,\u001b[0m\u001b[0;34m\u001b[0m\u001b[0;34m\u001b[0m\u001b[0m\n\u001b[0;32m--> 163\u001b[0;31m                 dilation_rate=self.dilation_rate[0])\n\u001b[0m\u001b[1;32m    164\u001b[0m         \u001b[0;32mif\u001b[0m \u001b[0mself\u001b[0m\u001b[0;34m.\u001b[0m\u001b[0mrank\u001b[0m \u001b[0;34m==\u001b[0m \u001b[0;36m2\u001b[0m\u001b[0;34m:\u001b[0m\u001b[0;34m\u001b[0m\u001b[0;34m\u001b[0m\u001b[0m\n\u001b[1;32m    165\u001b[0m             outputs = K.conv2d(\n",
            "\u001b[0;32m/usr/local/lib/python3.6/dist-packages/keras/backend/tensorflow_backend.py\u001b[0m in \u001b[0;36mconv1d\u001b[0;34m(x, kernel, strides, padding, data_format, dilation_rate)\u001b[0m\n\u001b[1;32m   3609\u001b[0m         \u001b[0mstrides\u001b[0m\u001b[0;34m=\u001b[0m\u001b[0;34m(\u001b[0m\u001b[0mstrides\u001b[0m\u001b[0;34m,\u001b[0m\u001b[0;34m)\u001b[0m\u001b[0;34m,\u001b[0m\u001b[0;34m\u001b[0m\u001b[0;34m\u001b[0m\u001b[0m\n\u001b[1;32m   3610\u001b[0m         \u001b[0mpadding\u001b[0m\u001b[0;34m=\u001b[0m\u001b[0mpadding\u001b[0m\u001b[0;34m,\u001b[0m\u001b[0;34m\u001b[0m\u001b[0;34m\u001b[0m\u001b[0m\n\u001b[0;32m-> 3611\u001b[0;31m         data_format=tf_data_format)\n\u001b[0m\u001b[1;32m   3612\u001b[0m \u001b[0;34m\u001b[0m\u001b[0m\n\u001b[1;32m   3613\u001b[0m     \u001b[0;32mif\u001b[0m \u001b[0mdata_format\u001b[0m \u001b[0;34m==\u001b[0m \u001b[0;34m'channels_first'\u001b[0m \u001b[0;32mand\u001b[0m \u001b[0mtf_data_format\u001b[0m \u001b[0;34m==\u001b[0m \u001b[0;34m'NWC'\u001b[0m\u001b[0;34m:\u001b[0m\u001b[0;34m\u001b[0m\u001b[0;34m\u001b[0m\u001b[0m\n",
            "\u001b[0;32m/usr/local/lib/python3.6/dist-packages/tensorflow/python/ops/nn_ops.py\u001b[0m in \u001b[0;36mconvolution\u001b[0;34m(input, filter, padding, strides, dilation_rate, name, data_format, filters, dilations)\u001b[0m\n\u001b[1;32m    892\u001b[0m       \u001b[0mdata_format\u001b[0m\u001b[0;34m=\u001b[0m\u001b[0mdata_format\u001b[0m\u001b[0;34m,\u001b[0m\u001b[0;34m\u001b[0m\u001b[0;34m\u001b[0m\u001b[0m\n\u001b[1;32m    893\u001b[0m       \u001b[0mdilations\u001b[0m\u001b[0;34m=\u001b[0m\u001b[0mdilation_rate\u001b[0m\u001b[0;34m,\u001b[0m\u001b[0;34m\u001b[0m\u001b[0;34m\u001b[0m\u001b[0m\n\u001b[0;32m--> 894\u001b[0;31m       name=name)\n\u001b[0m\u001b[1;32m    895\u001b[0m \u001b[0;34m\u001b[0m\u001b[0m\n\u001b[1;32m    896\u001b[0m \u001b[0;34m\u001b[0m\u001b[0m\n",
            "\u001b[0;32m/usr/local/lib/python3.6/dist-packages/tensorflow/python/ops/nn_ops.py\u001b[0m in \u001b[0;36mconvolution_internal\u001b[0;34m(input, filters, strides, padding, data_format, dilations, name)\u001b[0m\n\u001b[1;32m    969\u001b[0m           \u001b[0mdata_format\u001b[0m\u001b[0;34m=\u001b[0m\u001b[0mdata_format\u001b[0m\u001b[0;34m,\u001b[0m\u001b[0;34m\u001b[0m\u001b[0;34m\u001b[0m\u001b[0m\n\u001b[1;32m    970\u001b[0m           \u001b[0mdilations\u001b[0m\u001b[0;34m=\u001b[0m\u001b[0mdilations\u001b[0m\u001b[0;34m,\u001b[0m\u001b[0;34m\u001b[0m\u001b[0;34m\u001b[0m\u001b[0m\n\u001b[0;32m--> 971\u001b[0;31m           name=name)\n\u001b[0m\u001b[1;32m    972\u001b[0m     \u001b[0;32melse\u001b[0m\u001b[0;34m:\u001b[0m\u001b[0;34m\u001b[0m\u001b[0;34m\u001b[0m\u001b[0m\n\u001b[1;32m    973\u001b[0m       \u001b[0;32mif\u001b[0m \u001b[0mchannel_index\u001b[0m \u001b[0;34m==\u001b[0m \u001b[0;36m1\u001b[0m\u001b[0;34m:\u001b[0m\u001b[0;34m\u001b[0m\u001b[0;34m\u001b[0m\u001b[0m\n",
            "\u001b[0;32m/usr/local/lib/python3.6/dist-packages/tensorflow/python/util/deprecation.py\u001b[0m in \u001b[0;36mnew_func\u001b[0;34m(*args, **kwargs)\u001b[0m\n\u001b[1;32m    572\u001b[0m                   \u001b[0mfunc\u001b[0m\u001b[0;34m.\u001b[0m\u001b[0m__module__\u001b[0m\u001b[0;34m,\u001b[0m \u001b[0marg_name\u001b[0m\u001b[0;34m,\u001b[0m \u001b[0marg_value\u001b[0m\u001b[0;34m,\u001b[0m \u001b[0;34m'in a future version'\u001b[0m\u001b[0;34m\u001b[0m\u001b[0;34m\u001b[0m\u001b[0m\n\u001b[1;32m    573\u001b[0m                   if date is None else ('after %s' % date), instructions)\n\u001b[0;32m--> 574\u001b[0;31m       \u001b[0;32mreturn\u001b[0m \u001b[0mfunc\u001b[0m\u001b[0;34m(\u001b[0m\u001b[0;34m*\u001b[0m\u001b[0margs\u001b[0m\u001b[0;34m,\u001b[0m \u001b[0;34m**\u001b[0m\u001b[0mkwargs\u001b[0m\u001b[0;34m)\u001b[0m\u001b[0;34m\u001b[0m\u001b[0;34m\u001b[0m\u001b[0m\n\u001b[0m\u001b[1;32m    575\u001b[0m \u001b[0;34m\u001b[0m\u001b[0m\n\u001b[1;32m    576\u001b[0m     doc = _add_deprecated_arg_value_notice_to_docstring(\n",
            "\u001b[0;32m/usr/local/lib/python3.6/dist-packages/tensorflow/python/util/deprecation.py\u001b[0m in \u001b[0;36mnew_func\u001b[0;34m(*args, **kwargs)\u001b[0m\n\u001b[1;32m    572\u001b[0m                   \u001b[0mfunc\u001b[0m\u001b[0;34m.\u001b[0m\u001b[0m__module__\u001b[0m\u001b[0;34m,\u001b[0m \u001b[0marg_name\u001b[0m\u001b[0;34m,\u001b[0m \u001b[0marg_value\u001b[0m\u001b[0;34m,\u001b[0m \u001b[0;34m'in a future version'\u001b[0m\u001b[0;34m\u001b[0m\u001b[0;34m\u001b[0m\u001b[0m\n\u001b[1;32m    573\u001b[0m                   if date is None else ('after %s' % date), instructions)\n\u001b[0;32m--> 574\u001b[0;31m       \u001b[0;32mreturn\u001b[0m \u001b[0mfunc\u001b[0m\u001b[0;34m(\u001b[0m\u001b[0;34m*\u001b[0m\u001b[0margs\u001b[0m\u001b[0;34m,\u001b[0m \u001b[0;34m**\u001b[0m\u001b[0mkwargs\u001b[0m\u001b[0;34m)\u001b[0m\u001b[0;34m\u001b[0m\u001b[0;34m\u001b[0m\u001b[0m\n\u001b[0m\u001b[1;32m    575\u001b[0m \u001b[0;34m\u001b[0m\u001b[0m\n\u001b[1;32m    576\u001b[0m     doc = _add_deprecated_arg_value_notice_to_docstring(\n",
            "\u001b[0;32m/usr/local/lib/python3.6/dist-packages/tensorflow/python/ops/nn_ops.py\u001b[0m in \u001b[0;36mconv1d\u001b[0;34m(value, filters, stride, padding, use_cudnn_on_gpu, data_format, name, input, dilations)\u001b[0m\n\u001b[1;32m   1622\u001b[0m         \u001b[0mdata_format\u001b[0m\u001b[0;34m=\u001b[0m\u001b[0mdata_format\u001b[0m\u001b[0;34m,\u001b[0m\u001b[0;34m\u001b[0m\u001b[0;34m\u001b[0m\u001b[0m\n\u001b[1;32m   1623\u001b[0m         \u001b[0mdilations\u001b[0m\u001b[0;34m=\u001b[0m\u001b[0mdilations\u001b[0m\u001b[0;34m,\u001b[0m\u001b[0;34m\u001b[0m\u001b[0;34m\u001b[0m\u001b[0m\n\u001b[0;32m-> 1624\u001b[0;31m         name=name)\n\u001b[0m\u001b[1;32m   1625\u001b[0m     \u001b[0;32mreturn\u001b[0m \u001b[0marray_ops\u001b[0m\u001b[0;34m.\u001b[0m\u001b[0msqueeze\u001b[0m\u001b[0;34m(\u001b[0m\u001b[0mresult\u001b[0m\u001b[0;34m,\u001b[0m \u001b[0;34m[\u001b[0m\u001b[0mspatial_start_dim\u001b[0m\u001b[0;34m]\u001b[0m\u001b[0;34m)\u001b[0m\u001b[0;34m\u001b[0m\u001b[0;34m\u001b[0m\u001b[0m\n\u001b[1;32m   1626\u001b[0m \u001b[0;34m\u001b[0m\u001b[0m\n",
            "\u001b[0;32m/usr/local/lib/python3.6/dist-packages/tensorflow/python/ops/gen_nn_ops.py\u001b[0m in \u001b[0;36mconv2d\u001b[0;34m(input, filter, strides, padding, use_cudnn_on_gpu, explicit_paddings, data_format, dilations, name)\u001b[0m\n\u001b[1;32m   1069\u001b[0m                   \u001b[0mpadding\u001b[0m\u001b[0;34m=\u001b[0m\u001b[0mpadding\u001b[0m\u001b[0;34m,\u001b[0m \u001b[0muse_cudnn_on_gpu\u001b[0m\u001b[0;34m=\u001b[0m\u001b[0muse_cudnn_on_gpu\u001b[0m\u001b[0;34m,\u001b[0m\u001b[0;34m\u001b[0m\u001b[0;34m\u001b[0m\u001b[0m\n\u001b[1;32m   1070\u001b[0m                   \u001b[0mexplicit_paddings\u001b[0m\u001b[0;34m=\u001b[0m\u001b[0mexplicit_paddings\u001b[0m\u001b[0;34m,\u001b[0m\u001b[0;34m\u001b[0m\u001b[0;34m\u001b[0m\u001b[0m\n\u001b[0;32m-> 1071\u001b[0;31m                   data_format=data_format, dilations=dilations, name=name)\n\u001b[0m\u001b[1;32m   1072\u001b[0m   \u001b[0m_result\u001b[0m \u001b[0;34m=\u001b[0m \u001b[0m_op\u001b[0m\u001b[0;34m.\u001b[0m\u001b[0moutputs\u001b[0m\u001b[0;34m[\u001b[0m\u001b[0;34m:\u001b[0m\u001b[0;34m]\u001b[0m\u001b[0;34m\u001b[0m\u001b[0;34m\u001b[0m\u001b[0m\n\u001b[1;32m   1073\u001b[0m   \u001b[0m_inputs_flat\u001b[0m \u001b[0;34m=\u001b[0m \u001b[0m_op\u001b[0m\u001b[0;34m.\u001b[0m\u001b[0minputs\u001b[0m\u001b[0;34m\u001b[0m\u001b[0;34m\u001b[0m\u001b[0m\n",
            "\u001b[0;32m/usr/local/lib/python3.6/dist-packages/tensorflow/python/framework/op_def_library.py\u001b[0m in \u001b[0;36m_apply_op_helper\u001b[0;34m(self, op_type_name, name, **keywords)\u001b[0m\n\u001b[1;32m    786\u001b[0m         op = g.create_op(op_type_name, inputs, dtypes=None, name=scope,\n\u001b[1;32m    787\u001b[0m                          \u001b[0minput_types\u001b[0m\u001b[0;34m=\u001b[0m\u001b[0minput_types\u001b[0m\u001b[0;34m,\u001b[0m \u001b[0mattrs\u001b[0m\u001b[0;34m=\u001b[0m\u001b[0mattr_protos\u001b[0m\u001b[0;34m,\u001b[0m\u001b[0;34m\u001b[0m\u001b[0;34m\u001b[0m\u001b[0m\n\u001b[0;32m--> 788\u001b[0;31m                          op_def=op_def)\n\u001b[0m\u001b[1;32m    789\u001b[0m       \u001b[0;32mreturn\u001b[0m \u001b[0moutput_structure\u001b[0m\u001b[0;34m,\u001b[0m \u001b[0mop_def\u001b[0m\u001b[0;34m.\u001b[0m\u001b[0mis_stateful\u001b[0m\u001b[0;34m,\u001b[0m \u001b[0mop\u001b[0m\u001b[0;34m\u001b[0m\u001b[0;34m\u001b[0m\u001b[0m\n\u001b[1;32m    790\u001b[0m \u001b[0;34m\u001b[0m\u001b[0m\n",
            "\u001b[0;32m/usr/local/lib/python3.6/dist-packages/tensorflow/python/util/deprecation.py\u001b[0m in \u001b[0;36mnew_func\u001b[0;34m(*args, **kwargs)\u001b[0m\n\u001b[1;32m    505\u001b[0m                 \u001b[0;34m'in a future version'\u001b[0m \u001b[0;32mif\u001b[0m \u001b[0mdate\u001b[0m \u001b[0;32mis\u001b[0m \u001b[0;32mNone\u001b[0m \u001b[0;32melse\u001b[0m \u001b[0;34m(\u001b[0m\u001b[0;34m'after %s'\u001b[0m \u001b[0;34m%\u001b[0m \u001b[0mdate\u001b[0m\u001b[0;34m)\u001b[0m\u001b[0;34m,\u001b[0m\u001b[0;34m\u001b[0m\u001b[0;34m\u001b[0m\u001b[0m\n\u001b[1;32m    506\u001b[0m                 instructions)\n\u001b[0;32m--> 507\u001b[0;31m       \u001b[0;32mreturn\u001b[0m \u001b[0mfunc\u001b[0m\u001b[0;34m(\u001b[0m\u001b[0;34m*\u001b[0m\u001b[0margs\u001b[0m\u001b[0;34m,\u001b[0m \u001b[0;34m**\u001b[0m\u001b[0mkwargs\u001b[0m\u001b[0;34m)\u001b[0m\u001b[0;34m\u001b[0m\u001b[0;34m\u001b[0m\u001b[0m\n\u001b[0m\u001b[1;32m    508\u001b[0m \u001b[0;34m\u001b[0m\u001b[0m\n\u001b[1;32m    509\u001b[0m     doc = _add_deprecated_arg_notice_to_docstring(\n",
            "\u001b[0;32m/usr/local/lib/python3.6/dist-packages/tensorflow/python/framework/ops.py\u001b[0m in \u001b[0;36mcreate_op\u001b[0;34m(***failed resolving arguments***)\u001b[0m\n\u001b[1;32m   3614\u001b[0m           \u001b[0minput_types\u001b[0m\u001b[0;34m=\u001b[0m\u001b[0minput_types\u001b[0m\u001b[0;34m,\u001b[0m\u001b[0;34m\u001b[0m\u001b[0;34m\u001b[0m\u001b[0m\n\u001b[1;32m   3615\u001b[0m           \u001b[0moriginal_op\u001b[0m\u001b[0;34m=\u001b[0m\u001b[0mself\u001b[0m\u001b[0;34m.\u001b[0m\u001b[0m_default_original_op\u001b[0m\u001b[0;34m,\u001b[0m\u001b[0;34m\u001b[0m\u001b[0;34m\u001b[0m\u001b[0m\n\u001b[0;32m-> 3616\u001b[0;31m           op_def=op_def)\n\u001b[0m\u001b[1;32m   3617\u001b[0m       \u001b[0mself\u001b[0m\u001b[0;34m.\u001b[0m\u001b[0m_create_op_helper\u001b[0m\u001b[0;34m(\u001b[0m\u001b[0mret\u001b[0m\u001b[0;34m,\u001b[0m \u001b[0mcompute_device\u001b[0m\u001b[0;34m=\u001b[0m\u001b[0mcompute_device\u001b[0m\u001b[0;34m)\u001b[0m\u001b[0;34m\u001b[0m\u001b[0;34m\u001b[0m\u001b[0m\n\u001b[1;32m   3618\u001b[0m     \u001b[0;32mreturn\u001b[0m \u001b[0mret\u001b[0m\u001b[0;34m\u001b[0m\u001b[0;34m\u001b[0m\u001b[0m\n",
            "\u001b[0;32m/usr/local/lib/python3.6/dist-packages/tensorflow/python/framework/ops.py\u001b[0m in \u001b[0;36m__init__\u001b[0;34m(self, node_def, g, inputs, output_types, control_inputs, input_types, original_op, op_def)\u001b[0m\n\u001b[1;32m   2025\u001b[0m           op_def, inputs, node_def.attr)\n\u001b[1;32m   2026\u001b[0m       self._c_op = _create_c_op(self._graph, node_def, grouped_inputs,\n\u001b[0;32m-> 2027\u001b[0;31m                                 control_input_ops)\n\u001b[0m\u001b[1;32m   2028\u001b[0m \u001b[0;34m\u001b[0m\u001b[0m\n\u001b[1;32m   2029\u001b[0m     \u001b[0;31m# Initialize self._outputs.\u001b[0m\u001b[0;34m\u001b[0m\u001b[0;34m\u001b[0m\u001b[0;34m\u001b[0m\u001b[0m\n",
            "\u001b[0;32m/usr/local/lib/python3.6/dist-packages/tensorflow/python/framework/ops.py\u001b[0m in \u001b[0;36m_create_c_op\u001b[0;34m(graph, node_def, inputs, control_inputs)\u001b[0m\n\u001b[1;32m   1865\u001b[0m   \u001b[0;32mexcept\u001b[0m \u001b[0merrors\u001b[0m\u001b[0;34m.\u001b[0m\u001b[0mInvalidArgumentError\u001b[0m \u001b[0;32mas\u001b[0m \u001b[0me\u001b[0m\u001b[0;34m:\u001b[0m\u001b[0;34m\u001b[0m\u001b[0;34m\u001b[0m\u001b[0m\n\u001b[1;32m   1866\u001b[0m     \u001b[0;31m# Convert to ValueError for backwards compatibility.\u001b[0m\u001b[0;34m\u001b[0m\u001b[0;34m\u001b[0m\u001b[0;34m\u001b[0m\u001b[0m\n\u001b[0;32m-> 1867\u001b[0;31m     \u001b[0;32mraise\u001b[0m \u001b[0mValueError\u001b[0m\u001b[0;34m(\u001b[0m\u001b[0mstr\u001b[0m\u001b[0;34m(\u001b[0m\u001b[0me\u001b[0m\u001b[0;34m)\u001b[0m\u001b[0;34m)\u001b[0m\u001b[0;34m\u001b[0m\u001b[0;34m\u001b[0m\u001b[0m\n\u001b[0m\u001b[1;32m   1868\u001b[0m \u001b[0;34m\u001b[0m\u001b[0m\n\u001b[1;32m   1869\u001b[0m   \u001b[0;32mreturn\u001b[0m \u001b[0mc_op\u001b[0m\u001b[0;34m\u001b[0m\u001b[0;34m\u001b[0m\u001b[0m\n",
            "\u001b[0;31mValueError\u001b[0m: Negative dimension size caused by subtracting 2 from 0 for 'conv1/convolution' (op: 'Conv2D') with input shapes: [?,1,0,300], [1,2,300,2]."
          ]
        }
      ]
    },
    {
      "cell_type": "code",
      "metadata": {
        "id": "ICC1FqfhWczd",
        "colab_type": "code",
        "colab": {}
      },
      "source": [
        "#EVALUEATE THE MODEL ON DEV TEST: What is it doing?\n",
        "val_preds = model.predict(X_valid)\n",
        "val_preds = target_scaler.inverse_transform(val_preds)\n",
        "val_preds = np.exp(val_preds)+1\n",
        "\n",
        "#mean_absolute_error, mean_squared_log_error\n",
        "y_true = np.array(dvalid.price.values)\n",
        "y_pred = val_preds[:,0]\n",
        "v_rmsle = rmsle(y_true, y_pred)\n",
        "print(\" RMSLE na validacijskom: \"+str(v_rmsle))"
      ],
      "execution_count": 0,
      "outputs": []
    },
    {
      "cell_type": "markdown",
      "metadata": {
        "id": "T7AUTH1aZ2qH",
        "colab_type": "text"
      },
      "source": [
        "## Word2vec pokusaj 2"
      ]
    },
    {
      "cell_type": "markdown",
      "metadata": {
        "id": "4pZZzhU2aQOn",
        "colab_type": "text"
      },
      "source": [
        "https://blog.cambridgespark.com/tutorial-build-your-own-embedding-and-use-it-in-a-neural-network-e9cde4a81296"
      ]
    },
    {
      "cell_type": "markdown",
      "metadata": {
        "id": "JEH4rlb4A7q0",
        "colab_type": "text"
      },
      "source": [
        " Potrebno je downloadati  ‘brown’ i ‘conll2000’ "
      ]
    },
    {
      "cell_type": "code",
      "metadata": {
        "id": "naPN_eHLZ558",
        "colab_type": "code",
        "outputId": "1b44d12a-2dc1-4425-eb8a-e69a80a95626",
        "colab": {
          "base_uri": "https://localhost:8080/",
          "height": 476
        }
      },
      "source": [
        "import nltk\n",
        "nltk.download()\n",
        "from nltk.corpus import brown\n",
        "from gensim.models import word2vec\n",
        "import multiprocessing"
      ],
      "execution_count": 0,
      "outputs": [
        {
          "output_type": "stream",
          "text": [
            "NLTK Downloader\n",
            "---------------------------------------------------------------------------\n",
            "    d) Download   l) List    u) Update   c) Config   h) Help   q) Quit\n",
            "---------------------------------------------------------------------------\n",
            "Downloader> d\n",
            "\n",
            "Download which package (l=list; x=cancel)?\n",
            "  Identifier> brown\n",
            "    Downloading package brown to /root/nltk_data...\n",
            "      Package brown is already up-to-date!\n",
            "\n",
            "---------------------------------------------------------------------------\n",
            "    d) Download   l) List    u) Update   c) Config   h) Help   q) Quit\n",
            "---------------------------------------------------------------------------\n",
            "Downloader> d\n",
            "\n",
            "Download which package (l=list; x=cancel)?\n",
            "  Identifier> conll2000\n",
            "    Downloading package conll2000 to /root/nltk_data...\n",
            "      Package conll2000 is already up-to-date!\n",
            "\n",
            "---------------------------------------------------------------------------\n",
            "    d) Download   l) List    u) Update   c) Config   h) Help   q) Quit\n",
            "---------------------------------------------------------------------------\n",
            "Downloader> q\n"
          ],
          "name": "stdout"
        }
      ]
    },
    {
      "cell_type": "code",
      "metadata": {
        "id": "7OM1LT9oaN0F",
        "colab_type": "code",
        "outputId": "08b3ad43-c37c-49af-819e-01e46e94e5e2",
        "colab": {
          "base_uri": "https://localhost:8080/",
          "height": 55
        }
      },
      "source": [
        "sentences=brown.sents()\n",
        "print(sentences[:3])"
      ],
      "execution_count": 0,
      "outputs": [
        {
          "output_type": "stream",
          "text": [
            "[['The', 'Fulton', 'County', 'Grand', 'Jury', 'said', 'Friday', 'an', 'investigation', 'of', \"Atlanta's\", 'recent', 'primary', 'election', 'produced', '``', 'no', 'evidence', \"''\", 'that', 'any', 'irregularities', 'took', 'place', '.'], ['The', 'jury', 'further', 'said', 'in', 'term-end', 'presentments', 'that', 'the', 'City', 'Executive', 'Committee', ',', 'which', 'had', 'over-all', 'charge', 'of', 'the', 'election', ',', '``', 'deserves', 'the', 'praise', 'and', 'thanks', 'of', 'the', 'City', 'of', 'Atlanta', \"''\", 'for', 'the', 'manner', 'in', 'which', 'the', 'election', 'was', 'conducted', '.'], ['The', 'September-October', 'term', 'jury', 'had', 'been', 'charged', 'by', 'Fulton', 'Superior', 'Court', 'Judge', 'Durwood', 'Pye', 'to', 'investigate', 'reports', 'of', 'possible', '``', 'irregularities', \"''\", 'in', 'the', 'hard-fought', 'primary', 'which', 'was', 'won', 'by', 'Mayor-nominate', 'Ivan', 'Allen', 'Jr.', '.']]\n"
          ],
          "name": "stdout"
        }
      ]
    },
    {
      "cell_type": "code",
      "metadata": {
        "id": "a9QzqPjXaek4",
        "colab_type": "code",
        "colab": {}
      },
      "source": [
        "EMB_DIM=300\n",
        "w2v= Word2Vec(sentences, size=EMB_DIM, window=5, min_count=5, negative=15, iter=10, workers=multiprocessing.cpu_count())\n"
      ],
      "execution_count": 0,
      "outputs": []
    },
    {
      "cell_type": "code",
      "metadata": {
        "id": "PT1uqXDzaxvR",
        "colab_type": "code",
        "outputId": "835009c1-022b-46b5-a820-d76f574ffa77",
        "colab": {
          "base_uri": "https://localhost:8080/",
          "height": 92
        }
      },
      "source": [
        "word_vectors=w2v.wv\n",
        "result=word_vectors.similar_by_word(\"Saturday\")\n",
        "print(\"Most similar word\", result[:3])"
      ],
      "execution_count": 0,
      "outputs": [
        {
          "output_type": "stream",
          "text": [
            "Most similar word [('Monday', 0.8954941630363464), ('Sunday', 0.8876497745513916), ('Friday', 0.8775694370269775)]\n"
          ],
          "name": "stdout"
        },
        {
          "output_type": "stream",
          "text": [
            "/usr/local/lib/python3.6/dist-packages/gensim/matutils.py:737: FutureWarning: Conversion of the second argument of issubdtype from `int` to `np.signedinteger` is deprecated. In future, it will be treated as `np.int64 == np.dtype(int).type`.\n",
            "  if np.issubdtype(vec.dtype, np.int):\n"
          ],
          "name": "stderr"
        }
      ]
    },
    {
      "cell_type": "code",
      "metadata": {
        "id": "DCXiJ3vGHmaO",
        "colab_type": "code",
        "colab": {}
      },
      "source": [
        "list=dtrain['item_description'].astype(str).tolist()\n",
        "list\n"
      ],
      "execution_count": 0,
      "outputs": []
    },
    {
      "cell_type": "code",
      "metadata": {
        "id": "OLfrOFEQIRVM",
        "colab_type": "code",
        "colab": {}
      },
      "source": [
        "import re #za regularne izraze\n",
        "sentences = [s for s in [s.strip().lower().split(\" \") for i in dtrain[\"item_description\"].values for s in re.split(\"\\.\", str(i))] if len(s) > 2]"
      ],
      "execution_count": 0,
      "outputs": []
    },
    {
      "cell_type": "code",
      "metadata": {
        "id": "fCrFsJYYKEjZ",
        "colab_type": "code",
        "outputId": "8b5762fa-4676-413d-a367-bc73f63eaeb7",
        "colab": {
          "base_uri": "https://localhost:8080/",
          "height": 35
        }
      },
      "source": [
        "embedding_size = 300\n",
        "starttime = time.time()\n",
        "model = word2vec.Word2Vec(sentences, size=embedding_size, window=5, min_count=5, workers=4)\n",
        "endtime = time.time()\n",
        "print(\"Trained word2vec model in \" + str(int(np.floor((endtime - starttime)/60))) + \"m \" + str(int((endtime - starttime)%60)) + \"s.\")"
      ],
      "execution_count": 0,
      "outputs": [
        {
          "output_type": "stream",
          "text": [
            "Trained word2vec model in 7m 41s.\n"
          ],
          "name": "stdout"
        }
      ]
    },
    {
      "cell_type": "code",
      "metadata": {
        "id": "HnRcjaY4LFbe",
        "colab_type": "code",
        "outputId": "c6f0f7d4-3d9c-4101-e541-4aa958fa0a4e",
        "colab": {
          "base_uri": "https://localhost:8080/",
          "height": 3286
        }
      },
      "source": [
        "# First get the embeddings into a matrix\n",
        "embeddings = np.zeros((len(model.wv.index2word), embedding_size))\n",
        "for i in range(0, len(model.wv.index2word)):\n",
        "    w = model.wv.index2word[i]\n",
        "    embeddings[i] = model.wv[w]\n",
        "\n",
        "# Look at a few samples\n",
        "for i in range(1000, 1003):\n",
        "    print(model.wv.index2word[i] + \":\\n\" + str(embeddings[i]))"
      ],
      "execution_count": 0,
      "outputs": [
        {
          "output_type": "stream",
          "text": [
            "brands:\n",
            "[ 0.44668913  1.00813818 -0.22744668 -0.9685902  -3.41443086 -3.16814089\n",
            " -0.22257502 -0.03917033 -1.22988534  2.18945885 -2.84362912 -0.19964619\n",
            " -1.58515918  1.42916739 -3.25213361 -0.23979598 -0.2544238  -1.33195376\n",
            " -0.42963734 -0.7462576   0.07675014 -2.65952826 -0.24966502  1.64022124\n",
            "  0.86781543  2.54823875 -1.04541171  1.30657816 -0.19551505 -3.35859537\n",
            "  2.30055141  0.33194959 -0.98279977 -1.50124264  2.85995841  1.21530592\n",
            "  0.641653   -1.72203624  3.25559616  1.94765139  0.93429691 -2.79589486\n",
            "  0.42177838  0.43948707 -2.44652176  1.93160319 -0.3613373  -1.74829733\n",
            " -0.16010456 -0.11765492  0.86090881 -0.98350197 -0.10672019 -0.05587982\n",
            " -1.39775884  1.96347141 -1.01379275 -3.33755255 -0.76610672 -0.12707937\n",
            " -1.07743227  0.20845501  0.20666289 -0.21156941 -2.97382569  0.17074463\n",
            " -1.6924746  -1.07575905 -1.46513724 -0.47477415 -2.75424218  0.16317828\n",
            " -1.61430883 -2.18920207 -1.12000692  1.45951211  0.5928722  -0.8480345\n",
            "  2.01112962  0.46623895 -1.7516222  -1.54059136 -0.08235955 -0.52546662\n",
            "  0.39146757 -1.89372516 -0.55339098  0.72372758  1.09829569 -0.10836525\n",
            " -1.21597004  0.37208444 -2.36603665 -0.07611614  3.15984201  0.23519798\n",
            "  1.96332026 -1.15733385 -0.71059406 -0.54488862 -3.17107844  0.75455761\n",
            " -0.46773216 -0.60403627  0.28875938 -2.67708731  1.31708038 -0.69561201\n",
            " -1.19647312  0.16561033  0.24957649 -2.15828681  0.08490024 -1.48525333\n",
            " -1.89121997 -0.1777225   1.57291865 -1.37039149 -1.54752338  0.02010131\n",
            " -0.16574737 -0.81385273 -3.30389428  1.53949916 -2.4160037   0.07415876\n",
            "  0.13363072 -1.91616797 -0.50524372  0.45497477  0.4256207   0.35843384\n",
            " -2.0712409  -0.83445001  0.78062069  2.34013391  0.55946141 -0.68976462\n",
            "  0.3406364   0.18021321  1.24182916 -0.43104476  1.44175446  0.38249961\n",
            " -0.1150377   2.2407918   0.53383559  0.95225888  1.87047172  1.51345313\n",
            " -0.51783174 -1.09212387 -1.78748357  1.56519759 -1.49065983  0.50532889\n",
            "  1.19100535 -1.06589377  0.14383459 -0.29959708 -1.81094372  0.66200805\n",
            "  1.26903939  1.42876315  0.65846789  0.80855381  3.82354116 -0.63642061\n",
            "  1.45343828 -0.5615052   0.8898344  -2.35285425 -2.23439169  1.37127674\n",
            "  1.53176498 -0.92329091  3.19727683  0.91152632  2.97246814 -1.46392596\n",
            "  0.1840713  -0.08409934 -1.23596501  0.45804372  3.32611728  1.07301307\n",
            "  0.23419601  0.57452309  2.65162373 -0.42608467 -1.56777263  1.17090237\n",
            "  1.27765191 -0.19231452 -0.4781487  -0.98583436 -0.86839992  0.11642868\n",
            " -0.8905257  -0.66900557 -0.64987159  2.57147384  1.44331646 -2.90878916\n",
            "  2.33809042  0.6647532  -0.94992793  1.48379183 -0.94486618  1.40419948\n",
            "  0.0647296   0.39524317 -0.16817938  2.59271145 -0.5637998   0.5721938\n",
            "  2.53698826 -0.98766667 -0.09308556  0.81121457 -0.06986738  0.5821625\n",
            " -0.54903722  0.16723044  0.87557912 -0.60646009 -0.13878229 -1.26045775\n",
            "  0.62900931 -0.10408957 -0.66036046  1.60427904 -1.97333205  0.58169216\n",
            " -0.55978769  0.94205225  0.85658431 -0.33078265 -0.95360178  1.20798826\n",
            " -1.06756723  0.21000466  0.71827072  0.40951514 -0.25683433 -0.34657621\n",
            " -2.57120848 -1.69009936  2.10612535  1.20000553  0.61388451  0.28450495\n",
            "  0.56107223 -2.85687923 -0.50073063 -1.3157717   0.88480222 -2.04394698\n",
            "  1.1609453  -3.13265228 -4.32173824 -1.70837855  0.29954982 -1.60251081\n",
            "  1.09207368  0.87578052  0.46530938  1.28558445 -0.07070418  0.27231199\n",
            " -0.19186138 -0.96673524  0.66417861 -0.10696004 -0.35945538 -2.63795781\n",
            " -1.21189046 -2.12130046 -0.24064328  0.06385183  1.79494095  0.26233718\n",
            "  1.55144286 -1.75638282  2.6523118  -0.93496203 -2.48938394  0.01522795\n",
            " -1.78223574 -0.73231143 -0.67869818  0.4153038   0.09377     0.22976008\n",
            " -0.75618815  0.28965414 -0.17386499  0.01948589 -0.11727035 -0.80093676]\n",
            "charcoal:\n",
            "[ 0.70596284  1.00132811  0.75720692 -0.41637477 -0.18294522 -0.32016975\n",
            " -0.24371803  0.25304148  0.8163982   0.93936455 -0.57654506 -0.03154634\n",
            " -0.89115828 -1.35976434  2.1839354  -0.83269119 -0.03946619  1.49052763\n",
            "  0.43220952 -1.78032899  1.57121611  0.89132583 -1.50907254 -0.74410379\n",
            "  1.20484376 -0.87336135  0.3975268  -0.05562218 -0.21105944  0.35086015\n",
            " -0.05299922  0.60839802  2.0541048  -0.42820925  0.22404487 -0.80292296\n",
            "  0.2567803   1.69204426 -0.80384934  0.35160094  0.04660327 -1.95369351\n",
            " -0.05622014 -1.69105518  0.53200328  0.33153692  1.39131713  1.24216473\n",
            " -2.13209867  1.69073057  2.55812836 -1.38467085  0.52021146 -0.52892154\n",
            "  0.25106072 -1.1634202  -2.33014536  0.45515203  0.09988213 -1.93541765\n",
            "  1.48148096  0.25118768  1.28639054 -0.35889697 -0.56333297 -2.95511293\n",
            " -1.44309354  0.81660348 -0.03038676 -1.01685739  0.35203481  1.20107377\n",
            "  0.44731772  0.71794701  0.61921102  1.45938313 -2.72015977 -0.57761621\n",
            " -0.40060988 -0.05318749 -1.16046655 -1.70017219 -1.08667707 -0.26204991\n",
            "  0.66352063 -0.10876747  0.81445062 -1.78425956  0.54722852  1.98166466\n",
            " -0.71744412 -0.00766991  0.57527953  0.19438967  0.32195154  0.61562234\n",
            " -0.65307617 -0.13882251 -0.69267571  0.90585601  0.29553276  0.13198806\n",
            " -0.9963842   0.88321203  1.9124155   1.71710217  0.81031632  1.11618912\n",
            "  2.1368444  -1.97852612  0.73315889  1.75275016  0.7733022  -0.23556864\n",
            "  0.23924688  0.49009225 -0.09247834  0.54115051 -0.34850904 -0.94970888\n",
            "  1.36280143 -0.78697467 -1.98191571 -2.53303027 -2.87881351 -0.32330012\n",
            "  1.01672077  0.4282892   0.97226894  0.19984944 -1.57141232 -0.30051595\n",
            "  0.28540584  3.03970432  2.47493792 -1.12578285 -1.71989155 -0.14798403\n",
            "  1.66322374 -0.11231231 -0.17826565  0.01995991 -0.57318491 -1.04458964\n",
            " -0.70668006 -0.29810166 -0.29192263 -1.75896072  0.08830455 -0.19944544\n",
            "  0.16927011 -0.26894435 -0.80879688  0.99204779  1.69008672  0.38908723\n",
            " -0.72216773 -0.45185778 -0.76803154 -2.66893888  0.67261434 -0.30638966\n",
            " -1.61599052  0.80375224  0.81706238  0.06064737 -1.26633477  0.67908108\n",
            "  1.80204082 -1.39294827  1.70073307  1.12214541  1.34679854  0.25949654\n",
            "  1.52556407 -2.78136444  2.65358329  0.24099655 -2.37808871 -1.94475627\n",
            "  0.47922149 -0.67977065  1.14298332 -0.22703741  2.76474857 -3.59722924\n",
            " -0.21895564 -1.58220351 -1.06722534  0.17937826  1.22369695  1.49336898\n",
            "  0.58660066 -1.26040971 -0.22028796  0.32629716 -0.79323775 -0.03437894\n",
            "  0.65855592 -0.04841273  0.12162827 -0.53803945  0.31168708 -1.64591122\n",
            "  0.46534082  1.67738056  1.61539543 -1.14160216  1.64520121  0.3852798\n",
            " -0.65925592  1.03168297  0.54225081  0.43052149 -1.60635519  0.47888839\n",
            "  0.00638097  0.43232042 -2.36216044  1.03703189  0.15817888  0.96976644\n",
            "  0.47492123 -1.99878705 -0.9483465  -0.72747523 -0.33519608 -2.18547106\n",
            " -0.80937499 -0.76513475 -0.23089713 -0.56364501  1.71652174 -0.7854116\n",
            "  0.86386615  0.20916453 -0.45881897  0.14347737  1.63416553  0.72237957\n",
            " -0.05702084  0.97658461  2.22279286 -0.19058894  0.26059291  0.65341365\n",
            " -0.18776882  2.21459508 -1.88606155  0.19276646 -1.87890208  1.13187134\n",
            " -1.50475657  0.87959456 -1.71615458 -0.93523884  1.05331349  0.1904874\n",
            "  1.11817276  1.6848563   3.04786539  1.42123353 -0.95413679 -0.0794491\n",
            "  2.77992654 -0.25619447  0.77855974 -1.1360122  -0.62771684  0.30979839\n",
            "  0.29144502 -0.08328636 -1.80038118  0.94710773 -0.95319092  1.27260578\n",
            "  0.78095633 -1.71200228  0.10007365  1.14934468 -0.48428154  1.54164958\n",
            " -0.64470452  0.3475914  -1.25264394  0.87922829 -1.19919884  1.11479521\n",
            " -1.21635354  2.45592618 -2.45216656 -1.76478589  1.31764328 -2.25450492\n",
            " -0.2436126   0.6791544  -1.36537158  1.2505188  -0.1458364   1.75286388]\n",
            "running:\n",
            "[-1.56385446e+00 -8.67163539e-01  4.69495654e-01  1.89339325e-01\n",
            "  9.66588378e-01  2.15436983e+00  1.15687430e+00  4.96525943e-01\n",
            " -5.43870926e-01 -8.27500761e-01  3.76679748e-02  4.87623811e-01\n",
            " -6.20489307e-02 -9.29240704e-01  1.65035820e+00 -7.00105548e-01\n",
            " -3.52778077e-01  1.15432811e+00 -5.70240438e-01  1.33447126e-01\n",
            " -6.64406657e-01  4.25671548e-01 -9.01005387e-01 -3.07116687e-01\n",
            " -6.80295229e-01  7.81166479e-02  1.24705851e+00 -2.39157796e-01\n",
            "  9.07775879e-01 -5.50259590e-01  1.55762184e+00  1.15634274e+00\n",
            "  6.49820805e-01  4.28815246e-01  1.30337358e+00  3.76022995e-01\n",
            "  1.23616743e+00  8.12410235e-01 -7.05312252e-01  1.34447527e+00\n",
            "  6.57171369e-01 -9.18096229e-02  4.56288069e-01  1.34510303e+00\n",
            "  1.73629439e+00  1.53291368e+00 -1.40735835e-01  1.34586751e+00\n",
            "  2.69050330e-01 -4.97452945e-01  1.22508667e-02 -2.53522277e+00\n",
            " -2.54962087e+00  1.17500490e-02 -6.22516163e-02  1.01191235e+00\n",
            "  1.75546277e+00 -7.18838751e-01 -1.22669208e+00 -1.57408571e+00\n",
            "  5.17521143e-01 -6.50852263e-01 -1.38817227e+00 -8.09754491e-01\n",
            "  6.90463126e-01 -1.13219142e+00 -1.76134661e-01 -5.26802361e-01\n",
            " -1.03300977e+00 -7.29269207e-01 -1.87592909e-01  8.94112587e-01\n",
            " -4.90048468e-01  1.38419783e+00  1.15286732e+00 -1.11123204e+00\n",
            " -5.45422554e-01 -5.73182523e-01  1.91048354e-01 -1.37584496e+00\n",
            " -1.19593143e+00  7.52941310e-01 -5.14777482e-01  1.39678872e+00\n",
            " -1.84994066e+00 -6.13814771e-01  1.95711792e+00  3.20104480e-01\n",
            "  5.94017327e-01 -1.23647797e+00  1.11270297e+00 -1.80983245e+00\n",
            "  2.22339332e-01 -1.06462038e+00  3.47571731e-01 -2.30860740e-01\n",
            "  9.24062788e-01  1.29687145e-01 -3.98001909e-01  7.36345768e-01\n",
            " -3.86711955e-01 -2.57920682e-01  3.32084626e-01 -1.46661937e-01\n",
            "  6.44457817e-01 -6.23511553e-01  1.51912355e+00 -1.30335093e+00\n",
            "  2.78972119e-01 -3.47203404e-01 -2.38323402e+00  1.31852853e+00\n",
            " -1.26740360e+00  7.22150683e-01 -2.72163600e-01  7.95455456e-01\n",
            " -1.61344614e-02  3.19483936e-01 -6.10094309e-01 -1.54288650e+00\n",
            "  2.33613968e+00  7.37338305e-01  1.10620332e+00  2.40812287e-01\n",
            "  1.64257860e+00 -6.48304701e-01  2.03783847e-02 -7.14918554e-01\n",
            " -3.77036110e-02  1.76817644e+00 -2.46176505e+00 -1.06636263e-01\n",
            " -5.25978625e-01 -1.29457366e+00 -1.33046007e+00 -1.92735747e-01\n",
            " -5.39319754e-01 -4.26024824e-01 -1.40893562e-02  9.02607858e-01\n",
            "  1.81309783e+00 -5.77688158e-01  9.89274681e-02  5.60264662e-02\n",
            "  8.62837076e-01 -2.40467206e-01 -6.75626278e-01 -5.51595390e-02\n",
            "  1.21659470e+00  9.08237517e-01  1.16941154e+00 -2.02251715e-03\n",
            "  1.06904626e+00  7.77309954e-01  3.25326502e-01  5.63127100e-01\n",
            "  2.96884980e-02  1.86999059e+00 -2.41108537e-02 -5.82803190e-02\n",
            "  2.61830181e-01 -1.10500240e+00 -5.73185980e-01 -8.30088258e-01\n",
            "  1.17417943e+00 -5.61777115e-01 -1.03799593e+00 -1.93429053e-01\n",
            "  5.03321886e-01 -1.93416044e-01  1.36735186e-01 -4.05629903e-01\n",
            " -9.31503356e-01 -9.63015854e-02 -2.46335104e-01 -4.41692680e-01\n",
            " -8.17832649e-01 -8.99972320e-01  1.49408841e+00 -2.03670287e+00\n",
            "  3.37060392e-01 -4.53209549e-01  4.75527614e-01  6.31859541e-01\n",
            " -5.28862894e-01  9.15778577e-01  6.32837653e-01  1.26620758e+00\n",
            "  1.38294220e-01 -1.62797391e+00  1.53006911e+00  1.46534890e-01\n",
            " -1.09955418e+00  2.44178340e-01 -1.36372674e+00  1.05154617e-02\n",
            " -1.92523265e+00 -3.74106795e-01  2.55199194e+00 -1.74067819e+00\n",
            "  1.43544900e+00  1.72119096e-01 -7.61701167e-01 -5.81498086e-01\n",
            " -4.87890877e-02 -8.14746499e-01  4.16895524e-02  1.11043811e+00\n",
            " -3.52506787e-02 -9.65780139e-01 -5.71568608e-01  1.20398939e+00\n",
            " -1.59652603e+00  2.18160868e+00 -2.39343238e+00  5.74681997e-01\n",
            "  2.17578602e+00  7.27830112e-01  3.45927447e-01 -1.65866882e-01\n",
            "  7.58016944e-01  2.82579958e-01  5.39464206e-02 -5.72787762e-01\n",
            " -1.02445066e+00 -7.30728686e-01  1.58347756e-01 -7.21444845e-01\n",
            " -3.04765135e-01  6.92665339e-01 -1.32714903e+00 -5.36214076e-02\n",
            "  1.32052207e+00 -2.75022119e-01  1.25305188e+00  7.93877244e-01\n",
            " -6.20717943e-01  2.04765320e-01  5.52747667e-01  1.24438369e+00\n",
            "  8.61798704e-01 -3.72897297e-01 -7.24955928e-03  9.14761722e-01\n",
            "  1.71003431e-01 -7.78935254e-01 -1.29093635e+00  2.42312267e-01\n",
            "  1.74580979e+00 -5.65290570e-01  7.80900478e-01  1.60776508e+00\n",
            "  5.68237640e-02  4.57756847e-01  2.37291932e+00 -1.18090272e+00\n",
            " -1.08605242e+00 -4.43327129e-01  2.42360920e-01  1.06586099e+00\n",
            "  1.43364859e+00 -9.35319245e-01  6.57162666e-01  3.77238244e-02\n",
            " -8.92249525e-01 -1.72069204e+00  8.79950762e-01 -1.57834485e-01\n",
            "  3.25246006e-01  1.43004727e+00 -1.06236637e+00  3.86059880e-01\n",
            " -1.29626751e-01  3.08658034e-01 -8.40784371e-01  3.72694522e-01\n",
            "  6.91053987e-01 -7.96668708e-01  6.58354938e-01  1.49066448e-01\n",
            "  2.41471022e-01 -1.44791579e+00 -3.47719014e-01  2.64250159e-01\n",
            "  1.19677849e-01  4.88908529e-01 -4.51253533e-01 -3.32072854e-01\n",
            "  3.09644759e-01  1.36622354e-01 -1.66822866e-01  4.45905119e-01\n",
            "  2.17851430e-01  1.65959799e+00 -1.98980832e+00  1.44598162e+00\n",
            "  5.49090505e-01  1.63027227e-01 -3.48483741e-01 -2.07725018e-01]\n"
          ],
          "name": "stdout"
        }
      ]
    },
    {
      "cell_type": "code",
      "metadata": {
        "id": "H7PXuS7dPMrf",
        "colab_type": "code",
        "outputId": "d861a4bd-523f-41eb-d6c5-d81844dba1b0",
        "colab": {
          "base_uri": "https://localhost:8080/",
          "height": 35
        }
      },
      "source": [
        "embeddings.shape"
      ],
      "execution_count": 0,
      "outputs": [
        {
          "output_type": "execute_result",
          "data": {
            "text/plain": [
              "(96933, 300)"
            ]
          },
          "metadata": {
            "tags": []
          },
          "execution_count": 57
        }
      ]
    },
    {
      "cell_type": "markdown",
      "metadata": {
        "id": "ePk9nBjHPYZ3",
        "colab_type": "text"
      },
      "source": [
        "Za vizualizaciju"
      ]
    },
    {
      "cell_type": "code",
      "metadata": {
        "id": "Ptgd-Y6GPTJ_",
        "colab_type": "code",
        "outputId": "c3634191-0436-4735-cec1-deaa0f4d4a3c",
        "colab": {
          "base_uri": "https://localhost:8080/",
          "height": 35
        }
      },
      "source": [
        "from sklearn.decomposition import TruncatedSVD\n",
        "svd = TruncatedSVD(n_components=2, algorithm='randomized', n_iter=500, random_state=101)\n",
        "embeddings_2d_projection = svd.fit_transform(embeddings)\n",
        "embeddings_2d_projection.shape"
      ],
      "execution_count": 0,
      "outputs": [
        {
          "output_type": "execute_result",
          "data": {
            "text/plain": [
              "(96933, 2)"
            ]
          },
          "metadata": {
            "tags": []
          },
          "execution_count": 58
        }
      ]
    },
    {
      "cell_type": "code",
      "metadata": {
        "id": "IVHWxiLcQLbX",
        "colab_type": "code",
        "outputId": "7c985652-b9c6-4c51-e536-96261ee25c3b",
        "colab": {
          "base_uri": "https://localhost:8080/",
          "height": 680
        }
      },
      "source": [
        "lookup_words = [\"shorts\", \"xbox\", \"shoes\"]\n",
        "words_to_visualize = [] # Save for visualization below\n",
        "\n",
        "for w in lookup_words:\n",
        "    print(w)\n",
        "    for s in model.wv.most_similar([w]):\n",
        "        print(s)\n",
        "        words_to_visualize.append(s[0])"
      ],
      "execution_count": 0,
      "outputs": [
        {
          "output_type": "stream",
          "text": [
            "shorts\n",
            "('shorts!', 0.77289879322052)\n",
            "('capris', 0.7676331400871277)\n",
            "('shorts,', 0.7595573663711548)\n",
            "('pants', 0.7148447036743164)\n",
            "('skort', 0.6574950218200684)\n",
            "('overalls', 0.656518280506134)\n",
            "('shorts-', 0.6516613960266113)\n",
            "('joggers', 0.6134329438209534)\n",
            "(\"capri's\", 0.6130681037902832)\n",
            "('shorts)', 0.6072177290916443)\n",
            "xbox\n",
            "('ps4', 0.6656961441040039)\n",
            "('ps3', 0.6522459983825684)\n",
            "('x-box', 0.6271170973777771)\n",
            "('-xbox', 0.6259353160858154)\n",
            "('playstation', 0.5802122354507446)\n",
            "('ps4,', 0.5763287544250488)\n",
            "('controller,', 0.5707730054855347)\n",
            "('sony', 0.5601280927658081)\n",
            "('battlefield', 0.5365286469459534)\n",
            "('xboxone', 0.5357046127319336)\n",
            "shoes\n",
            "('sneakers', 0.8067567348480225)\n",
            "('shoes!', 0.7545838356018066)\n",
            "('shoe', 0.6472645998001099)\n",
            "('sneaker', 0.6412380337715149)\n",
            "('shoes,', 0.6370909214019775)\n",
            "('sandals', 0.6274315118789673)\n",
            "('flats', 0.6270042657852173)\n",
            "('loafers', 0.6198732256889343)\n",
            "('boots', 0.5915223956108093)\n",
            "('sperrys', 0.5893703699111938)\n"
          ],
          "name": "stdout"
        },
        {
          "output_type": "stream",
          "text": [
            "/usr/local/lib/python3.6/dist-packages/gensim/matutils.py:737: FutureWarning: Conversion of the second argument of issubdtype from `int` to `np.signedinteger` is deprecated. In future, it will be treated as `np.int64 == np.dtype(int).type`.\n",
            "  if np.issubdtype(vec.dtype, np.int):\n"
          ],
          "name": "stderr"
        }
      ]
    },
    {
      "cell_type": "code",
      "metadata": {
        "id": "SuZbtlDwPiLe",
        "colab_type": "code",
        "outputId": "0569ebf1-aa33-4b2d-f142-8416a9133c14",
        "colab": {
          "base_uri": "https://localhost:8080/",
          "height": 432
        }
      },
      "source": [
        "sample = np.in1d(model.wv.index2word, words_to_visualize)\n",
        "x = embeddings_2d_projection[sample,0]\n",
        "y = embeddings_2d_projection[sample,1]\n",
        "plt.figure(figsize=(7,7))\n",
        "plt.scatter(x, y)\n",
        "for i, txt in enumerate([model.wv.index2word[i] for i in np.where(sample)[0]]):\n",
        "    plt.annotate(txt, (x[i], y[i]))"
      ],
      "execution_count": 0,
      "outputs": [
        {
          "output_type": "display_data",
          "data": {
            "image/png": "[encoded data removed]",
            "text/plain": [
              "<Figure size 504x504 with 1 Axes>"
            ]
          },
          "metadata": {
            "tags": []
          }
        }
      ]
    },
    {
      "cell_type": "markdown",
      "metadata": {
        "id": "8pWYCnjVUUJq",
        "colab_type": "text"
      },
      "source": [
        "## Word2Vec pokušaj tri"
      ]
    },
    {
      "cell_type": "markdown",
      "metadata": {
        "id": "T41EzY8MUX0D",
        "colab_type": "text"
      },
      "source": [
        "Slijedim https://www.kaggle.com/pierremegret/gensim-word2vec-tutorial"
      ]
    },
    {
      "cell_type": "code",
      "metadata": {
        "id": "4sj_7_C8ScMQ",
        "colab_type": "code",
        "colab": {}
      },
      "source": [
        "import re  # For preprocessing\n",
        "import pandas as pd  # For data handling\n",
        "from time import time  # To time our operations\n",
        "from collections import defaultdict  # For word frequency\n",
        "\n",
        "import spacy  # For preprocessing\n",
        "from gensim.models.phrases import Phrases, Phraser\n",
        "\n",
        "import logging  # Setting up the loggings to monitor gensim\n",
        "logging.basicConfig(format=\"%(levelname)s - %(asctime)s: %(message)s\", datefmt= '%H:%M:%S', level=logging.INFO)"
      ],
      "execution_count": 0,
      "outputs": []
    },
    {
      "cell_type": "code",
      "metadata": {
        "id": "BMjseiMrSnUP",
        "colab_type": "code",
        "colab": {}
      },
      "source": [
        "nlp = spacy.load('en', disable=['ner', 'parser']) # disabling Named Entity Recognition for speed\n",
        "\n",
        "def cleaning(doc):\n",
        "    # Lemmatizes and removes stopwords\n",
        "    # doc needs to be a spacy Doc object\n",
        "    txt = [token.lemma_ for token in doc if not token.is_stop]\n",
        "    # Word2Vec uses context words to learn the vector representation of a target word,\n",
        "    # if a sentence is only one or two words long,\n",
        "    # the benefit for the training is very small\n",
        "    if len(txt) > 2:\n",
        "        return ' '.join(txt)"
      ],
      "execution_count": 0,
      "outputs": []
    },
    {
      "cell_type": "code",
      "metadata": {
        "id": "5YDJOa5sSv7o",
        "colab_type": "code",
        "colab": {}
      },
      "source": [
        "brief_cleaning = (re.sub(\"[^A-Za-z']+\", ' ', str(row)).lower() for row in dtrain['item_description'])\n",
        "#brief_cleaning_valid = (re.sub(\"[^A-Za-z']+\", ' ', str(row)).lower() for row in dvalid['item_description'])\n",
        "#brief_cleaning_test = (re.sub(\"[^A-Za-z']+\", ' ', str(row)).lower() for row in test['item_description'])"
      ],
      "execution_count": 0,
      "outputs": []
    },
    {
      "cell_type": "code",
      "metadata": {
        "id": "0_NygzTuTNOJ",
        "colab_type": "code",
        "outputId": "5e0e727f-b321-4d17-ea5c-94bfb06350f8",
        "colab": {
          "base_uri": "https://localhost:8080/",
          "height": 35
        }
      },
      "source": [
        "t = time()\n",
        "\n",
        "txt = [cleaning(doc) for doc in nlp.pipe(brief_cleaning, batch_size=5000, n_threads=-1)]\n",
        "#txt_valid = [cleaning(doc) for doc in nlp.pipe(brief_cleaning_valid, batch_size=5000, n_threads=-1)]\n",
        "#txt_test = [cleaning(doc) for doc in nlp.pipe(brief_cleaning_test, batch_size=5000, n_threads=-1)]\n",
        "\n",
        "\n",
        "print('Time to clean up everything: {} mins'.format(round((time() - t) / 60, 2)))"
      ],
      "execution_count": 29,
      "outputs": [
        {
          "output_type": "stream",
          "text": [
            "Time to clean up everything: 29.12 mins\n"
          ],
          "name": "stdout"
        }
      ]
    },
    {
      "cell_type": "code",
      "metadata": {
        "id": "4xw3JcH2Tp0L",
        "colab_type": "code",
        "outputId": "c6ac5afd-0b64-46ca-fc21-8b02657df014",
        "colab": {
          "base_uri": "https://localhost:8080/",
          "height": 35
        }
      },
      "source": [
        "data_clean = pd.DataFrame({'clean': txt})\n",
        "#valid_clean = pd.DataFrame({'clean': txt_valid})\n",
        "#test_clean = pd.DataFrame({'clean': txt_test})\n",
        "\n",
        "data_clean = data_clean.dropna().drop_duplicates()\n",
        "#valid_clean = valid_clean.dropna().drop_duplicates()\n",
        "#test_clean = test_clean.dropna().drop_duplicates()\n",
        "\n",
        "data_clean.shape"
      ],
      "execution_count": 30,
      "outputs": [
        {
          "output_type": "execute_result",
          "data": {
            "text/plain": [
              "(1133921, 1)"
            ]
          },
          "metadata": {
            "tags": []
          },
          "execution_count": 30
        }
      ]
    },
    {
      "cell_type": "code",
      "metadata": {
        "id": "FZiYf0lgUBdJ",
        "colab_type": "code",
        "colab": {}
      },
      "source": [
        "from gensim.models.phrases import Phrases, Phraser\n",
        "\n",
        "#uzima listu riječi kao input i kreira relevantne fraze iz liste rečenica\n",
        "\n",
        "data_sent = [row.split() for row in data_clean['clean']]\n",
        "#valid_sent = [row.split() for row in valid_clean['clean']]\n",
        "#test_sent = [row.split() for row in test_clean['clean']]\n",
        "\n",
        "phrases = Phrases(data_sent, min_count=30, progress_per=10000)\n",
        "#valid_phrases = Phrases(valid_sent, min_count=30, progress_per=10000)\n",
        "#test_phrases = Phrases(test_sent, min_count=30, progress_per=10000)"
      ],
      "execution_count": 0,
      "outputs": []
    },
    {
      "cell_type": "markdown",
      "metadata": {
        "id": "bA9Vr2PtpfW7",
        "colab_type": "text"
      },
      "source": [
        "U ovoj ćeliji spremam phrases za poslije"
      ]
    },
    {
      "cell_type": "code",
      "metadata": {
        "id": "-Hfr9j3ApIzE",
        "colab_type": "code",
        "colab": {}
      },
      "source": [
        "import pickle\n",
        "\n",
        "# Store data (serialize)\n",
        "with open('phrases.pickle', 'wb') as handle:\n",
        "    pickle.dump(phrases, handle, protocol=pickle.HIGHEST_PROTOCOL)\n",
        "with open('datasent.pickle', 'wb') as handle:\n",
        "    pickle.dump(data_sent, handle, protocol=pickle.HIGHEST_PROTOCOL)"
      ],
      "execution_count": 0,
      "outputs": []
    },
    {
      "cell_type": "markdown",
      "metadata": {
        "id": "tVTidRqupagC",
        "colab_type": "text"
      },
      "source": [
        "Iduća ćelija je za loadanje phrases"
      ]
    },
    {
      "cell_type": "code",
      "metadata": {
        "id": "VfYGVKCJpPtZ",
        "colab_type": "code",
        "colab": {}
      },
      "source": [
        "import pickle\n",
        "# Load data (deserialize)\n",
        "with open('phrases.pickle', 'rb') as handle:\n",
        "    phrases = pickle.load(handle)\n",
        "with open('datasent.pickle', 'rb') as handle:\n",
        "    data_sent = pickle.load(handle)"
      ],
      "execution_count": 0,
      "outputs": []
    },
    {
      "cell_type": "code",
      "metadata": {
        "id": "VCsuxRU4rORc",
        "colab_type": "code",
        "colab": {}
      },
      "source": [
        "bigram = Phraser(phrases)"
      ],
      "execution_count": 0,
      "outputs": []
    },
    {
      "cell_type": "code",
      "metadata": {
        "id": "cp-jC0M6U-i1",
        "colab_type": "code",
        "colab": {}
      },
      "source": [
        "sentences = bigram[data_sent]\n",
        "#valid_sentences = bigram[valid_sent]\n",
        "#test_sentences = bigram[test_sent]"
      ],
      "execution_count": 0,
      "outputs": []
    },
    {
      "cell_type": "code",
      "metadata": {
        "id": "ovQ2gpilVLZJ",
        "colab_type": "code",
        "outputId": "c0e790fa-9899-406d-ca28-e9940b2f29e9",
        "colab": {
          "base_uri": "https://localhost:8080/",
          "height": 35
        }
      },
      "source": [
        "word_freq = defaultdict(int)\n",
        "for sent in sentences:\n",
        "    for i in sent:\n",
        "        word_freq[i] += 1\n",
        "len(word_freq)"
      ],
      "execution_count": 29,
      "outputs": [
        {
          "output_type": "execute_result",
          "data": {
            "text/plain": [
              "121578"
            ]
          },
          "metadata": {
            "tags": []
          },
          "execution_count": 29
        }
      ]
    },
    {
      "cell_type": "code",
      "metadata": {
        "id": "Ro-UtpZ7VP1Y",
        "colab_type": "code",
        "outputId": "046b1588-cfdf-45dc-f9cf-3591f94f26de",
        "colab": {
          "base_uri": "https://localhost:8080/",
          "height": 199
        }
      },
      "source": [
        "sorted(word_freq, key=word_freq.get, reverse=True)[:10]"
      ],
      "execution_count": 30,
      "outputs": [
        {
          "output_type": "execute_result",
          "data": {
            "text/plain": [
              "['size',\n",
              " 'new',\n",
              " 'wear',\n",
              " 'brand',\n",
              " 'condition',\n",
              " 'free',\n",
              " 'shipping',\n",
              " 'rm',\n",
              " 'color',\n",
              " 'black']"
            ]
          },
          "metadata": {
            "tags": []
          },
          "execution_count": 30
        }
      ]
    },
    {
      "cell_type": "code",
      "metadata": {
        "id": "LVV9eZGxVT_y",
        "colab_type": "code",
        "colab": {}
      },
      "source": [
        "import multiprocessing\n",
        "\n",
        "from gensim.models import Word2Vec"
      ],
      "execution_count": 0,
      "outputs": []
    },
    {
      "cell_type": "code",
      "metadata": {
        "id": "RkCZrQFOVdQp",
        "colab_type": "code",
        "colab": {}
      },
      "source": [
        "cores = multiprocessing.cpu_count() # Count the number of cores in a computer"
      ],
      "execution_count": 0,
      "outputs": []
    },
    {
      "cell_type": "markdown",
      "metadata": {
        "id": "QAIhukSpV9nK",
        "colab_type": "text"
      },
      "source": [
        "**Parametri**\n",
        "\n",
        "min_count ->ignorira sve riječi kojih ima manje od min_count\n",
        "\n",
        "window-> maksimalna udaljenost između trenutne i predviđene riječi u rečenici.\n",
        "\n",
        "size->dimenzije feature vektora\n",
        "\n",
        "sample-> jako utjecajan parametar-> treshold za konfiguraciju koje visokofrekventne riječi budu downsamplane.\n",
        "\n",
        "alpha->learning rate, ne sjećam se više kako to prevodimo lol\n",
        "\n",
        "min_alpha->očito\n",
        "\n",
        "negative-> ako je >0, koristit će se negativno uzorkovanje\n",
        "\n",
        "workers->koliko threadova za treniranje modela"
      ]
    },
    {
      "cell_type": "code",
      "metadata": {
        "id": "wpwVtpFLg_Aw",
        "colab_type": "code",
        "colab": {}
      },
      "source": [
        "w2v_model = Word2Vec(min_count=20,\n",
        "                     window=2,\n",
        "                     size=300,\n",
        "                     sample=6e-5, \n",
        "                     alpha=0.03, \n",
        "                     min_alpha=0.0007, \n",
        "                     negative=20,\n",
        "                     workers=cores-1)"
      ],
      "execution_count": 0,
      "outputs": []
    },
    {
      "cell_type": "code",
      "metadata": {
        "id": "rQWUMCHUhExu",
        "colab_type": "code",
        "outputId": "b91d2c71-1270-4a7a-894f-6cb77744b08a",
        "colab": {
          "base_uri": "https://localhost:8080/",
          "height": 35
        }
      },
      "source": [
        "t = time()\n",
        "\n",
        "w2v_model.build_vocab(sentences, progress_per=10000)\n",
        "\n",
        "print('Time to build vocab: {} mins'.format(round((time() - t) / 60, 2)))"
      ],
      "execution_count": 34,
      "outputs": [
        {
          "output_type": "stream",
          "text": [
            "Time to build vocab: 1.14 mins\n"
          ],
          "name": "stdout"
        }
      ]
    },
    {
      "cell_type": "code",
      "metadata": {
        "id": "4UrOJXIcsmA9",
        "colab_type": "code",
        "outputId": "8938c0b5-5ba0-4f39-ca23-808ff7ed1945",
        "colab": {
          "base_uri": "https://localhost:8080/",
          "height": 35
        }
      },
      "source": [
        "t = time()\n",
        "\n",
        "w2v_model.train(sentences, total_examples=w2v_model.corpus_count, epochs=10, report_delay=1)\n",
        "\n",
        "print('Time to train the model: {} mins'.format(round((time() - t) / 60, 2)))"
      ],
      "execution_count": 35,
      "outputs": [
        {
          "output_type": "stream",
          "text": [
            "Time to train the model: 19.19 mins\n"
          ],
          "name": "stdout"
        }
      ]
    },
    {
      "cell_type": "code",
      "metadata": {
        "id": "_Zq2IKaPs0L8",
        "colab_type": "code",
        "colab": {}
      },
      "source": [
        "w2v_model.init_sims(replace=True)"
      ],
      "execution_count": 0,
      "outputs": []
    },
    {
      "cell_type": "code",
      "metadata": {
        "id": "f2FKouOis-Xj",
        "colab_type": "code",
        "outputId": "15d3570e-b920-46b9-d957-308cf9983507",
        "colab": {
          "base_uri": "https://localhost:8080/",
          "height": 255
        }
      },
      "source": [
        "w2v_model.wv.most_similar(positive=[\"necklace\"])"
      ],
      "execution_count": 37,
      "outputs": [
        {
          "output_type": "stream",
          "text": [
            "/usr/local/lib/python3.6/dist-packages/gensim/matutils.py:737: FutureWarning: Conversion of the second argument of issubdtype from `int` to `np.signedinteger` is deprecated. In future, it will be treated as `np.int64 == np.dtype(int).type`.\n",
            "  if np.issubdtype(vec.dtype, np.int):\n"
          ],
          "name": "stderr"
        },
        {
          "output_type": "execute_result",
          "data": {
            "text/plain": [
              "[('bracelet', 0.724303126335144),\n",
              " ('pendant_necklace', 0.7080237865447998),\n",
              " ('earring', 0.6951838135719299),\n",
              " ('necklace_pendant', 0.675955593585968),\n",
              " ('pendant_chain', 0.6753482818603516),\n",
              " ('pendant', 0.6728875637054443),\n",
              " ('heart_pendant', 0.6675527095794678),\n",
              " ('pendent', 0.6639496088027954),\n",
              " ('multi_strand', 0.662032961845398),\n",
              " ('tibetan_silver', 0.659427285194397)]"
            ]
          },
          "metadata": {
            "tags": []
          },
          "execution_count": 37
        }
      ]
    },
    {
      "cell_type": "code",
      "metadata": {
        "id": "8xR9HMWGtrHs",
        "colab_type": "code",
        "outputId": "a5ad2de6-afca-4c51-f60a-d8107dcd7c91",
        "colab": {
          "base_uri": "https://localhost:8080/",
          "height": 35
        }
      },
      "source": [
        "# tokenize text\n",
        "from keras.preprocessing.text import Tokenizer\n",
        "\n",
        "n_words = 20 # top most common words\n",
        "text = data['item_description'].astype(str).tolist()\n",
        "tokenizer = Tokenizer(num_words=n_words)\n",
        "tokenizer.fit_on_texts(text)\n",
        "\n",
        "# pad_sequences so they are all of the same length\n",
        "from keras.preprocessing.sequence import pad_sequences\n",
        "\n",
        "sequences = tokenizer.texts_to_sequences(text) # list, same length as data. represent word as rank/index\n",
        "padded_seq = pad_sequences(sequences)\n",
        "print('padded_seq.shape', padded_seq.shape)"
      ],
      "execution_count": 38,
      "outputs": [
        {
          "output_type": "stream",
          "text": [
            "padded_seq.shape (1482535, 76)\n"
          ],
          "name": "stdout"
        }
      ]
    },
    {
      "cell_type": "code",
      "metadata": {
        "id": "jqDOEk-k3G4A",
        "colab_type": "code",
        "colab": {
          "base_uri": "https://localhost:8080/",
          "height": 35
        },
        "outputId": "af639e9a-c948-4036-b0a6-5ea80d0d91fa"
      },
      "source": [
        "# kfold cv\n",
        "from sklearn.model_selection import KFold\n",
        "\n",
        "x = padded_seq\n",
        "y = np.asarray(data['price'])\n",
        "\n",
        "n_splits = 2\n",
        "\n",
        "kf = KFold(n_splits=n_splits)\n",
        "kf.get_n_splits(x)"
      ],
      "execution_count": 39,
      "outputs": [
        {
          "output_type": "execute_result",
          "data": {
            "text/plain": [
              "2"
            ]
          },
          "metadata": {
            "tags": []
          },
          "execution_count": 39
        }
      ]
    },
    {
      "cell_type": "code",
      "metadata": {
        "id": "mGhSrwJWt0Kk",
        "colab_type": "code",
        "outputId": "70f529d7-4792-4f5a-fb93-205e3d446965",
        "colab": {
          "base_uri": "https://localhost:8080/",
          "height": 110
        }
      },
      "source": [
        "# create embedding_matrix to feed in as weights for embedding_layer\n",
        "word_index = tokenizer.word_index\n",
        "vocab_size = len(word_index)\n",
        "EMBEDDING_DIM = 300 # this is from the pretrained vectors\n",
        "\n",
        "embedding_matrix = np.zeros((vocab_size + 1, EMBEDDING_DIM))\n",
        "for word, i in word_index.items():\n",
        "    if word in w2v_model:\n",
        "        embedding_vector = w2v_model[word]\n",
        "    else:\n",
        "        embedding_vector = None\n",
        "    if embedding_vector is not None:\n",
        "        # words not found in embedding index will be all-zeros.\n",
        "        embedding_matrix[i] = embedding_vector"
      ],
      "execution_count": 40,
      "outputs": [
        {
          "output_type": "stream",
          "text": [
            "/usr/local/lib/python3.6/dist-packages/ipykernel_launcher.py:7: DeprecationWarning: Call to deprecated `__contains__` (Method will be removed in 4.0.0, use self.wv.__contains__() instead).\n",
            "  import sys\n",
            "/usr/local/lib/python3.6/dist-packages/ipykernel_launcher.py:8: DeprecationWarning: Call to deprecated `__getitem__` (Method will be removed in 4.0.0, use self.wv.__getitem__() instead).\n",
            "  \n"
          ],
          "name": "stderr"
        }
      ]
    },
    {
      "cell_type": "code",
      "metadata": {
        "id": "63Vx5dYOuZME",
        "colab_type": "code",
        "colab": {}
      },
      "source": [
        "# custom loss function\n",
        "import keras.backend as K\n",
        "\n",
        "def rmsle(y_true, y_pred):\n",
        "    first_log = K.log(K.clip(y_pred, K.epsilon(), None) + 1.)\n",
        "    second_log = K.log(K.clip(y_true, K.epsilon(), None) + 1.)\n",
        "    \n",
        "    return K.sqrt(K.mean(K.square(first_log - second_log), axis=-1))\n",
        "\n",
        "import keras\n",
        "def truncated_normal(seed):\n",
        "    return keras.initializers.TruncatedNormal(mean=0.0, stddev=0.05, seed=seed)"
      ],
      "execution_count": 0,
      "outputs": []
    },
    {
      "cell_type": "code",
      "metadata": {
        "id": "AlR-y8ZBud-N",
        "colab_type": "code",
        "colab": {
          "base_uri": "https://localhost:8080/",
          "height": 262
        },
        "outputId": "1433745e-7f73-4e66-e6d2-5ad0ff9bf582"
      },
      "source": [
        "# create cnn model\n",
        "from keras.layers import Embedding, Dense, Input, Flatten\n",
        "from keras.layers import Conv1D, GlobalMaxPooling1D, Concatenate, Dropout\n",
        "from keras.models import Model\n",
        "\n",
        "# parameters\n",
        "input_length = padded_seq.shape[1] # len (num words) of longest description\n",
        "seed = 0\n",
        "filter_sizes = [2,3]\n",
        "n_filters = 2\n",
        "dropout_prob = 0.5\n",
        "\n",
        "def create_cnn(include_top=True, weights=None):    \n",
        "\n",
        "    # input\n",
        "    sequence_input = Input(shape=(input_length,), dtype='int32', name='input')\n",
        "    # embedding_layer\n",
        "    embedding_layer = Embedding(vocab_size + 1, EMBEDDING_DIM, weights=[embedding_matrix], input_length=input_length\n",
        "                                , name='embedding', trainable=False)(sequence_input)\n",
        "    # conv layer\n",
        "    features = []\n",
        "    i = 0\n",
        "    for filter_size in filter_sizes:\n",
        "        i += 1\n",
        "        # conv layer\n",
        "        conv = Conv1D(n_filters, filter_size, activation='relu', kernel_initializer=truncated_normal(seed)\n",
        "                      , name='conv'+str(i))(embedding_layer)\n",
        "        # global max pooling\n",
        "        conv = GlobalMaxPooling1D(name='pool'+str(i))(conv)\n",
        "        # add features together\n",
        "        features.append(conv)\n",
        "    # penultimate layer\n",
        "    nn = Concatenate(name='features')(features)\n",
        "    if include_top:\n",
        "        # dropout\n",
        "        nn = Dropout(dropout_prob, seed=seed, name='dropout')(nn)\n",
        "        # fully connected layer\n",
        "        preds = Dense(1, kernel_initializer=truncated_normal(seed), name='output')(nn)\n",
        "\n",
        "        model = Model(sequence_input, preds)\n",
        "    else:\n",
        "        model = Model(sequence_input, nn)\n",
        "    \n",
        "    \n",
        "    if weights is not None:\n",
        "        model.set_weights(weights)\n",
        "        \n",
        "    return model"
      ],
      "execution_count": 1,
      "outputs": [
        {
          "output_type": "stream",
          "text": [
            "Using TensorFlow backend.\n"
          ],
          "name": "stderr"
        },
        {
          "output_type": "error",
          "ename": "NameError",
          "evalue": "ignored",
          "traceback": [
            "\u001b[0;31m---------------------------------------------------------------------------\u001b[0m",
            "\u001b[0;31mNameError\u001b[0m                                 Traceback (most recent call last)",
            "\u001b[0;32m<ipython-input-1-8886f451dc1b>\u001b[0m in \u001b[0;36m<module>\u001b[0;34m()\u001b[0m\n\u001b[1;32m      4\u001b[0m \u001b[0;34m\u001b[0m\u001b[0m\n\u001b[1;32m      5\u001b[0m \u001b[0;31m# parameters\u001b[0m\u001b[0;34m\u001b[0m\u001b[0;34m\u001b[0m\u001b[0;34m\u001b[0m\u001b[0m\n\u001b[0;32m----> 6\u001b[0;31m \u001b[0minput_length\u001b[0m \u001b[0;34m=\u001b[0m \u001b[0mpadded_seq\u001b[0m\u001b[0;34m.\u001b[0m\u001b[0mshape\u001b[0m\u001b[0;34m[\u001b[0m\u001b[0;36m1\u001b[0m\u001b[0;34m]\u001b[0m \u001b[0;31m# len (num words) of longest description\u001b[0m\u001b[0;34m\u001b[0m\u001b[0;34m\u001b[0m\u001b[0m\n\u001b[0m\u001b[1;32m      7\u001b[0m \u001b[0mseed\u001b[0m \u001b[0;34m=\u001b[0m \u001b[0;36m0\u001b[0m\u001b[0;34m\u001b[0m\u001b[0;34m\u001b[0m\u001b[0m\n\u001b[1;32m      8\u001b[0m \u001b[0mfilter_sizes\u001b[0m \u001b[0;34m=\u001b[0m \u001b[0;34m[\u001b[0m\u001b[0;36m2\u001b[0m\u001b[0;34m,\u001b[0m\u001b[0;36m3\u001b[0m\u001b[0;34m]\u001b[0m\u001b[0;34m\u001b[0m\u001b[0;34m\u001b[0m\u001b[0m\n",
            "\u001b[0;31mNameError\u001b[0m: name 'padded_seq' is not defined"
          ]
        }
      ]
    },
    {
      "cell_type": "code",
      "metadata": {
        "id": "cQ9_6CDhugoK",
        "colab_type": "code",
        "outputId": "e1052b19-6ae7-4641-d5a1-f790077bcb8a",
        "colab": {
          "base_uri": "https://localhost:8080/",
          "height": 764
        }
      },
      "source": [
        "model = create_cnn()\n",
        "model.summary()"
      ],
      "execution_count": 43,
      "outputs": [
        {
          "output_type": "stream",
          "text": [
            "WARNING: Logging before flag parsing goes to stderr.\n",
            "W0618 10:23:11.407020 139919915018112 deprecation_wrapper.py:119] From /usr/local/lib/python3.6/dist-packages/keras/backend/tensorflow_backend.py:517: The name tf.placeholder is deprecated. Please use tf.compat.v1.placeholder instead.\n",
            "\n",
            "W0618 10:23:11.432275 139919915018112 deprecation_wrapper.py:119] From /usr/local/lib/python3.6/dist-packages/keras/backend/tensorflow_backend.py:4138: The name tf.random_uniform is deprecated. Please use tf.random.uniform instead.\n",
            "\n",
            "W0618 10:23:11.445360 139919915018112 deprecation_wrapper.py:119] From /usr/local/lib/python3.6/dist-packages/keras/backend/tensorflow_backend.py:174: The name tf.get_default_session is deprecated. Please use tf.compat.v1.get_default_session instead.\n",
            "\n",
            "W0618 10:23:11.446398 139919915018112 deprecation_wrapper.py:119] From /usr/local/lib/python3.6/dist-packages/keras/backend/tensorflow_backend.py:181: The name tf.ConfigProto is deprecated. Please use tf.compat.v1.ConfigProto instead.\n",
            "\n",
            "W0618 10:23:11.451052 139919915018112 deprecation_wrapper.py:119] From /usr/local/lib/python3.6/dist-packages/keras/backend/tensorflow_backend.py:186: The name tf.Session is deprecated. Please use tf.compat.v1.Session instead.\n",
            "\n",
            "W0618 10:23:13.638352 139919915018112 deprecation.py:506] From /usr/local/lib/python3.6/dist-packages/keras/backend/tensorflow_backend.py:3445: calling dropout (from tensorflow.python.ops.nn_ops) with keep_prob is deprecated and will be removed in a future version.\n",
            "Instructions for updating:\n",
            "Please use `rate` instead of `keep_prob`. Rate should be set to `rate = 1 - keep_prob`.\n"
          ],
          "name": "stderr"
        },
        {
          "output_type": "stream",
          "text": [
            "__________________________________________________________________________________________________\n",
            "Layer (type)                    Output Shape         Param #     Connected to                     \n",
            "==================================================================================================\n",
            "input (InputLayer)              (None, 76)           0                                            \n",
            "__________________________________________________________________________________________________\n",
            "embedding (Embedding)           (None, 76, 300)      62318100    input[0][0]                      \n",
            "__________________________________________________________________________________________________\n",
            "conv1 (Conv1D)                  (None, 75, 2)        1202        embedding[0][0]                  \n",
            "__________________________________________________________________________________________________\n",
            "conv2 (Conv1D)                  (None, 74, 2)        1802        embedding[0][0]                  \n",
            "__________________________________________________________________________________________________\n",
            "pool1 (GlobalMaxPooling1D)      (None, 2)            0           conv1[0][0]                      \n",
            "__________________________________________________________________________________________________\n",
            "pool2 (GlobalMaxPooling1D)      (None, 2)            0           conv2[0][0]                      \n",
            "__________________________________________________________________________________________________\n",
            "features (Concatenate)          (None, 4)            0           pool1[0][0]                      \n",
            "                                                                 pool2[0][0]                      \n",
            "__________________________________________________________________________________________________\n",
            "dropout (Dropout)               (None, 4)            0           features[0][0]                   \n",
            "__________________________________________________________________________________________________\n",
            "output (Dense)                  (None, 1)            5           dropout[0][0]                    \n",
            "==================================================================================================\n",
            "Total params: 62,321,109\n",
            "Trainable params: 3,009\n",
            "Non-trainable params: 62,318,100\n",
            "__________________________________________________________________________________________________\n"
          ],
          "name": "stdout"
        }
      ]
    },
    {
      "cell_type": "code",
      "metadata": {
        "id": "tBU7Y1M06FvH",
        "colab_type": "code",
        "outputId": "b925b550-4506-459c-ce6c-45f2a41edffd",
        "colab": {
          "base_uri": "https://localhost:8080/",
          "height": 73
        }
      },
      "source": [
        "model.compile(loss='msle', optimizer='adadelta', metrics=[rmsle])"
      ],
      "execution_count": 44,
      "outputs": [
        {
          "output_type": "stream",
          "text": [
            "W0618 10:23:13.686052 139919915018112 deprecation_wrapper.py:119] From /usr/local/lib/python3.6/dist-packages/keras/optimizers.py:790: The name tf.train.Optimizer is deprecated. Please use tf.compat.v1.train.Optimizer instead.\n",
            "\n"
          ],
          "name": "stderr"
        }
      ]
    },
    {
      "cell_type": "code",
      "metadata": {
        "id": "Z-ojsDua3fOK",
        "colab_type": "code",
        "colab": {
          "base_uri": "https://localhost:8080/",
          "height": 201
        },
        "outputId": "f7e9f155-9893-4882-862f-0ceaaa3af4fc"
      },
      "source": [
        "# train cnn\n",
        "model.compile(loss='msle', optimizer='adadelta', metrics=[rmsle])\n",
        "\n",
        "batch_size = 128\n",
        "epochs = 2\n",
        "for train_index, val_index in kf.split(x):\n",
        "    x_train, x_val = x[train_index], x[val_index]\n",
        "    y_train, y_val = y[train_index], y[val_index]\n",
        "    model.fit(x_train, y_train, validation_data=(x_val, y_val), epochs=epochs, batch_size=batch_size)"
      ],
      "execution_count": 66,
      "outputs": [
        {
          "output_type": "stream",
          "text": [
            "W0618 09:16:48.562298 140048589928320 deprecation.py:323] From /usr/local/lib/python3.6/dist-packages/tensorflow/python/ops/math_grad.py:1250: add_dispatch_support.<locals>.wrapper (from tensorflow.python.ops.array_ops) is deprecated and will be removed in a future version.\n",
            "Instructions for updating:\n",
            "Use tf.where in 2.0, which has the same broadcast rule as np.where\n"
          ],
          "name": "stderr"
        },
        {
          "output_type": "stream",
          "text": [
            "Train on 741267 samples, validate on 741268 samples\n",
            "Epoch 1/1\n",
            "741267/741267 [==============================] - 506s 683us/step - loss: 1.1197 - rmsle: 0.7922 - val_loss: 0.5571 - val_rmsle: 0.5746\n",
            "Train on 741268 samples, validate on 741267 samples\n",
            "Epoch 1/1\n",
            "741268/741268 [==============================] - 525s 708us/step - loss: 0.5910 - rmsle: 0.5932 - val_loss: 0.5549 - val_rmsle: 0.5764\n"
          ],
          "name": "stdout"
        }
      ]
    },
    {
      "cell_type": "code",
      "metadata": {
        "id": "uXVotq02Yc7n",
        "colab_type": "code",
        "colab": {
          "base_uri": "https://localhost:8080/",
          "height": 199
        },
        "outputId": "bee5e253-f6d9-4ff3-9264-7a05a5fc4d67"
      },
      "source": [
        "# train cnn\n",
        "model.compile(loss='msle', optimizer='adadelta', metrics=[rmsle])\n",
        "\n",
        "batch_size = 128\n",
        "epochs = 2\n",
        "for train_index, val_index in kf.split(x):\n",
        "    x_train, x_val = x[train_index], x[val_index]\n",
        "    y_train, y_val = y[train_index], y[val_index]\n",
        "    model.fit(x_train, y_train, validation_data=(x_val, y_val), epochs=epochs, batch_size=batch_size)"
      ],
      "execution_count": 52,
      "outputs": [
        {
          "output_type": "stream",
          "text": [
            "Train on 741267 samples, validate on 741268 samples\n",
            "Epoch 1/2\n",
            "741267/741267 [==============================] - 538s 726us/step - loss: 0.9182 - rmsle: 0.7279 - val_loss: 0.5575 - val_rmsle: 0.5748\n",
            "Epoch 2/2\n",
            "741267/741267 [==============================] - 573s 773us/step - loss: 0.5847 - rmsle: 0.5902 - val_loss: 0.5543 - val_rmsle: 0.5768\n",
            "Train on 741268 samples, validate on 741267 samples\n",
            "Epoch 1/2\n",
            "741268/741268 [==============================] - 535s 722us/step - loss: 0.5585 - rmsle: 0.5798 - val_loss: 0.5534 - val_rmsle: 0.5782\n",
            "Epoch 2/2\n",
            "741268/741268 [==============================] - 555s 749us/step - loss: 0.5556 - rmsle: 0.5796 - val_loss: 0.5534 - val_rmsle: 0.5785\n"
          ],
          "name": "stdout"
        }
      ]
    },
    {
      "cell_type": "code",
      "metadata": {
        "id": "Ho_lIqQ9LLTT",
        "colab_type": "code",
        "colab": {
          "base_uri": "https://localhost:8080/",
          "height": 346
        },
        "outputId": "d6f7da94-afca-4dee-b360-0aadac1da555"
      },
      "source": [
        "# train cnn\n",
        "model.compile(loss='msle', optimizer='adadelta', metrics=[rmsle])\n",
        "\n",
        "batch_size = 10000\n",
        "epochs = 3\n",
        "for train_index, val_index in kf.split(x):\n",
        "    x_train, x_val = x[train_index], x[val_index]\n",
        "    y_train, y_val = y[train_index], y[val_index]\n",
        "    model.fit(x_train, y_train, validation_data=(x_val, y_val), epochs=epochs, batch_size=batch_size)"
      ],
      "execution_count": 51,
      "outputs": [
        {
          "output_type": "stream",
          "text": [
            "W0618 10:40:53.761055 139919915018112 deprecation.py:323] From /usr/local/lib/python3.6/dist-packages/tensorflow/python/ops/math_grad.py:1250: add_dispatch_support.<locals>.wrapper (from tensorflow.python.ops.array_ops) is deprecated and will be removed in a future version.\n",
            "Instructions for updating:\n",
            "Use tf.where in 2.0, which has the same broadcast rule as np.where\n"
          ],
          "name": "stderr"
        },
        {
          "output_type": "stream",
          "text": [
            "Train on 741267 samples, validate on 741268 samples\n",
            "Epoch 1/3\n",
            "741267/741267 [==============================] - 449s 606us/step - loss: 7.0194 - rmsle: 2.4875 - val_loss: 3.8335 - val_rmsle: 1.7522\n",
            "Epoch 2/3\n",
            "741267/741267 [==============================] - 460s 621us/step - loss: 3.5646 - rmsle: 1.5904 - val_loss: 2.1264 - val_rmsle: 1.1812\n",
            "Epoch 3/3\n",
            "741267/741267 [==============================] - 465s 628us/step - loss: 2.6964 - rmsle: 1.3030 - val_loss: 1.5393 - val_rmsle: 0.9673\n",
            "Train on 741268 samples, validate on 741267 samples\n",
            "Epoch 1/3\n",
            "741268/741268 [==============================] - 458s 618us/step - loss: 2.3226 - rmsle: 1.1798 - val_loss: 1.2564 - val_rmsle: 0.8658\n",
            "Epoch 2/3\n",
            "741268/741268 [==============================] - 453s 611us/step - loss: 2.1180 - rmsle: 1.1144 - val_loss: 1.0924 - val_rmsle: 0.8084\n",
            "Epoch 3/3\n",
            "741268/741268 [==============================] - 465s 627us/step - loss: 1.9811 - rmsle: 1.0720 - val_loss: 0.9852 - val_rmsle: 0.7706\n"
          ],
          "name": "stdout"
        }
      ]
    },
    {
      "cell_type": "code",
      "metadata": {
        "id": "sh-thdXI0umg",
        "colab_type": "code",
        "colab": {}
      },
      "source": [
        "#FITTING THE MODEL\n",
        "BATCH_SIZE = 1000\n",
        "epochs = 10\n",
        "\n",
        "model = create_cnn()\n",
        "model.fit(X_train, dtrain.target, epochs=epochs, batch_size=BATCH_SIZE\n",
        "          , validation_data=(X_valid, dvalid.target)\n",
        "          , verbose=1)"
      ],
      "execution_count": 0,
      "outputs": []
    }
  ]
}