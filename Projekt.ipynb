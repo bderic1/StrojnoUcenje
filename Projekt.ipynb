{
 "cells": [
  {
   "cell_type": "markdown",
   "metadata": {},
   "source": [
    "# Eksploratorna analiza skupa podataka"
   ]
  },
  {
   "cell_type": "code",
   "execution_count": 1,
   "metadata": {},
   "outputs": [],
   "source": [
    "import numpy as np\n",
    "import pandas as pd\n",
    "import seaborn as sns\n",
    "import matplotlib.pyplot as plt\n",
    "\n",
    "%matplotlib inline"
   ]
  },
  {
   "cell_type": "markdown",
   "metadata": {},
   "source": [
    "Učitavamo skupove podataka za treniranje i testiranje, te na njima radimo osnovnu analizu podataka."
   ]
  },
  {
   "cell_type": "code",
   "execution_count": 2,
   "metadata": {},
   "outputs": [],
   "source": [
    "train=pd.read_csv('train.tsv', sep='\\t') #učitavanje training tablice\n",
    "test=pd.read_csv('test.tsv', sep='\\t') #učitavanje test tablice"
   ]
  },
  {
   "cell_type": "markdown",
   "metadata": {},
   "source": [
    "Skup za treniranje ima 1.482.535 redaka i 8 stupaca, dok skup za testiranje ima 693.359 redaka i 7 stupaca."
   ]
  },
  {
   "cell_type": "code",
   "execution_count": 3,
   "metadata": {},
   "outputs": [
    {
     "data": {
      "text/plain": [
       "(1482535, 8)"
      ]
     },
     "execution_count": 3,
     "metadata": {},
     "output_type": "execute_result"
    }
   ],
   "source": [
    "train.shape"
   ]
  },
  {
   "cell_type": "code",
   "execution_count": 4,
   "metadata": {},
   "outputs": [
    {
     "data": {
      "text/plain": [
       "(693359, 7)"
      ]
     },
     "execution_count": 4,
     "metadata": {},
     "output_type": "execute_result"
    }
   ],
   "source": [
    "test.shape"
   ]
  },
  {
   "cell_type": "markdown",
   "metadata": {},
   "source": [
    "Prikažimo tipove varijabli:"
   ]
  },
  {
   "cell_type": "code",
   "execution_count": 5,
   "metadata": {},
   "outputs": [
    {
     "name": "stdout",
     "output_type": "stream",
     "text": [
      "<class 'pandas.core.frame.DataFrame'>\n",
      "RangeIndex: 1482535 entries, 0 to 1482534\n",
      "Data columns (total 8 columns):\n",
      "train_id             1482535 non-null int64\n",
      "name                 1482535 non-null object\n",
      "item_condition_id    1482535 non-null int64\n",
      "category_name        1476208 non-null object\n",
      "brand_name           849853 non-null object\n",
      "price                1482535 non-null float64\n",
      "shipping             1482535 non-null int64\n",
      "item_description     1482531 non-null object\n",
      "dtypes: float64(1), int64(3), object(4)\n",
      "memory usage: 90.5+ MB\n"
     ]
    }
   ],
   "source": [
    "train.info()"
   ]
  },
  {
   "cell_type": "code",
   "execution_count": 6,
   "metadata": {},
   "outputs": [
    {
     "name": "stdout",
     "output_type": "stream",
     "text": [
      "<class 'pandas.core.frame.DataFrame'>\n",
      "RangeIndex: 693359 entries, 0 to 693358\n",
      "Data columns (total 7 columns):\n",
      "test_id              693359 non-null int64\n",
      "name                 693359 non-null object\n",
      "item_condition_id    693359 non-null int64\n",
      "category_name        690301 non-null object\n",
      "brand_name           397834 non-null object\n",
      "shipping             693359 non-null int64\n",
      "item_description     693359 non-null object\n",
      "dtypes: int64(3), object(4)\n",
      "memory usage: 37.0+ MB\n"
     ]
    }
   ],
   "source": [
    "test.info()"
   ]
  },
  {
   "cell_type": "code",
   "execution_count": 7,
   "metadata": {},
   "outputs": [
    {
     "data": {
      "text/plain": [
       "Index(['train_id', 'name', 'item_condition_id', 'category_name', 'brand_name',\n",
       "       'price', 'shipping', 'item_description'],\n",
       "      dtype='object')"
      ]
     },
     "execution_count": 7,
     "metadata": {},
     "output_type": "execute_result"
    }
   ],
   "source": [
    "train.columns"
   ]
  },
  {
   "cell_type": "code",
   "execution_count": 8,
   "metadata": {},
   "outputs": [],
   "source": [
    "train.set_index('train_id', inplace=True) # stavimo da train_id bude indeks, onaj kojeg pandas kreira je nepotreban\n",
    "test.set_index('test_id', inplace=True)"
   ]
  },
  {
   "cell_type": "code",
   "execution_count": 9,
   "metadata": {},
   "outputs": [
    {
     "data": {
      "text/html": [
       "<div>\n",
       "<style scoped>\n",
       "    .dataframe tbody tr th:only-of-type {\n",
       "        vertical-align: middle;\n",
       "    }\n",
       "\n",
       "    .dataframe tbody tr th {\n",
       "        vertical-align: top;\n",
       "    }\n",
       "\n",
       "    .dataframe thead th {\n",
       "        text-align: right;\n",
       "    }\n",
       "</style>\n",
       "<table border=\"1\" class=\"dataframe\">\n",
       "  <thead>\n",
       "    <tr style=\"text-align: right;\">\n",
       "      <th></th>\n",
       "      <th>name</th>\n",
       "      <th>item_condition_id</th>\n",
       "      <th>category_name</th>\n",
       "      <th>brand_name</th>\n",
       "      <th>price</th>\n",
       "      <th>shipping</th>\n",
       "      <th>item_description</th>\n",
       "    </tr>\n",
       "    <tr>\n",
       "      <th>train_id</th>\n",
       "      <th></th>\n",
       "      <th></th>\n",
       "      <th></th>\n",
       "      <th></th>\n",
       "      <th></th>\n",
       "      <th></th>\n",
       "      <th></th>\n",
       "    </tr>\n",
       "  </thead>\n",
       "  <tbody>\n",
       "    <tr>\n",
       "      <th>0</th>\n",
       "      <td>MLB Cincinnati Reds T Shirt Size XL</td>\n",
       "      <td>3</td>\n",
       "      <td>Men/Tops/T-shirts</td>\n",
       "      <td>NaN</td>\n",
       "      <td>10.0</td>\n",
       "      <td>1</td>\n",
       "      <td>No description yet</td>\n",
       "    </tr>\n",
       "    <tr>\n",
       "      <th>1</th>\n",
       "      <td>Razer BlackWidow Chroma Keyboard</td>\n",
       "      <td>3</td>\n",
       "      <td>Electronics/Computers &amp; Tablets/Components &amp; P...</td>\n",
       "      <td>Razer</td>\n",
       "      <td>52.0</td>\n",
       "      <td>0</td>\n",
       "      <td>This keyboard is in great condition and works ...</td>\n",
       "    </tr>\n",
       "    <tr>\n",
       "      <th>2</th>\n",
       "      <td>AVA-VIV Blouse</td>\n",
       "      <td>1</td>\n",
       "      <td>Women/Tops &amp; Blouses/Blouse</td>\n",
       "      <td>Target</td>\n",
       "      <td>10.0</td>\n",
       "      <td>1</td>\n",
       "      <td>Adorable top with a hint of lace and a key hol...</td>\n",
       "    </tr>\n",
       "    <tr>\n",
       "      <th>3</th>\n",
       "      <td>Leather Horse Statues</td>\n",
       "      <td>1</td>\n",
       "      <td>Home/Home Décor/Home Décor Accents</td>\n",
       "      <td>NaN</td>\n",
       "      <td>35.0</td>\n",
       "      <td>1</td>\n",
       "      <td>New with tags. Leather horses. Retail for [rm]...</td>\n",
       "    </tr>\n",
       "    <tr>\n",
       "      <th>4</th>\n",
       "      <td>24K GOLD plated rose</td>\n",
       "      <td>1</td>\n",
       "      <td>Women/Jewelry/Necklaces</td>\n",
       "      <td>NaN</td>\n",
       "      <td>44.0</td>\n",
       "      <td>0</td>\n",
       "      <td>Complete with certificate of authenticity</td>\n",
       "    </tr>\n",
       "  </tbody>\n",
       "</table>\n",
       "</div>"
      ],
      "text/plain": [
       "                                         name  item_condition_id  \\\n",
       "train_id                                                           \n",
       "0         MLB Cincinnati Reds T Shirt Size XL                  3   \n",
       "1            Razer BlackWidow Chroma Keyboard                  3   \n",
       "2                              AVA-VIV Blouse                  1   \n",
       "3                       Leather Horse Statues                  1   \n",
       "4                        24K GOLD plated rose                  1   \n",
       "\n",
       "                                              category_name brand_name  price  \\\n",
       "train_id                                                                        \n",
       "0                                         Men/Tops/T-shirts        NaN   10.0   \n",
       "1         Electronics/Computers & Tablets/Components & P...      Razer   52.0   \n",
       "2                               Women/Tops & Blouses/Blouse     Target   10.0   \n",
       "3                        Home/Home Décor/Home Décor Accents        NaN   35.0   \n",
       "4                                   Women/Jewelry/Necklaces        NaN   44.0   \n",
       "\n",
       "          shipping                                   item_description  \n",
       "train_id                                                               \n",
       "0                1                                 No description yet  \n",
       "1                0  This keyboard is in great condition and works ...  \n",
       "2                1  Adorable top with a hint of lace and a key hol...  \n",
       "3                1  New with tags. Leather horses. Retail for [rm]...  \n",
       "4                0          Complete with certificate of authenticity  "
      ]
     },
     "execution_count": 9,
     "metadata": {},
     "output_type": "execute_result"
    }
   ],
   "source": [
    "train.head()"
   ]
  },
  {
   "cell_type": "code",
   "execution_count": 10,
   "metadata": {},
   "outputs": [
    {
     "data": {
      "text/plain": [
       "name                  object\n",
       "item_condition_id      int64\n",
       "category_name         object\n",
       "brand_name            object\n",
       "price                float64\n",
       "shipping               int64\n",
       "item_description      object\n",
       "dtype: object"
      ]
     },
     "execution_count": 10,
     "metadata": {},
     "output_type": "execute_result"
    }
   ],
   "source": [
    "train.dtypes # vrste podataka"
   ]
  },
  {
   "cell_type": "code",
   "execution_count": 11,
   "metadata": {},
   "outputs": [
    {
     "data": {
      "text/html": [
       "<div>\n",
       "<style scoped>\n",
       "    .dataframe tbody tr th:only-of-type {\n",
       "        vertical-align: middle;\n",
       "    }\n",
       "\n",
       "    .dataframe tbody tr th {\n",
       "        vertical-align: top;\n",
       "    }\n",
       "\n",
       "    .dataframe thead th {\n",
       "        text-align: right;\n",
       "    }\n",
       "</style>\n",
       "<table border=\"1\" class=\"dataframe\">\n",
       "  <thead>\n",
       "    <tr style=\"text-align: right;\">\n",
       "      <th></th>\n",
       "      <th>name</th>\n",
       "      <th>item_condition_id</th>\n",
       "      <th>category_name</th>\n",
       "      <th>brand_name</th>\n",
       "      <th>price</th>\n",
       "      <th>shipping</th>\n",
       "      <th>item_description</th>\n",
       "    </tr>\n",
       "    <tr>\n",
       "      <th>train_id</th>\n",
       "      <th></th>\n",
       "      <th></th>\n",
       "      <th></th>\n",
       "      <th></th>\n",
       "      <th></th>\n",
       "      <th></th>\n",
       "      <th></th>\n",
       "    </tr>\n",
       "  </thead>\n",
       "  <tbody>\n",
       "    <tr>\n",
       "      <th>0</th>\n",
       "      <td>MLB Cincinnati Reds T Shirt Size XL</td>\n",
       "      <td>3</td>\n",
       "      <td>Men/Tops/T-shirts</td>\n",
       "      <td>NaN</td>\n",
       "      <td>10.0</td>\n",
       "      <td>1</td>\n",
       "      <td>No description yet</td>\n",
       "    </tr>\n",
       "    <tr>\n",
       "      <th>1</th>\n",
       "      <td>Razer BlackWidow Chroma Keyboard</td>\n",
       "      <td>3</td>\n",
       "      <td>Electronics/Computers &amp; Tablets/Components &amp; P...</td>\n",
       "      <td>Razer</td>\n",
       "      <td>52.0</td>\n",
       "      <td>0</td>\n",
       "      <td>This keyboard is in great condition and works ...</td>\n",
       "    </tr>\n",
       "    <tr>\n",
       "      <th>2</th>\n",
       "      <td>AVA-VIV Blouse</td>\n",
       "      <td>1</td>\n",
       "      <td>Women/Tops &amp; Blouses/Blouse</td>\n",
       "      <td>Target</td>\n",
       "      <td>10.0</td>\n",
       "      <td>1</td>\n",
       "      <td>Adorable top with a hint of lace and a key hol...</td>\n",
       "    </tr>\n",
       "    <tr>\n",
       "      <th>3</th>\n",
       "      <td>Leather Horse Statues</td>\n",
       "      <td>1</td>\n",
       "      <td>Home/Home Décor/Home Décor Accents</td>\n",
       "      <td>NaN</td>\n",
       "      <td>35.0</td>\n",
       "      <td>1</td>\n",
       "      <td>New with tags. Leather horses. Retail for [rm]...</td>\n",
       "    </tr>\n",
       "    <tr>\n",
       "      <th>4</th>\n",
       "      <td>24K GOLD plated rose</td>\n",
       "      <td>1</td>\n",
       "      <td>Women/Jewelry/Necklaces</td>\n",
       "      <td>NaN</td>\n",
       "      <td>44.0</td>\n",
       "      <td>0</td>\n",
       "      <td>Complete with certificate of authenticity</td>\n",
       "    </tr>\n",
       "    <tr>\n",
       "      <th>5</th>\n",
       "      <td>Bundled items requested for Ruie</td>\n",
       "      <td>3</td>\n",
       "      <td>Women/Other/Other</td>\n",
       "      <td>NaN</td>\n",
       "      <td>59.0</td>\n",
       "      <td>0</td>\n",
       "      <td>Banana republic bottoms, Candies skirt with ma...</td>\n",
       "    </tr>\n",
       "    <tr>\n",
       "      <th>6</th>\n",
       "      <td>Acacia pacific tides santorini top</td>\n",
       "      <td>3</td>\n",
       "      <td>Women/Swimwear/Two-Piece</td>\n",
       "      <td>Acacia Swimwear</td>\n",
       "      <td>64.0</td>\n",
       "      <td>0</td>\n",
       "      <td>Size small but straps slightly shortened to fi...</td>\n",
       "    </tr>\n",
       "    <tr>\n",
       "      <th>7</th>\n",
       "      <td>Girls cheer and tumbling bundle of 7</td>\n",
       "      <td>3</td>\n",
       "      <td>Sports &amp; Outdoors/Apparel/Girls</td>\n",
       "      <td>Soffe</td>\n",
       "      <td>6.0</td>\n",
       "      <td>1</td>\n",
       "      <td>You get three pairs of Sophie cheer shorts siz...</td>\n",
       "    </tr>\n",
       "    <tr>\n",
       "      <th>8</th>\n",
       "      <td>Girls Nike Pro shorts</td>\n",
       "      <td>3</td>\n",
       "      <td>Sports &amp; Outdoors/Apparel/Girls</td>\n",
       "      <td>Nike</td>\n",
       "      <td>19.0</td>\n",
       "      <td>0</td>\n",
       "      <td>Girls Size small Plus green. Three shorts total.</td>\n",
       "    </tr>\n",
       "    <tr>\n",
       "      <th>9</th>\n",
       "      <td>Porcelain clown doll checker pants VTG</td>\n",
       "      <td>3</td>\n",
       "      <td>Vintage &amp; Collectibles/Collectibles/Doll</td>\n",
       "      <td>NaN</td>\n",
       "      <td>8.0</td>\n",
       "      <td>0</td>\n",
       "      <td>I realized his pants are on backwards after th...</td>\n",
       "    </tr>\n",
       "    <tr>\n",
       "      <th>10</th>\n",
       "      <td>Smashbox primer</td>\n",
       "      <td>2</td>\n",
       "      <td>Beauty/Makeup/Face</td>\n",
       "      <td>Smashbox</td>\n",
       "      <td>8.0</td>\n",
       "      <td>1</td>\n",
       "      <td>0.25 oz Full size is 1oz for [rm] in Sephora</td>\n",
       "    </tr>\n",
       "    <tr>\n",
       "      <th>11</th>\n",
       "      <td>New vs pi k body mists</td>\n",
       "      <td>1</td>\n",
       "      <td>Beauty/Fragrance/Women</td>\n",
       "      <td>Victoria's Secret</td>\n",
       "      <td>34.0</td>\n",
       "      <td>0</td>\n",
       "      <td>(5) new vs pink body mists (2.5 oz each) Fresh...</td>\n",
       "    </tr>\n",
       "    <tr>\n",
       "      <th>12</th>\n",
       "      <td>Black Skater dress</td>\n",
       "      <td>2</td>\n",
       "      <td>Women/Dresses/Above Knee, Mini</td>\n",
       "      <td>rue</td>\n",
       "      <td>16.0</td>\n",
       "      <td>0</td>\n",
       "      <td>Xl, great condition</td>\n",
       "    </tr>\n",
       "    <tr>\n",
       "      <th>13</th>\n",
       "      <td>Sharpener and eraser</td>\n",
       "      <td>1</td>\n",
       "      <td>Other/Office supplies/School Supplies</td>\n",
       "      <td>Scholastic</td>\n",
       "      <td>4.0</td>\n",
       "      <td>1</td>\n",
       "      <td>No description yet</td>\n",
       "    </tr>\n",
       "    <tr>\n",
       "      <th>14</th>\n",
       "      <td>HOLD for Dogs2016 Minnetonka boots</td>\n",
       "      <td>3</td>\n",
       "      <td>Women/Shoes/Boots</td>\n",
       "      <td>UGG Australia</td>\n",
       "      <td>43.0</td>\n",
       "      <td>0</td>\n",
       "      <td>Authentic. Suede fringe boots. Great condition...</td>\n",
       "    </tr>\n",
       "    <tr>\n",
       "      <th>15</th>\n",
       "      <td>Sephora tarte birthday gift</td>\n",
       "      <td>1</td>\n",
       "      <td>Beauty/Makeup/Makeup Sets</td>\n",
       "      <td>Tarte</td>\n",
       "      <td>11.0</td>\n",
       "      <td>1</td>\n",
       "      <td>Brand new. Deluxe travel size products. Contai...</td>\n",
       "    </tr>\n",
       "    <tr>\n",
       "      <th>16</th>\n",
       "      <td>Glitter Eyeshadow</td>\n",
       "      <td>1</td>\n",
       "      <td>Beauty/Makeup/Eyes</td>\n",
       "      <td>Wet n Wild</td>\n",
       "      <td>6.0</td>\n",
       "      <td>1</td>\n",
       "      <td>2 glitter eyeshadows; one in Brass and one in ...</td>\n",
       "    </tr>\n",
       "    <tr>\n",
       "      <th>17</th>\n",
       "      <td>New: Baby K'tan active baby carrier</td>\n",
       "      <td>1</td>\n",
       "      <td>Kids/Gear/Backpacks &amp; Carriers</td>\n",
       "      <td>NaN</td>\n",
       "      <td>29.0</td>\n",
       "      <td>1</td>\n",
       "      <td>Brand new in box Size: Medium Color: Coral Ret...</td>\n",
       "    </tr>\n",
       "    <tr>\n",
       "      <th>18</th>\n",
       "      <td>Too Faced Limited \"Merry Macaroons\"</td>\n",
       "      <td>1</td>\n",
       "      <td>Beauty/Makeup/Makeup Palettes</td>\n",
       "      <td>Too Faced</td>\n",
       "      <td>25.0</td>\n",
       "      <td>1</td>\n",
       "      <td>This AUTHENTIC pallete by Too Faced is brand n...</td>\n",
       "    </tr>\n",
       "    <tr>\n",
       "      <th>19</th>\n",
       "      <td>Cream/ Beige Front Cross Shirt</td>\n",
       "      <td>2</td>\n",
       "      <td>Women/Tops &amp; Blouses/Blouse</td>\n",
       "      <td>Anthropologie</td>\n",
       "      <td>27.0</td>\n",
       "      <td>0</td>\n",
       "      <td>Fancy, dressy or casual! Dress it up or down 1...</td>\n",
       "    </tr>\n",
       "    <tr>\n",
       "      <th>20</th>\n",
       "      <td>Torrid Nautical Peplum Tube Top</td>\n",
       "      <td>3</td>\n",
       "      <td>Women/Tops &amp; Blouses/Tank, Cami</td>\n",
       "      <td>Torrid</td>\n",
       "      <td>13.0</td>\n",
       "      <td>1</td>\n",
       "      <td>Size 1. Worn once. Excellent condition</td>\n",
       "    </tr>\n",
       "    <tr>\n",
       "      <th>21</th>\n",
       "      <td>NWT VS ULTIMATE SPORTS BRA 34ddd</td>\n",
       "      <td>1</td>\n",
       "      <td>Women/Athletic Apparel/Sports Bras</td>\n",
       "      <td>Victoria's Secret</td>\n",
       "      <td>20.0</td>\n",
       "      <td>0</td>\n",
       "      <td>NWT Victoria's Secret ULTIMATE SPORT BRA -MAXI...</td>\n",
       "    </tr>\n",
       "    <tr>\n",
       "      <th>22</th>\n",
       "      <td>Galaxy S7 Edge (Unlocked) 32GB</td>\n",
       "      <td>3</td>\n",
       "      <td>Electronics/Cell Phones &amp; Accessories/Cell Pho...</td>\n",
       "      <td>Samsung</td>\n",
       "      <td>386.0</td>\n",
       "      <td>0</td>\n",
       "      <td>Reasonable offers welcomed. But if you ask \"lo...</td>\n",
       "    </tr>\n",
       "    <tr>\n",
       "      <th>23</th>\n",
       "      <td>Triple car charger</td>\n",
       "      <td>1</td>\n",
       "      <td>Electronics/Cell Phones &amp; Accessories/Chargers...</td>\n",
       "      <td>NaN</td>\n",
       "      <td>8.0</td>\n",
       "      <td>1</td>\n",
       "      <td>Brand new never used All colors are available ...</td>\n",
       "    </tr>\n",
       "    <tr>\n",
       "      <th>24</th>\n",
       "      <td>Black and Red Baseball Tee</td>\n",
       "      <td>2</td>\n",
       "      <td>Women/Tops &amp; Blouses/T-Shirts</td>\n",
       "      <td>FOREVER 21</td>\n",
       "      <td>10.0</td>\n",
       "      <td>0</td>\n",
       "      <td>lanascloset ~~~ description: never worn! ✨ i d...</td>\n",
       "    </tr>\n",
       "    <tr>\n",
       "      <th>25</th>\n",
       "      <td>Air Jordan carmine 6s</td>\n",
       "      <td>3</td>\n",
       "      <td>Men/Shoes/Athletic</td>\n",
       "      <td>Air Jordan</td>\n",
       "      <td>66.0</td>\n",
       "      <td>0</td>\n",
       "      <td>They are 100 percent authentic. They are beate...</td>\n",
       "    </tr>\n",
       "    <tr>\n",
       "      <th>26</th>\n",
       "      <td>Otterbox Defender iPhone 6 Plus/6s Plus</td>\n",
       "      <td>1</td>\n",
       "      <td>Electronics/Cell Phones &amp; Accessories/Cases, C...</td>\n",
       "      <td>Apple</td>\n",
       "      <td>13.0</td>\n",
       "      <td>1</td>\n",
       "      <td>Brand new Otterbox Defender iPhone 6 Plus/6s Plus</td>\n",
       "    </tr>\n",
       "    <tr>\n",
       "      <th>27</th>\n",
       "      <td>LuLaRoe OS Black With White Polka Dots</td>\n",
       "      <td>3</td>\n",
       "      <td>Women/Athletic Apparel/Pants, Tights, Leggings</td>\n",
       "      <td>LuLaRoe</td>\n",
       "      <td>24.0</td>\n",
       "      <td>0</td>\n",
       "      <td>Worn one time. Excellent condition</td>\n",
       "    </tr>\n",
       "    <tr>\n",
       "      <th>28</th>\n",
       "      <td>Forever21 floral romper strapless</td>\n",
       "      <td>2</td>\n",
       "      <td>Women/Swimwear/One-Piece</td>\n",
       "      <td>FOREVER 21</td>\n",
       "      <td>5.0</td>\n",
       "      <td>1</td>\n",
       "      <td>Beautiful Excellent condition Zips and ties in...</td>\n",
       "    </tr>\n",
       "    <tr>\n",
       "      <th>29</th>\n",
       "      <td>Kendra bundle</td>\n",
       "      <td>3</td>\n",
       "      <td>Women/Jeans/Boot Cut</td>\n",
       "      <td>Hollister</td>\n",
       "      <td>16.0</td>\n",
       "      <td>1</td>\n",
       "      <td>29w. X 33l. Social stretch hollister jeans ***...</td>\n",
       "    </tr>\n",
       "    <tr>\n",
       "      <th>...</th>\n",
       "      <td>...</td>\n",
       "      <td>...</td>\n",
       "      <td>...</td>\n",
       "      <td>...</td>\n",
       "      <td>...</td>\n",
       "      <td>...</td>\n",
       "      <td>...</td>\n",
       "    </tr>\n",
       "    <tr>\n",
       "      <th>1482505</th>\n",
       "      <td>NorthFace rain jacket!</td>\n",
       "      <td>3</td>\n",
       "      <td>Women/Coats &amp; Jackets/Raincoat</td>\n",
       "      <td>The North Face</td>\n",
       "      <td>34.0</td>\n",
       "      <td>0</td>\n",
       "      <td>great condition! a few signs of wear on the in...</td>\n",
       "    </tr>\n",
       "    <tr>\n",
       "      <th>1482506</th>\n",
       "      <td>KitchenAid 4.5 quart mixer</td>\n",
       "      <td>1</td>\n",
       "      <td>Home/Home Appliances/Kitchen Appliances</td>\n",
       "      <td>KitchenAid</td>\n",
       "      <td>165.0</td>\n",
       "      <td>0</td>\n",
       "      <td>Brand new sealed in box kitchen aid kitchenaid...</td>\n",
       "    </tr>\n",
       "    <tr>\n",
       "      <th>1482507</th>\n",
       "      <td>Grand Theft Auto V: XBOX ONE</td>\n",
       "      <td>3</td>\n",
       "      <td>Electronics/Video Games &amp; Consoles/Games</td>\n",
       "      <td>NaN</td>\n",
       "      <td>24.0</td>\n",
       "      <td>0</td>\n",
       "      <td>Just the game and the case. Lightly used.</td>\n",
       "    </tr>\n",
       "    <tr>\n",
       "      <th>1482508</th>\n",
       "      <td>Victoria secret black bag</td>\n",
       "      <td>1</td>\n",
       "      <td>Women/Women's Handbags/Shoulder Bag</td>\n",
       "      <td>Victoria's Secret</td>\n",
       "      <td>21.0</td>\n",
       "      <td>0</td>\n",
       "      <td>New with tags</td>\n",
       "    </tr>\n",
       "    <tr>\n",
       "      <th>1482509</th>\n",
       "      <td>Fitbit Charge 2</td>\n",
       "      <td>3</td>\n",
       "      <td>Sports &amp; Outdoors/Exercise/Fitness accessories</td>\n",
       "      <td>NaN</td>\n",
       "      <td>95.0</td>\n",
       "      <td>1</td>\n",
       "      <td>Fit bit charge 2, comes with box, charger pack...</td>\n",
       "    </tr>\n",
       "    <tr>\n",
       "      <th>1482510</th>\n",
       "      <td>2×Popsockets for all phone &amp; Tablet</td>\n",
       "      <td>1</td>\n",
       "      <td>Electronics/Cell Phones &amp; Accessories/Cell Pho...</td>\n",
       "      <td>NaN</td>\n",
       "      <td>9.0</td>\n",
       "      <td>1</td>\n",
       "      <td>Popsockets for all phone &amp; Tablet Add 1 clip m...</td>\n",
       "    </tr>\n",
       "    <tr>\n",
       "      <th>1482511</th>\n",
       "      <td>Bebe Beauty Gloss Icon Lip Gloss</td>\n",
       "      <td>1</td>\n",
       "      <td>Beauty/Makeup/Lips</td>\n",
       "      <td>NaN</td>\n",
       "      <td>5.0</td>\n",
       "      <td>1</td>\n",
       "      <td>Brand: Bebe Beauty lip gloss, in color Icon. B...</td>\n",
       "    </tr>\n",
       "    <tr>\n",
       "      <th>1482512</th>\n",
       "      <td>Lululemon</td>\n",
       "      <td>2</td>\n",
       "      <td>Women/Athletic Apparel/Shirts &amp; Tops</td>\n",
       "      <td>Lululemon</td>\n",
       "      <td>34.0</td>\n",
       "      <td>0</td>\n",
       "      <td>NWOT - Blue - size 8</td>\n",
       "    </tr>\n",
       "    <tr>\n",
       "      <th>1482513</th>\n",
       "      <td>Yugioh Ultra Rare B. Skull Dragon</td>\n",
       "      <td>3</td>\n",
       "      <td>Vintage &amp; Collectibles/Trading Cards/Animation</td>\n",
       "      <td>Konami</td>\n",
       "      <td>5.0</td>\n",
       "      <td>1</td>\n",
       "      <td>Yu-Gi-Oh Ultra Rare Single Card in NM conditio...</td>\n",
       "    </tr>\n",
       "    <tr>\n",
       "      <th>1482514</th>\n",
       "      <td>Anthropologie Purse!</td>\n",
       "      <td>3</td>\n",
       "      <td>Handmade/Bags and Purses/Purse</td>\n",
       "      <td>NaN</td>\n",
       "      <td>23.0</td>\n",
       "      <td>0</td>\n",
       "      <td>Leather Navy and creme polka dot With brown ac...</td>\n",
       "    </tr>\n",
       "    <tr>\n",
       "      <th>1482515</th>\n",
       "      <td>Pink Yankees hoodie</td>\n",
       "      <td>3</td>\n",
       "      <td>Women/Sweaters/Hooded</td>\n",
       "      <td>PINK</td>\n",
       "      <td>20.0</td>\n",
       "      <td>1</td>\n",
       "      <td>Size medium</td>\n",
       "    </tr>\n",
       "    <tr>\n",
       "      <th>1482516</th>\n",
       "      <td>New Bath &amp; Body Works Scented Candle</td>\n",
       "      <td>1</td>\n",
       "      <td>Home/Home Décor/Candles &amp; Holders</td>\n",
       "      <td>Bath &amp; Body Works</td>\n",
       "      <td>15.0</td>\n",
       "      <td>0</td>\n",
       "      <td>Bath &amp; Body Works Scented Candle Vanilla Bloss...</td>\n",
       "    </tr>\n",
       "    <tr>\n",
       "      <th>1482517</th>\n",
       "      <td>34D VS PINK red push up bra</td>\n",
       "      <td>3</td>\n",
       "      <td>Women/Underwear/Bras</td>\n",
       "      <td>PINK</td>\n",
       "      <td>11.0</td>\n",
       "      <td>0</td>\n",
       "      <td>To see all of the bras I have listed key in JB...</td>\n",
       "    </tr>\n",
       "    <tr>\n",
       "      <th>1482518</th>\n",
       "      <td>Brooches: lot of 5 assorted (1 Coro)</td>\n",
       "      <td>3</td>\n",
       "      <td>Vintage &amp; Collectibles/Jewelry/Brooch</td>\n",
       "      <td>NaN</td>\n",
       "      <td>10.0</td>\n",
       "      <td>1</td>\n",
       "      <td>3 appear to be VTG. The pink one is Coro.</td>\n",
       "    </tr>\n",
       "    <tr>\n",
       "      <th>1482519</th>\n",
       "      <td>SALE! FreeShip VS Logo Thong</td>\n",
       "      <td>1</td>\n",
       "      <td>Women/Underwear/Panties</td>\n",
       "      <td>PINK</td>\n",
       "      <td>9.0</td>\n",
       "      <td>1</td>\n",
       "      <td>Brand new with tags, Victoria Secret logo thon...</td>\n",
       "    </tr>\n",
       "    <tr>\n",
       "      <th>1482520</th>\n",
       "      <td>Bundle for BeSpa</td>\n",
       "      <td>3</td>\n",
       "      <td>Kids/Boys 0-24 Mos/One-Pieces</td>\n",
       "      <td>Gap</td>\n",
       "      <td>18.0</td>\n",
       "      <td>1</td>\n",
       "      <td>Bundle of Baby Gap's First Favorites 3-6 month...</td>\n",
       "    </tr>\n",
       "    <tr>\n",
       "      <th>1482521</th>\n",
       "      <td>Tarte Amazonian clay 12 hour blush</td>\n",
       "      <td>1</td>\n",
       "      <td>Beauty/Makeup/Face</td>\n",
       "      <td>Tarte</td>\n",
       "      <td>9.0</td>\n",
       "      <td>1</td>\n",
       "      <td>Brand new, never used.</td>\n",
       "    </tr>\n",
       "    <tr>\n",
       "      <th>1482522</th>\n",
       "      <td>LG K7/Tribute 5 Hybrid Case</td>\n",
       "      <td>1</td>\n",
       "      <td>Electronics/Cell Phones &amp; Accessories/Cases, C...</td>\n",
       "      <td>NaN</td>\n",
       "      <td>8.0</td>\n",
       "      <td>1</td>\n",
       "      <td>Perfect Design for LG Tribute 5 / LG K7, NOT f...</td>\n",
       "    </tr>\n",
       "    <tr>\n",
       "      <th>1482523</th>\n",
       "      <td>NARS illuminator orgasm</td>\n",
       "      <td>3</td>\n",
       "      <td>Beauty/Makeup/Face</td>\n",
       "      <td>Nars</td>\n",
       "      <td>8.0</td>\n",
       "      <td>0</td>\n",
       "      <td>Still more than half left in this! Color is or...</td>\n",
       "    </tr>\n",
       "    <tr>\n",
       "      <th>1482524</th>\n",
       "      <td>Penn State Jogger Sweatpants</td>\n",
       "      <td>2</td>\n",
       "      <td>Women/Athletic Apparel/Tracksuits &amp; Sweats</td>\n",
       "      <td>Nike</td>\n",
       "      <td>26.0</td>\n",
       "      <td>0</td>\n",
       "      <td>▪️NWOT ▪️Perfect Condition ▪️Barely been worn ...</td>\n",
       "    </tr>\n",
       "    <tr>\n",
       "      <th>1482525</th>\n",
       "      <td>Red Victoria's Secret bra w sequins</td>\n",
       "      <td>2</td>\n",
       "      <td>Women/Underwear/Bras</td>\n",
       "      <td>PINK</td>\n",
       "      <td>7.0</td>\n",
       "      <td>1</td>\n",
       "      <td>Removable straps to make strapless Size: 34 B ...</td>\n",
       "    </tr>\n",
       "    <tr>\n",
       "      <th>1482526</th>\n",
       "      <td>Harry Potter Shirt! Women M/ Girl XL</td>\n",
       "      <td>2</td>\n",
       "      <td>Women/Tops &amp; Blouses/T-Shirts</td>\n",
       "      <td>NaN</td>\n",
       "      <td>12.0</td>\n",
       "      <td>0</td>\n",
       "      <td>Great Harry Potter Shirt! \"Hogwarts, School of...</td>\n",
       "    </tr>\n",
       "    <tr>\n",
       "      <th>1482527</th>\n",
       "      <td>Blk/white ribbed mock neck bodysuit M</td>\n",
       "      <td>1</td>\n",
       "      <td>Women/Tops &amp; Blouses/Blouse</td>\n",
       "      <td>NaN</td>\n",
       "      <td>10.0</td>\n",
       "      <td>1</td>\n",
       "      <td>Brand new black and white ribbed mock neck bod...</td>\n",
       "    </tr>\n",
       "    <tr>\n",
       "      <th>1482528</th>\n",
       "      <td>Victoria's Secret Tankini Sz. Large</td>\n",
       "      <td>2</td>\n",
       "      <td>Women/Athletic Apparel/Sports Bras</td>\n",
       "      <td>Victoria's Secret</td>\n",
       "      <td>18.0</td>\n",
       "      <td>1</td>\n",
       "      <td>Purple and Paisley Victoria's Secret Tankini S...</td>\n",
       "    </tr>\n",
       "    <tr>\n",
       "      <th>1482529</th>\n",
       "      <td>Men's UA [rm]</td>\n",
       "      <td>2</td>\n",
       "      <td>Men/Athletic Apparel/Shirts &amp; Tops</td>\n",
       "      <td>Under Armour</td>\n",
       "      <td>34.0</td>\n",
       "      <td>0</td>\n",
       "      <td>[rm] for the set both in perfect condition no ...</td>\n",
       "    </tr>\n",
       "    <tr>\n",
       "      <th>1482530</th>\n",
       "      <td>Free People Inspired Dress</td>\n",
       "      <td>2</td>\n",
       "      <td>Women/Dresses/Mid-Calf</td>\n",
       "      <td>Free People</td>\n",
       "      <td>20.0</td>\n",
       "      <td>1</td>\n",
       "      <td>Lace, says size small but fits medium perfectl...</td>\n",
       "    </tr>\n",
       "    <tr>\n",
       "      <th>1482531</th>\n",
       "      <td>Little mermaid handmade dress</td>\n",
       "      <td>2</td>\n",
       "      <td>Kids/Girls 2T-5T/Dresses</td>\n",
       "      <td>Disney</td>\n",
       "      <td>14.0</td>\n",
       "      <td>0</td>\n",
       "      <td>Little mermaid handmade dress never worn size 2t</td>\n",
       "    </tr>\n",
       "    <tr>\n",
       "      <th>1482532</th>\n",
       "      <td>21 day fix containers and eating plan</td>\n",
       "      <td>2</td>\n",
       "      <td>Sports &amp; Outdoors/Exercise/Fitness accessories</td>\n",
       "      <td>NaN</td>\n",
       "      <td>12.0</td>\n",
       "      <td>0</td>\n",
       "      <td>Used once or twice, still in great shape.</td>\n",
       "    </tr>\n",
       "    <tr>\n",
       "      <th>1482533</th>\n",
       "      <td>World markets lanterns</td>\n",
       "      <td>3</td>\n",
       "      <td>Home/Home Décor/Home Décor Accents</td>\n",
       "      <td>NaN</td>\n",
       "      <td>45.0</td>\n",
       "      <td>1</td>\n",
       "      <td>There is 2 of each one that you see! So 2 red ...</td>\n",
       "    </tr>\n",
       "    <tr>\n",
       "      <th>1482534</th>\n",
       "      <td>Brand new lux de ville wallet</td>\n",
       "      <td>1</td>\n",
       "      <td>Women/Women's Accessories/Wallets</td>\n",
       "      <td>NaN</td>\n",
       "      <td>22.0</td>\n",
       "      <td>0</td>\n",
       "      <td>New with tag, red with sparkle. Firm price, no...</td>\n",
       "    </tr>\n",
       "  </tbody>\n",
       "</table>\n",
       "<p>1482486 rows × 7 columns</p>\n",
       "</div>"
      ],
      "text/plain": [
       "                                             name  item_condition_id  \\\n",
       "train_id                                                               \n",
       "0             MLB Cincinnati Reds T Shirt Size XL                  3   \n",
       "1                Razer BlackWidow Chroma Keyboard                  3   \n",
       "2                                  AVA-VIV Blouse                  1   \n",
       "3                           Leather Horse Statues                  1   \n",
       "4                            24K GOLD plated rose                  1   \n",
       "5                Bundled items requested for Ruie                  3   \n",
       "6              Acacia pacific tides santorini top                  3   \n",
       "7            Girls cheer and tumbling bundle of 7                  3   \n",
       "8                           Girls Nike Pro shorts                  3   \n",
       "9          Porcelain clown doll checker pants VTG                  3   \n",
       "10                                Smashbox primer                  2   \n",
       "11                         New vs pi k body mists                  1   \n",
       "12                             Black Skater dress                  2   \n",
       "13                           Sharpener and eraser                  1   \n",
       "14             HOLD for Dogs2016 Minnetonka boots                  3   \n",
       "15                    Sephora tarte birthday gift                  1   \n",
       "16                              Glitter Eyeshadow                  1   \n",
       "17            New: Baby K'tan active baby carrier                  1   \n",
       "18            Too Faced Limited \"Merry Macaroons\"                  1   \n",
       "19                 Cream/ Beige Front Cross Shirt                  2   \n",
       "20                Torrid Nautical Peplum Tube Top                  3   \n",
       "21               NWT VS ULTIMATE SPORTS BRA 34ddd                  1   \n",
       "22                 Galaxy S7 Edge (Unlocked) 32GB                  3   \n",
       "23                             Triple car charger                  1   \n",
       "24                     Black and Red Baseball Tee                  2   \n",
       "25                          Air Jordan carmine 6s                  3   \n",
       "26        Otterbox Defender iPhone 6 Plus/6s Plus                  1   \n",
       "27         LuLaRoe OS Black With White Polka Dots                  3   \n",
       "28              Forever21 floral romper strapless                  2   \n",
       "29                                  Kendra bundle                  3   \n",
       "...                                           ...                ...   \n",
       "1482505                    NorthFace rain jacket!                  3   \n",
       "1482506                KitchenAid 4.5 quart mixer                  1   \n",
       "1482507              Grand Theft Auto V: XBOX ONE                  3   \n",
       "1482508                 Victoria secret black bag                  1   \n",
       "1482509                           Fitbit Charge 2                  3   \n",
       "1482510       2×Popsockets for all phone & Tablet                  1   \n",
       "1482511          Bebe Beauty Gloss Icon Lip Gloss                  1   \n",
       "1482512                                 Lululemon                  2   \n",
       "1482513         Yugioh Ultra Rare B. Skull Dragon                  3   \n",
       "1482514                      Anthropologie Purse!                  3   \n",
       "1482515                       Pink Yankees hoodie                  3   \n",
       "1482516      New Bath & Body Works Scented Candle                  1   \n",
       "1482517               34D VS PINK red push up bra                  3   \n",
       "1482518      Brooches: lot of 5 assorted (1 Coro)                  3   \n",
       "1482519              SALE! FreeShip VS Logo Thong                  1   \n",
       "1482520                          Bundle for BeSpa                  3   \n",
       "1482521        Tarte Amazonian clay 12 hour blush                  1   \n",
       "1482522               LG K7/Tribute 5 Hybrid Case                  1   \n",
       "1482523                   NARS illuminator orgasm                  3   \n",
       "1482524              Penn State Jogger Sweatpants                  2   \n",
       "1482525       Red Victoria's Secret bra w sequins                  2   \n",
       "1482526      Harry Potter Shirt! Women M/ Girl XL                  2   \n",
       "1482527     Blk/white ribbed mock neck bodysuit M                  1   \n",
       "1482528       Victoria's Secret Tankini Sz. Large                  2   \n",
       "1482529                             Men's UA [rm]                  2   \n",
       "1482530                Free People Inspired Dress                  2   \n",
       "1482531             Little mermaid handmade dress                  2   \n",
       "1482532     21 day fix containers and eating plan                  2   \n",
       "1482533                    World markets lanterns                  3   \n",
       "1482534             Brand new lux de ville wallet                  1   \n",
       "\n",
       "                                              category_name  \\\n",
       "train_id                                                      \n",
       "0                                         Men/Tops/T-shirts   \n",
       "1         Electronics/Computers & Tablets/Components & P...   \n",
       "2                               Women/Tops & Blouses/Blouse   \n",
       "3                        Home/Home Décor/Home Décor Accents   \n",
       "4                                   Women/Jewelry/Necklaces   \n",
       "5                                         Women/Other/Other   \n",
       "6                                  Women/Swimwear/Two-Piece   \n",
       "7                           Sports & Outdoors/Apparel/Girls   \n",
       "8                           Sports & Outdoors/Apparel/Girls   \n",
       "9                  Vintage & Collectibles/Collectibles/Doll   \n",
       "10                                       Beauty/Makeup/Face   \n",
       "11                                   Beauty/Fragrance/Women   \n",
       "12                           Women/Dresses/Above Knee, Mini   \n",
       "13                    Other/Office supplies/School Supplies   \n",
       "14                                        Women/Shoes/Boots   \n",
       "15                                Beauty/Makeup/Makeup Sets   \n",
       "16                                       Beauty/Makeup/Eyes   \n",
       "17                           Kids/Gear/Backpacks & Carriers   \n",
       "18                            Beauty/Makeup/Makeup Palettes   \n",
       "19                              Women/Tops & Blouses/Blouse   \n",
       "20                          Women/Tops & Blouses/Tank, Cami   \n",
       "21                       Women/Athletic Apparel/Sports Bras   \n",
       "22        Electronics/Cell Phones & Accessories/Cell Pho...   \n",
       "23        Electronics/Cell Phones & Accessories/Chargers...   \n",
       "24                            Women/Tops & Blouses/T-Shirts   \n",
       "25                                       Men/Shoes/Athletic   \n",
       "26        Electronics/Cell Phones & Accessories/Cases, C...   \n",
       "27           Women/Athletic Apparel/Pants, Tights, Leggings   \n",
       "28                                 Women/Swimwear/One-Piece   \n",
       "29                                     Women/Jeans/Boot Cut   \n",
       "...                                                     ...   \n",
       "1482505                      Women/Coats & Jackets/Raincoat   \n",
       "1482506             Home/Home Appliances/Kitchen Appliances   \n",
       "1482507            Electronics/Video Games & Consoles/Games   \n",
       "1482508                 Women/Women's Handbags/Shoulder Bag   \n",
       "1482509      Sports & Outdoors/Exercise/Fitness accessories   \n",
       "1482510   Electronics/Cell Phones & Accessories/Cell Pho...   \n",
       "1482511                                  Beauty/Makeup/Lips   \n",
       "1482512                Women/Athletic Apparel/Shirts & Tops   \n",
       "1482513      Vintage & Collectibles/Trading Cards/Animation   \n",
       "1482514                      Handmade/Bags and Purses/Purse   \n",
       "1482515                               Women/Sweaters/Hooded   \n",
       "1482516                   Home/Home Décor/Candles & Holders   \n",
       "1482517                                Women/Underwear/Bras   \n",
       "1482518               Vintage & Collectibles/Jewelry/Brooch   \n",
       "1482519                             Women/Underwear/Panties   \n",
       "1482520                       Kids/Boys 0-24 Mos/One-Pieces   \n",
       "1482521                                  Beauty/Makeup/Face   \n",
       "1482522   Electronics/Cell Phones & Accessories/Cases, C...   \n",
       "1482523                                  Beauty/Makeup/Face   \n",
       "1482524          Women/Athletic Apparel/Tracksuits & Sweats   \n",
       "1482525                                Women/Underwear/Bras   \n",
       "1482526                       Women/Tops & Blouses/T-Shirts   \n",
       "1482527                         Women/Tops & Blouses/Blouse   \n",
       "1482528                  Women/Athletic Apparel/Sports Bras   \n",
       "1482529                  Men/Athletic Apparel/Shirts & Tops   \n",
       "1482530                              Women/Dresses/Mid-Calf   \n",
       "1482531                            Kids/Girls 2T-5T/Dresses   \n",
       "1482532      Sports & Outdoors/Exercise/Fitness accessories   \n",
       "1482533                  Home/Home Décor/Home Décor Accents   \n",
       "1482534                   Women/Women's Accessories/Wallets   \n",
       "\n",
       "                 brand_name  price  shipping  \\\n",
       "train_id                                       \n",
       "0                       NaN   10.0         1   \n",
       "1                     Razer   52.0         0   \n",
       "2                    Target   10.0         1   \n",
       "3                       NaN   35.0         1   \n",
       "4                       NaN   44.0         0   \n",
       "5                       NaN   59.0         0   \n",
       "6           Acacia Swimwear   64.0         0   \n",
       "7                     Soffe    6.0         1   \n",
       "8                      Nike   19.0         0   \n",
       "9                       NaN    8.0         0   \n",
       "10                 Smashbox    8.0         1   \n",
       "11        Victoria's Secret   34.0         0   \n",
       "12                      rue   16.0         0   \n",
       "13               Scholastic    4.0         1   \n",
       "14            UGG Australia   43.0         0   \n",
       "15                    Tarte   11.0         1   \n",
       "16               Wet n Wild    6.0         1   \n",
       "17                      NaN   29.0         1   \n",
       "18                Too Faced   25.0         1   \n",
       "19            Anthropologie   27.0         0   \n",
       "20                   Torrid   13.0         1   \n",
       "21        Victoria's Secret   20.0         0   \n",
       "22                  Samsung  386.0         0   \n",
       "23                      NaN    8.0         1   \n",
       "24               FOREVER 21   10.0         0   \n",
       "25               Air Jordan   66.0         0   \n",
       "26                    Apple   13.0         1   \n",
       "27                  LuLaRoe   24.0         0   \n",
       "28               FOREVER 21    5.0         1   \n",
       "29                Hollister   16.0         1   \n",
       "...                     ...    ...       ...   \n",
       "1482505      The North Face   34.0         0   \n",
       "1482506          KitchenAid  165.0         0   \n",
       "1482507                 NaN   24.0         0   \n",
       "1482508   Victoria's Secret   21.0         0   \n",
       "1482509                 NaN   95.0         1   \n",
       "1482510                 NaN    9.0         1   \n",
       "1482511                 NaN    5.0         1   \n",
       "1482512           Lululemon   34.0         0   \n",
       "1482513              Konami    5.0         1   \n",
       "1482514                 NaN   23.0         0   \n",
       "1482515                PINK   20.0         1   \n",
       "1482516   Bath & Body Works   15.0         0   \n",
       "1482517                PINK   11.0         0   \n",
       "1482518                 NaN   10.0         1   \n",
       "1482519                PINK    9.0         1   \n",
       "1482520                 Gap   18.0         1   \n",
       "1482521               Tarte    9.0         1   \n",
       "1482522                 NaN    8.0         1   \n",
       "1482523                Nars    8.0         0   \n",
       "1482524                Nike   26.0         0   \n",
       "1482525                PINK    7.0         1   \n",
       "1482526                 NaN   12.0         0   \n",
       "1482527                 NaN   10.0         1   \n",
       "1482528   Victoria's Secret   18.0         1   \n",
       "1482529        Under Armour   34.0         0   \n",
       "1482530         Free People   20.0         1   \n",
       "1482531              Disney   14.0         0   \n",
       "1482532                 NaN   12.0         0   \n",
       "1482533                 NaN   45.0         1   \n",
       "1482534                 NaN   22.0         0   \n",
       "\n",
       "                                           item_description  \n",
       "train_id                                                     \n",
       "0                                        No description yet  \n",
       "1         This keyboard is in great condition and works ...  \n",
       "2         Adorable top with a hint of lace and a key hol...  \n",
       "3         New with tags. Leather horses. Retail for [rm]...  \n",
       "4                 Complete with certificate of authenticity  \n",
       "5         Banana republic bottoms, Candies skirt with ma...  \n",
       "6         Size small but straps slightly shortened to fi...  \n",
       "7         You get three pairs of Sophie cheer shorts siz...  \n",
       "8          Girls Size small Plus green. Three shorts total.  \n",
       "9         I realized his pants are on backwards after th...  \n",
       "10             0.25 oz Full size is 1oz for [rm] in Sephora  \n",
       "11        (5) new vs pink body mists (2.5 oz each) Fresh...  \n",
       "12                                      Xl, great condition  \n",
       "13                                       No description yet  \n",
       "14        Authentic. Suede fringe boots. Great condition...  \n",
       "15        Brand new. Deluxe travel size products. Contai...  \n",
       "16        2 glitter eyeshadows; one in Brass and one in ...  \n",
       "17        Brand new in box Size: Medium Color: Coral Ret...  \n",
       "18        This AUTHENTIC pallete by Too Faced is brand n...  \n",
       "19        Fancy, dressy or casual! Dress it up or down 1...  \n",
       "20                   Size 1. Worn once. Excellent condition  \n",
       "21        NWT Victoria's Secret ULTIMATE SPORT BRA -MAXI...  \n",
       "22        Reasonable offers welcomed. But if you ask \"lo...  \n",
       "23        Brand new never used All colors are available ...  \n",
       "24        lanascloset ~~~ description: never worn! ✨ i d...  \n",
       "25        They are 100 percent authentic. They are beate...  \n",
       "26        Brand new Otterbox Defender iPhone 6 Plus/6s Plus  \n",
       "27                       Worn one time. Excellent condition  \n",
       "28        Beautiful Excellent condition Zips and ties in...  \n",
       "29        29w. X 33l. Social stretch hollister jeans ***...  \n",
       "...                                                     ...  \n",
       "1482505   great condition! a few signs of wear on the in...  \n",
       "1482506   Brand new sealed in box kitchen aid kitchenaid...  \n",
       "1482507           Just the game and the case. Lightly used.  \n",
       "1482508                                       New with tags  \n",
       "1482509   Fit bit charge 2, comes with box, charger pack...  \n",
       "1482510   Popsockets for all phone & Tablet Add 1 clip m...  \n",
       "1482511   Brand: Bebe Beauty lip gloss, in color Icon. B...  \n",
       "1482512                                NWOT - Blue - size 8  \n",
       "1482513   Yu-Gi-Oh Ultra Rare Single Card in NM conditio...  \n",
       "1482514   Leather Navy and creme polka dot With brown ac...  \n",
       "1482515                                         Size medium  \n",
       "1482516   Bath & Body Works Scented Candle Vanilla Bloss...  \n",
       "1482517   To see all of the bras I have listed key in JB...  \n",
       "1482518           3 appear to be VTG. The pink one is Coro.  \n",
       "1482519   Brand new with tags, Victoria Secret logo thon...  \n",
       "1482520   Bundle of Baby Gap's First Favorites 3-6 month...  \n",
       "1482521                              Brand new, never used.  \n",
       "1482522   Perfect Design for LG Tribute 5 / LG K7, NOT f...  \n",
       "1482523   Still more than half left in this! Color is or...  \n",
       "1482524   ▪️NWOT ▪️Perfect Condition ▪️Barely been worn ...  \n",
       "1482525   Removable straps to make strapless Size: 34 B ...  \n",
       "1482526   Great Harry Potter Shirt! \"Hogwarts, School of...  \n",
       "1482527   Brand new black and white ribbed mock neck bod...  \n",
       "1482528   Purple and Paisley Victoria's Secret Tankini S...  \n",
       "1482529   [rm] for the set both in perfect condition no ...  \n",
       "1482530   Lace, says size small but fits medium perfectl...  \n",
       "1482531    Little mermaid handmade dress never worn size 2t  \n",
       "1482532           Used once or twice, still in great shape.  \n",
       "1482533   There is 2 of each one that you see! So 2 red ...  \n",
       "1482534   New with tag, red with sparkle. Firm price, no...  \n",
       "\n",
       "[1482486 rows x 7 columns]"
      ]
     },
     "execution_count": 11,
     "metadata": {},
     "output_type": "execute_result"
    }
   ],
   "source": [
    "train.drop_duplicates(keep=\"first\")"
   ]
  },
  {
   "cell_type": "markdown",
   "metadata": {},
   "source": [
    "Promotrimo opis target varijable-price:"
   ]
  },
  {
   "cell_type": "code",
   "execution_count": 12,
   "metadata": {},
   "outputs": [
    {
     "data": {
      "text/plain": [
       "count    1.482535e+06\n",
       "mean     2.673752e+01\n",
       "std      3.858607e+01\n",
       "min      0.000000e+00\n",
       "25%      1.000000e+01\n",
       "50%      1.700000e+01\n",
       "75%      2.900000e+01\n",
       "max      2.009000e+03\n",
       "Name: price, dtype: float64"
      ]
     },
     "execution_count": 12,
     "metadata": {},
     "output_type": "execute_result"
    }
   ],
   "source": [
    "train.price.describe()"
   ]
  },
  {
   "cell_type": "code",
   "execution_count": 30,
   "metadata": {},
   "outputs": [
    {
     "data": {
      "image/png": "[encoded data removed]",
      "text/plain": [
       "<Figure size 432x288 with 1 Axes>"
      ]
     },
     "metadata": {
      "needs_background": "light"
     },
     "output_type": "display_data"
    }
   ],
   "source": [
    "plt.grid(axis='y', alpha=0.75)\n",
    "plt.xlabel('Price')\n",
    "plt.ylabel('Frequency')\n",
    "plt.title('Distribucija cijene')\n",
    "plt.hist(train['price'], color = 'blue', edgecolor = 'black',\n",
    "    bins = 1000)\n",
    "plt.show()"
   ]
  },
  {
   "cell_type": "code",
   "execution_count": 14,
   "metadata": {},
   "outputs": [
    {
     "data": {
      "text/html": [
       "<div>\n",
       "<style scoped>\n",
       "    .dataframe tbody tr th:only-of-type {\n",
       "        vertical-align: middle;\n",
       "    }\n",
       "\n",
       "    .dataframe tbody tr th {\n",
       "        vertical-align: top;\n",
       "    }\n",
       "\n",
       "    .dataframe thead th {\n",
       "        text-align: right;\n",
       "    }\n",
       "</style>\n",
       "<table border=\"1\" class=\"dataframe\">\n",
       "  <thead>\n",
       "    <tr style=\"text-align: right;\">\n",
       "      <th></th>\n",
       "      <th>name</th>\n",
       "      <th>item_condition_id</th>\n",
       "      <th>category_name</th>\n",
       "      <th>brand_name</th>\n",
       "      <th>price</th>\n",
       "      <th>shipping</th>\n",
       "      <th>item_description</th>\n",
       "    </tr>\n",
       "    <tr>\n",
       "      <th>train_id</th>\n",
       "      <th></th>\n",
       "      <th></th>\n",
       "      <th></th>\n",
       "      <th></th>\n",
       "      <th></th>\n",
       "      <th></th>\n",
       "      <th></th>\n",
       "    </tr>\n",
       "  </thead>\n",
       "  <tbody>\n",
       "    <tr>\n",
       "      <th>760469</th>\n",
       "      <td>NEW Chanel WOC Caviar Gold Hardware</td>\n",
       "      <td>1</td>\n",
       "      <td>Women/Women's Handbags/Shoulder Bag</td>\n",
       "      <td>Chanel</td>\n",
       "      <td>2009.0</td>\n",
       "      <td>0</td>\n",
       "      <td>New with tag, box and dustbag but no receipt. ...</td>\n",
       "    </tr>\n",
       "    <tr>\n",
       "      <th>1262245</th>\n",
       "      <td>NEW-Chanel Boy Wallet o Chain WOC Caviar</td>\n",
       "      <td>1</td>\n",
       "      <td>Women/Women's Handbags/Messenger &amp; Crossbody</td>\n",
       "      <td>Chanel</td>\n",
       "      <td>2006.0</td>\n",
       "      <td>0</td>\n",
       "      <td>Brand: Chanel Style: WOC Boy Wallet on Chain T...</td>\n",
       "    </tr>\n",
       "    <tr>\n",
       "      <th>1393600</th>\n",
       "      <td>David Yurman Wheaton ring</td>\n",
       "      <td>2</td>\n",
       "      <td>Women/Jewelry/Rings</td>\n",
       "      <td>David Yurman</td>\n",
       "      <td>2004.0</td>\n",
       "      <td>0</td>\n",
       "      <td>David Yurman Wheaton wing. Size 6. Original re...</td>\n",
       "    </tr>\n",
       "    <tr>\n",
       "      <th>742113</th>\n",
       "      <td>Chanel Chevron Fuschia Pink 2</td>\n",
       "      <td>1</td>\n",
       "      <td>Women/Women's Handbags/Shoulder Bag</td>\n",
       "      <td>Chanel</td>\n",
       "      <td>2000.0</td>\n",
       "      <td>1</td>\n",
       "      <td>Authentic Brand new The price for this is [rm]...</td>\n",
       "    </tr>\n",
       "    <tr>\n",
       "      <th>956343</th>\n",
       "      <td>Chanel Black wallet on chain</td>\n",
       "      <td>1</td>\n",
       "      <td>Women/Women's Handbags/Messenger &amp; Crossbody</td>\n",
       "      <td>Chanel</td>\n",
       "      <td>2000.0</td>\n",
       "      <td>1</td>\n",
       "      <td>Lambskin Color is Black with dark Silver Hardw...</td>\n",
       "    </tr>\n",
       "  </tbody>\n",
       "</table>\n",
       "</div>"
      ],
      "text/plain": [
       "                                              name  item_condition_id  \\\n",
       "train_id                                                                \n",
       "760469         NEW Chanel WOC Caviar Gold Hardware                  1   \n",
       "1262245   NEW-Chanel Boy Wallet o Chain WOC Caviar                  1   \n",
       "1393600                  David Yurman Wheaton ring                  2   \n",
       "742113               Chanel Chevron Fuschia Pink 2                  1   \n",
       "956343                Chanel Black wallet on chain                  1   \n",
       "\n",
       "                                         category_name    brand_name   price  \\\n",
       "train_id                                                                       \n",
       "760469             Women/Women's Handbags/Shoulder Bag        Chanel  2009.0   \n",
       "1262245   Women/Women's Handbags/Messenger & Crossbody        Chanel  2006.0   \n",
       "1393600                            Women/Jewelry/Rings  David Yurman  2004.0   \n",
       "742113             Women/Women's Handbags/Shoulder Bag        Chanel  2000.0   \n",
       "956343    Women/Women's Handbags/Messenger & Crossbody        Chanel  2000.0   \n",
       "\n",
       "          shipping                                   item_description  \n",
       "train_id                                                               \n",
       "760469           0  New with tag, box and dustbag but no receipt. ...  \n",
       "1262245          0  Brand: Chanel Style: WOC Boy Wallet on Chain T...  \n",
       "1393600          0  David Yurman Wheaton wing. Size 6. Original re...  \n",
       "742113           1  Authentic Brand new The price for this is [rm]...  \n",
       "956343           1  Lambskin Color is Black with dark Silver Hardw...  "
      ]
     },
     "execution_count": 14,
     "metadata": {},
     "output_type": "execute_result"
    }
   ],
   "source": [
    "najskuplji=train.sort_values(by ='price', ascending=False).head(5)\n",
    "najskuplji"
   ]
  },
  {
   "cell_type": "code",
   "execution_count": 15,
   "metadata": {},
   "outputs": [
    {
     "data": {
      "text/html": [
       "<div>\n",
       "<style scoped>\n",
       "    .dataframe tbody tr th:only-of-type {\n",
       "        vertical-align: middle;\n",
       "    }\n",
       "\n",
       "    .dataframe tbody tr th {\n",
       "        vertical-align: top;\n",
       "    }\n",
       "\n",
       "    .dataframe thead th {\n",
       "        text-align: right;\n",
       "    }\n",
       "</style>\n",
       "<table border=\"1\" class=\"dataframe\">\n",
       "  <thead>\n",
       "    <tr style=\"text-align: right;\">\n",
       "      <th></th>\n",
       "      <th>name</th>\n",
       "      <th>item_condition_id</th>\n",
       "      <th>category_name</th>\n",
       "      <th>brand_name</th>\n",
       "      <th>price</th>\n",
       "      <th>shipping</th>\n",
       "      <th>item_description</th>\n",
       "    </tr>\n",
       "    <tr>\n",
       "      <th>train_id</th>\n",
       "      <th></th>\n",
       "      <th></th>\n",
       "      <th></th>\n",
       "      <th></th>\n",
       "      <th></th>\n",
       "      <th></th>\n",
       "      <th></th>\n",
       "    </tr>\n",
       "  </thead>\n",
       "  <tbody>\n",
       "    <tr>\n",
       "      <th>1079043</th>\n",
       "      <td>Modern + Pillow New!</td>\n",
       "      <td>1</td>\n",
       "      <td>Home/Home Décor/Home Décor Accents</td>\n",
       "      <td>NaN</td>\n",
       "      <td>0.0</td>\n",
       "      <td>0</td>\n",
       "      <td>Accent pillows liven up a room &amp; give it insta...</td>\n",
       "    </tr>\n",
       "    <tr>\n",
       "      <th>644432</th>\n",
       "      <td>Hawaiian Blue leggings in One Size</td>\n",
       "      <td>1</td>\n",
       "      <td>Women/Athletic Apparel/Pants, Tights, Leggings</td>\n",
       "      <td>Independent</td>\n",
       "      <td>0.0</td>\n",
       "      <td>1</td>\n",
       "      <td>Buttery soft, super comfy leggings. These are ...</td>\n",
       "    </tr>\n",
       "    <tr>\n",
       "      <th>461372</th>\n",
       "      <td>Lululemon lavender skort</td>\n",
       "      <td>3</td>\n",
       "      <td>Women/Athletic Apparel/Skirts, Skorts &amp; Dresses</td>\n",
       "      <td>Lululemon</td>\n",
       "      <td>0.0</td>\n",
       "      <td>0</td>\n",
       "      <td>Great condition!! No flaws. Only worn a few ti...</td>\n",
       "    </tr>\n",
       "    <tr>\n",
       "      <th>788994</th>\n",
       "      <td>PEACOCK FEATHERS 3M POPSOCKET PHONE GRIP</td>\n",
       "      <td>1</td>\n",
       "      <td>Electronics/Cell Phones &amp; Accessories/Cell Pho...</td>\n",
       "      <td>PopSockets</td>\n",
       "      <td>0.0</td>\n",
       "      <td>1</td>\n",
       "      <td>LATEST DESIGN! PEACOCK FEATHERS 3M Pop expanda...</td>\n",
       "    </tr>\n",
       "    <tr>\n",
       "      <th>996618</th>\n",
       "      <td>Jordan's Authentic Toddler Shoes</td>\n",
       "      <td>3</td>\n",
       "      <td>Kids/Boys 2T-5T/Shoes</td>\n",
       "      <td>NaN</td>\n",
       "      <td>0.0</td>\n",
       "      <td>0</td>\n",
       "      <td>Size 6C. Need a little cleaning because they h...</td>\n",
       "    </tr>\n",
       "  </tbody>\n",
       "</table>\n",
       "</div>"
      ],
      "text/plain": [
       "                                              name  item_condition_id  \\\n",
       "train_id                                                                \n",
       "1079043                       Modern + Pillow New!                  1   \n",
       "644432          Hawaiian Blue leggings in One Size                  1   \n",
       "461372                    Lululemon lavender skort                  3   \n",
       "788994    PEACOCK FEATHERS 3M POPSOCKET PHONE GRIP                  1   \n",
       "996618            Jordan's Authentic Toddler Shoes                  3   \n",
       "\n",
       "                                              category_name   brand_name  \\\n",
       "train_id                                                                   \n",
       "1079043                  Home/Home Décor/Home Décor Accents          NaN   \n",
       "644432       Women/Athletic Apparel/Pants, Tights, Leggings  Independent   \n",
       "461372      Women/Athletic Apparel/Skirts, Skorts & Dresses    Lululemon   \n",
       "788994    Electronics/Cell Phones & Accessories/Cell Pho...   PopSockets   \n",
       "996618                                Kids/Boys 2T-5T/Shoes          NaN   \n",
       "\n",
       "          price  shipping                                   item_description  \n",
       "train_id                                                                      \n",
       "1079043     0.0         0  Accent pillows liven up a room & give it insta...  \n",
       "644432      0.0         1  Buttery soft, super comfy leggings. These are ...  \n",
       "461372      0.0         0  Great condition!! No flaws. Only worn a few ti...  \n",
       "788994      0.0         1  LATEST DESIGN! PEACOCK FEATHERS 3M Pop expanda...  \n",
       "996618      0.0         0  Size 6C. Need a little cleaning because they h...  "
      ]
     },
     "execution_count": 15,
     "metadata": {},
     "output_type": "execute_result"
    }
   ],
   "source": [
    "najjeftiniji=train.sort_values(by ='price', ascending=True).head(5)\n",
    "najjeftiniji\n",
    "# Tko zna je li ovo greška ili to tako treba biti..."
   ]
  },
  {
   "cell_type": "markdown",
   "metadata": {},
   "source": [
    "### Nadopunjavanje stupca \"brandovi\""
   ]
  },
  {
   "cell_type": "markdown",
   "metadata": {},
   "source": [
    "S obzirom da prilično velik broj nedostajućih vrijednosti za stupac \"brandovi\", pokušat ćemo nadopuniti neke vrijednosti iz stupca \"name\", jer se tamo, bar koliko se može primijetiti iz ispisanih vrijednosti, često pojavljuje i ime marke. "
   ]
  },
  {
   "cell_type": "code",
   "execution_count": 21,
   "metadata": {},
   "outputs": [],
   "source": [
    "brandovi2=train['brand_name']\n",
    "brandovi1=test['brand_name']"
   ]
  },
  {
   "cell_type": "code",
   "execution_count": 22,
   "metadata": {
    "scrolled": true
   },
   "outputs": [
    {
     "data": {
      "text/plain": [
       "3900"
      ]
     },
     "execution_count": 22,
     "metadata": {},
     "output_type": "execute_result"
    }
   ],
   "source": [
    "brandovi1.nunique() #broj jedinstvenih imena brendova"
   ]
  },
  {
   "cell_type": "code",
   "execution_count": 23,
   "metadata": {
    "scrolled": true
   },
   "outputs": [
    {
     "data": {
      "text/plain": [
       "5289"
      ]
     },
     "execution_count": 23,
     "metadata": {},
     "output_type": "execute_result"
    }
   ],
   "source": [
    "svi_brandovi=set(brandovi1.values)\n",
    "for y in brandovi2:\n",
    "    svi_brandovi.add(y)\n",
    "svi_brandovi = {x for x in svi_brandovi if pd.notna(x)}\n",
    "len(svi_brandovi)"
   ]
  },
  {
   "cell_type": "code",
   "execution_count": 24,
   "metadata": {},
   "outputs": [
    {
     "data": {
      "text/plain": [
       "632682"
      ]
     },
     "execution_count": 24,
     "metadata": {},
     "output_type": "execute_result"
    }
   ],
   "source": [
    "train.brand_name.fillna(value='unknown', inplace=True)\n",
    "test.brand_name.fillna(value='unknown', inplace=True)\n",
    "missing_brands = sum(train['brand_name'] == 'unknown')\n",
    "missing_brands_test = sum(test['brand_name'] == 'unknown')\n",
    "missing_brands, missing_brands_test"
   ]
  },
  {
   "cell_type": "markdown",
   "metadata": {},
   "source": [
    "Prolazimo kroz training set i tražimo podudaranja između imena i skupa svih brandova."
   ]
  },
  {
   "cell_type": "code",
   "execution_count": 25,
   "metadata": {},
   "outputs": [],
   "source": [
    "def trazilica(objekt):\n",
    "    brand=objekt[0]\n",
    "    ime=objekt[1]\n",
    "    if brand=='unknown':\n",
    "        for i in ime:\n",
    "            if i in svi_brandovi:\n",
    "                return ime\n",
    "    if brand in svi_brandovi:\n",
    "        return ime\n",
    "    return brand\n",
    "train['brand_name']=train[['brand_name', 'name']].apply(trazilica, axis=1)\n",
    "test['brand_name']=test[['brand_name', 'name']].apply(trazilica, axis=1)"
   ]
  },
  {
   "cell_type": "code",
   "execution_count": 28,
   "metadata": {},
   "outputs": [
    {
     "data": {
      "text/plain": [
       "(489074, 228370)"
      ]
     },
     "execution_count": 28,
     "metadata": {},
     "output_type": "execute_result"
    }
   ],
   "source": [
    "missing_brands = sum(train['brand_name'] == 'unknown')\n",
    "missing_brands_test = sum(test['brand_name'] == 'unknown')\n",
    "missing_brands, missing_brands_test"
   ]
  },
  {
   "cell_type": "markdown",
   "metadata": {},
   "source": [
    "### Analiza brandova"
   ]
  },
  {
   "cell_type": "code",
   "execution_count": 21,
   "metadata": {},
   "outputs": [
    {
     "data": {
      "text/plain": [
       "<matplotlib.axes._subplots.AxesSubplot at 0x17d1f994400>"
      ]
     },
     "execution_count": 21,
     "metadata": {},
     "output_type": "execute_result"
    },
    {
     "data": {
      "image/png": "[encoded data removed]",
      "text/plain": [
       "<Figure size 360x360 with 1 Axes>"
      ]
     },
     "metadata": {
      "needs_background": "light"
     },
     "output_type": "display_data"
    }
   ],
   "source": [
    "fig = plt.figure(figsize=[5, 5]) \n",
    "ax1 = fig.add_subplot(111)\n",
    "train.dropna().boxplot(column = 'price',  by = ['item_condition_id'], ax= ax1)"
   ]
  },
  {
   "cell_type": "code",
   "execution_count": 22,
   "metadata": {},
   "outputs": [
    {
     "data": {
      "text/plain": [
       "<matplotlib.axes._subplots.AxesSubplot at 0x17d1fa95978>"
      ]
     },
     "execution_count": 22,
     "metadata": {},
     "output_type": "execute_result"
    },
    {
     "data": {
      "image/png": "[encoded data removed]",
      "text/plain": [
       "<Figure size 360x360 with 1 Axes>"
      ]
     },
     "metadata": {
      "needs_background": "light"
     },
     "output_type": "display_data"
    }
   ],
   "source": [
    "fig = plt.figure(figsize=[5, 5]) \n",
    "ax1 = fig.add_subplot(111)\n",
    "train.dropna().boxplot(column = 'price',  by = ['shipping'], ax= ax1)"
   ]
  },
  {
   "cell_type": "markdown",
   "metadata": {},
   "source": [
    "### Analiza opisa "
   ]
  },
  {
   "cell_type": "code",
   "execution_count": 12,
   "metadata": {},
   "outputs": [],
   "source": [
    "from textblob import TextBlob"
   ]
  },
  {
   "cell_type": "code",
   "execution_count": 13,
   "metadata": {},
   "outputs": [],
   "source": [
    "df=pd.read_csv('train.tsv', sep='\\t') #učitavanje training tablice"
   ]
  },
  {
   "cell_type": "code",
   "execution_count": 14,
   "metadata": {},
   "outputs": [],
   "source": [
    "df = df[~df['item_description'].isnull()]\n",
    "df = df[df['item_description']!='No description yet']\n",
    "\n",
    "def preprocess(ReviewText):\n",
    "    ReviewText = ReviewText.str.replace(\"(<br/>)\", \"\")\n",
    "    ReviewText = ReviewText.str.replace('(<a).*(>).*(</a>)', '')\n",
    "    ReviewText = ReviewText.str.replace('(&amp)', '')\n",
    "    ReviewText = ReviewText.str.replace('(&gt)', '')\n",
    "    ReviewText = ReviewText.str.replace('(&lt)', '')\n",
    "    ReviewText = ReviewText.str.replace('(\\xa0)', ' ')  \n",
    "    return ReviewText\n",
    "\n",
    "df['item_description'] = preprocess(df['item_description'])\n",
    "\n",
    "df.insert(loc=len(df.columns), column='polarity', value=0)\n",
    "df.insert(loc=len(df.columns), column='word_count', value=0)\n"
   ]
  },
  {
   "cell_type": "code",
   "execution_count": 15,
   "metadata": {},
   "outputs": [],
   "source": [
    "\n",
    "df['polarity'] = df['item_description'].map(lambda text: TextBlob(text).sentiment.polarity)\n",
    "df['description_length'] = df['item_description'].astype(str).apply(len)\n",
    "df['word_count'] = df['item_description'].apply(lambda x: len(str(x).split()))"
   ]
  },
  {
   "cell_type": "code",
   "execution_count": 16,
   "metadata": {},
   "outputs": [
    {
     "name": "stdout",
     "output_type": "stream",
     "text": [
      "Pet nasumičnih opisa najpozitivnijeg tona: \n",
      "\n",
      "Excellent used condition. Will combine shipping.\n",
      "Tested and working Authentic!!!!!\n",
      "Excellent Condition.\n",
      "Be awesome!\n",
      "Worn once. Washed per LLR instructions. Excellent condition.\n"
     ]
    }
   ],
   "source": [
    "print('Pet nasumičnih opisa najpozitivnijeg tona: \\n')\n",
    "cl = df.loc[df.polarity == 1, ['item_description']].sample(5).values\n",
    "for c in cl:\n",
    "    print(c[0])"
   ]
  },
  {
   "cell_type": "code",
   "execution_count": 17,
   "metadata": {},
   "outputs": [
    {
     "name": "stdout",
     "output_type": "stream",
     "text": [
      "Pet nasumičnih opisa neutralnog tona: \n",
      "\n",
      "9 Magnum condoms not opened Box was opened and one was used Expiration is 11-01-2019\n",
      "Nwot Strapless\n",
      "2 justice tops\n",
      "(2) pumpkin spice (1) white chocolate peppermint (3) Vanilla. Expires 11/2017. The pumpkin and white chocolate is 200 calories 22 grams of protein. The vanilla is 210 calories 24 grams of protein\n",
      "LuLaRoe Outfit SZ 14 Gracie, Tween leggings\n"
     ]
    }
   ],
   "source": [
    "print('Pet nasumičnih opisa neutralnog tona: \\n')\n",
    "c2 = df.loc[df.polarity == 0, ['item_description']].sample(5).values\n",
    "for c in c2:\n",
    "    print(c[0])"
   ]
  },
  {
   "cell_type": "code",
   "execution_count": 18,
   "metadata": {},
   "outputs": [
    {
     "name": "stdout",
     "output_type": "stream",
     "text": [
      "Pet nasumičnih opisa negativnog tona: \n",
      "\n",
      "Blueray movie Resident Evil degeneration no scratches\n",
      "Bag of wood bead and evil eyes\n",
      "Chaos comics 1992. VF to NM Evil Ernie the resurrection #1, #2, #4.\n",
      "Bought but never used .. :'(\n",
      "Floral romper as seen on nasty gal and Tobi\n"
     ]
    }
   ],
   "source": [
    "print('Pet nasumičnih opisa negativnog tona: \\n')\n",
    "c3 = df.loc[df.polarity == -1, ['item_description']].sample(5).values\n",
    "for c in c3:\n",
    "    print(c[0])"
   ]
  },
  {
   "cell_type": "code",
   "execution_count": 19,
   "metadata": {},
   "outputs": [
    {
     "data": {
      "image/png": "[encoded data removed]",
      "text/plain": [
       "<Figure size 432x288 with 1 Axes>"
      ]
     },
     "metadata": {
      "needs_background": "light"
     },
     "output_type": "display_data"
    }
   ],
   "source": [
    "plt.grid(axis='y', alpha=0.75)\n",
    "plt.xlabel('Polarnost')\n",
    "plt.ylabel('Broj opisa')\n",
    "plt.title('Distribucija polariteta sentimenta')\n",
    "plt.hist(df['polarity'], color = 'blue', edgecolor = 'black',\n",
    "    bins = 200)\n",
    "plt.show()"
   ]
  },
  {
   "cell_type": "code",
   "execution_count": 20,
   "metadata": {},
   "outputs": [
    {
     "data": {
      "image/png": "[encoded data removed]",
      "text/plain": [
       "<Figure size 432x288 with 1 Axes>"
      ]
     },
     "metadata": {
      "needs_background": "light"
     },
     "output_type": "display_data"
    }
   ],
   "source": [
    "plt.grid(axis='y', alpha=0.75)\n",
    "plt.xlabel('Broj riječi u opisu')\n",
    "plt.ylabel('Broj opisa')\n",
    "plt.title('Distribucija broja riječi')\n",
    "plt.hist(df['word_count'], color = 'blue', edgecolor = 'black',\n",
    "    bins = 200)\n",
    "plt.show()"
   ]
  },
  {
   "cell_type": "code",
   "execution_count": 21,
   "metadata": {},
   "outputs": [
    {
     "data": {
      "text/plain": [
       "0.014931981714400463"
      ]
     },
     "execution_count": 21,
     "metadata": {},
     "output_type": "execute_result"
    }
   ],
   "source": [
    "df['polarity'].corr(df['price'])"
   ]
  },
  {
   "cell_type": "code",
   "execution_count": 22,
   "metadata": {},
   "outputs": [
    {
     "data": {
      "text/plain": [
       "0.044540842125181446"
      ]
     },
     "execution_count": 22,
     "metadata": {},
     "output_type": "execute_result"
    }
   ],
   "source": [
    "df['word_count'].corr(df['price'])"
   ]
  },
  {
   "cell_type": "markdown",
   "metadata": {},
   "source": [
    "Tražimo najčešće korištene riječi u opisima:"
   ]
  },
  {
   "cell_type": "code",
   "execution_count": 32,
   "metadata": {},
   "outputs": [
    {
     "name": "stdout",
     "output_type": "stream",
     "text": [
      "new 499697\n",
      "size 456225\n",
      "brand 274491\n",
      "free 271222\n",
      "condition 256095\n",
      "shipping 227052\n",
      "rm 225061\n",
      "worn 187194\n",
      "used 184345\n",
      "great 154554\n",
      "black 153516\n",
      "price 151228\n",
      "bundle 126193\n",
      "color 123810\n",
      "pink 123012\n",
      "small 117644\n",
      "like 114691\n",
      "good 105608\n",
      "box 101634\n",
      "tags 101427\n"
     ]
    }
   ],
   "source": [
    "from sklearn.feature_extraction.text import CountVectorizer\n",
    "def get_top_n_words(corpus, n=None):\n",
    "    vec = CountVectorizer(stop_words = 'english').fit(corpus)\n",
    "    bag_of_words = vec.transform(corpus)\n",
    "    sum_words = bag_of_words.sum(axis=0) \n",
    "    words_freq = [(word, sum_words[0, idx]) for word, idx in vec.vocabulary_.items()]\n",
    "    words_freq =sorted(words_freq, key = lambda x: x[1], reverse=True)\n",
    "    return words_freq[:n]\n",
    "common_words = get_top_n_words(df['item_description'], 20)\n",
    "for word, freq in common_words:\n",
    "    print(word, freq)\n",
    "df2 = pd.DataFrame(common_words, columns = ['item_description' , 'count'])"
   ]
  },
  {
   "cell_type": "code",
   "execution_count": 33,
   "metadata": {},
   "outputs": [
    {
     "data": {
      "text/plain": [
       "<matplotlib.axes._subplots.AxesSubplot at 0x17d600a8d30>"
      ]
     },
     "execution_count": 33,
     "metadata": {},
     "output_type": "execute_result"
    },
    {
     "data": {
      "image/png": "[encoded data removed]",
      "text/plain": [
       "<Figure size 432x288 with 1 Axes>"
      ]
     },
     "metadata": {
      "needs_background": "light"
     },
     "output_type": "display_data"
    }
   ],
   "source": [
    "df2.plot.barh(x='item_description', y='count', rot=0)"
   ]
  },
  {
   "cell_type": "code",
   "execution_count": 34,
   "metadata": {},
   "outputs": [
    {
     "name": "stdout",
     "output_type": "stream",
     "text": [
      "brand new 238158\n",
      "free shipping 116795\n",
      "price firm 68282\n",
      "great condition 64385\n",
      "good condition 63990\n",
      "new tags 62223\n",
      "free home 47765\n",
      "smoke free 46510\n",
      "like new 45747\n",
      "size small 42089\n",
      "victoria secret 40429\n",
      "size medium 36084\n",
      "excellent condition 35089\n",
      "bundle save 34914\n",
      "new box 29254\n",
      "size large 28783\n",
      "super cute 27705\n",
      "new used 27312\n",
      "rm rm 25932\n",
      "new worn 22421\n"
     ]
    }
   ],
   "source": [
    "def get_top_n_bigram(corpus, n=None):\n",
    "    vec = CountVectorizer(ngram_range=(2, 2), stop_words='english').fit(corpus)\n",
    "    bag_of_words = vec.transform(corpus)\n",
    "    sum_words = bag_of_words.sum(axis=0) \n",
    "    words_freq = [(word, sum_words[0, idx]) for word, idx in vec.vocabulary_.items()]\n",
    "    words_freq =sorted(words_freq, key = lambda x: x[1], reverse=True)\n",
    "    return words_freq[:n]\n",
    "common_words = get_top_n_bigram(df['item_description'], 20)\n",
    "for word, freq in common_words:\n",
    "    print(word, freq)\n",
    "df3 = pd.DataFrame(common_words, columns = ['item_description' , 'count'])"
   ]
  },
  {
   "cell_type": "code",
   "execution_count": 35,
   "metadata": {},
   "outputs": [
    {
     "data": {
      "text/plain": [
       "<matplotlib.axes._subplots.AxesSubplot at 0x17d00b03cf8>"
      ]
     },
     "execution_count": 35,
     "metadata": {},
     "output_type": "execute_result"
    },
    {
     "data": {
      "image/png": "[encoded data removed]",
      "text/plain": [
       "<Figure size 432x288 with 1 Axes>"
      ]
     },
     "metadata": {
      "needs_background": "light"
     },
     "output_type": "display_data"
    }
   ],
   "source": [
    "df3.plot.barh(x='item_description', y='count', rot=0)"
   ]
  }
 ],
 "metadata": {
  "kernelspec": {
   "display_name": "Python 3",
   "language": "python",
   "name": "python3"
  },
  "language_info": {
   "codemirror_mode": {
    "name": "ipython",
    "version": 3
   },
   "file_extension": ".py",
   "mimetype": "text/x-python",
   "name": "python",
   "nbconvert_exporter": "python",
   "pygments_lexer": "ipython3",
   "version": "3.7.1"
  }
 },
 "nbformat": 4,
 "nbformat_minor": 2
}
